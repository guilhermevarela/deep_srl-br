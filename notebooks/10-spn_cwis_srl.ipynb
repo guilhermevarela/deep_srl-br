{
 "cells": [
  {
   "cell_type": "code",
   "execution_count": 3,
   "metadata": {
    "collapsed": true
   },
   "outputs": [],
   "source": [
    "import sys\n",
    "sys.path.insert(0,'../models/')\n",
    "sys.path.insert(0,'../datasets/')\n",
    "sys.path.insert(0,'..')\n",
    "\n",
    "import pandas as pd\n",
    "import numpy as np\n",
    "import json\n",
    "from subprocess import Popen, PIPE, STDOUT\n",
    "import re\n",
    "from collections import defaultdict\n",
    "\n",
    "import tensorflow as tf\n",
    "import tqdm\n",
    "from models import PropbankEncoder\n",
    "import config\n",
    "\n",
    "INPUT_DIR = '../datasets/binaries/'\n",
    "PROPBANK_GLO50_PATH = '{:}deep_glo50.pickle'.format(INPUT_DIR)\n"
   ]
  },
  {
   "cell_type": "markdown",
   "metadata": {},
   "source": [
    "<h1><center>Structured Y Network CWIS SRL (BR)</center></h1>"
   ]
  },
  {
   "cell_type": "markdown",
   "metadata": {},
   "source": [
    "<center>In this notebook we solve the semantic role labeling task using structured predictions networks.</center>"
   ]
  },
  {
   "cell_type": "markdown",
   "metadata": {},
   "source": [
    "## 1. Builds a \"human friendly\" version of the dataset"
   ]
  },
  {
   "cell_type": "code",
   "execution_count": 4,
   "metadata": {},
   "outputs": [
    {
     "data": {
      "text/html": [
       "<div>\n",
       "<style scoped>\n",
       "    .dataframe tbody tr th:only-of-type {\n",
       "        vertical-align: middle;\n",
       "    }\n",
       "\n",
       "    .dataframe tbody tr th {\n",
       "        vertical-align: top;\n",
       "    }\n",
       "\n",
       "    .dataframe thead th {\n",
       "        text-align: right;\n",
       "    }\n",
       "</style>\n",
       "<table border=\"1\" class=\"dataframe\">\n",
       "  <thead>\n",
       "    <tr style=\"text-align: right;\">\n",
       "      <th></th>\n",
       "      <th>ID</th>\n",
       "      <th>P</th>\n",
       "      <th>FORM</th>\n",
       "      <th>ARG</th>\n",
       "      <th>T</th>\n",
       "      <th>CHUNK_ID</th>\n",
       "      <th>CHUNK_START</th>\n",
       "      <th>CHUNK_FINISH</th>\n",
       "      <th>CHUNK_LEN</th>\n",
       "      <th>CHUNK_CANDIDATE_ID</th>\n",
       "    </tr>\n",
       "    <tr>\n",
       "      <th>INDEX</th>\n",
       "      <th></th>\n",
       "      <th></th>\n",
       "      <th></th>\n",
       "      <th></th>\n",
       "      <th></th>\n",
       "      <th></th>\n",
       "      <th></th>\n",
       "      <th></th>\n",
       "      <th></th>\n",
       "      <th></th>\n",
       "    </tr>\n",
       "  </thead>\n",
       "  <tbody>\n",
       "    <tr>\n",
       "      <th>0</th>\n",
       "      <td>1</td>\n",
       "      <td>1</td>\n",
       "      <td>Brasília</td>\n",
       "      <td>*</td>\n",
       "      <td>*</td>\n",
       "      <td>1</td>\n",
       "      <td>0</td>\n",
       "      <td>1</td>\n",
       "      <td>1</td>\n",
       "      <td>0</td>\n",
       "    </tr>\n",
       "    <tr>\n",
       "      <th>1</th>\n",
       "      <td>2</td>\n",
       "      <td>1</td>\n",
       "      <td>Pesquisa_Datafolha</td>\n",
       "      <td>(A0*</td>\n",
       "      <td>A0</td>\n",
       "      <td>2</td>\n",
       "      <td>1</td>\n",
       "      <td>4</td>\n",
       "      <td>3</td>\n",
       "      <td>35</td>\n",
       "    </tr>\n",
       "    <tr>\n",
       "      <th>2</th>\n",
       "      <td>3</td>\n",
       "      <td>1</td>\n",
       "      <td>publicada</td>\n",
       "      <td>*</td>\n",
       "      <td>A0</td>\n",
       "      <td>2</td>\n",
       "      <td>1</td>\n",
       "      <td>4</td>\n",
       "      <td>3</td>\n",
       "      <td>35</td>\n",
       "    </tr>\n",
       "    <tr>\n",
       "      <th>3</th>\n",
       "      <td>4</td>\n",
       "      <td>1</td>\n",
       "      <td>hoje</td>\n",
       "      <td>*)</td>\n",
       "      <td>A0</td>\n",
       "      <td>2</td>\n",
       "      <td>1</td>\n",
       "      <td>4</td>\n",
       "      <td>3</td>\n",
       "      <td>35</td>\n",
       "    </tr>\n",
       "    <tr>\n",
       "      <th>4</th>\n",
       "      <td>5</td>\n",
       "      <td>1</td>\n",
       "      <td>revela</td>\n",
       "      <td>(V*)</td>\n",
       "      <td>V</td>\n",
       "      <td>3</td>\n",
       "      <td>4</td>\n",
       "      <td>5</td>\n",
       "      <td>1</td>\n",
       "      <td>126</td>\n",
       "    </tr>\n",
       "    <tr>\n",
       "      <th>5</th>\n",
       "      <td>6</td>\n",
       "      <td>1</td>\n",
       "      <td>um</td>\n",
       "      <td>(A1*</td>\n",
       "      <td>A1</td>\n",
       "      <td>4</td>\n",
       "      <td>5</td>\n",
       "      <td>32</td>\n",
       "      <td>27</td>\n",
       "      <td>181</td>\n",
       "    </tr>\n",
       "    <tr>\n",
       "      <th>6</th>\n",
       "      <td>7</td>\n",
       "      <td>1</td>\n",
       "      <td>dado</td>\n",
       "      <td>*</td>\n",
       "      <td>A1</td>\n",
       "      <td>4</td>\n",
       "      <td>5</td>\n",
       "      <td>32</td>\n",
       "      <td>27</td>\n",
       "      <td>181</td>\n",
       "    </tr>\n",
       "    <tr>\n",
       "      <th>7</th>\n",
       "      <td>8</td>\n",
       "      <td>1</td>\n",
       "      <td>supreendente</td>\n",
       "      <td>*</td>\n",
       "      <td>A1</td>\n",
       "      <td>4</td>\n",
       "      <td>5</td>\n",
       "      <td>32</td>\n",
       "      <td>27</td>\n",
       "      <td>181</td>\n",
       "    </tr>\n",
       "    <tr>\n",
       "      <th>8</th>\n",
       "      <td>9</td>\n",
       "      <td>1</td>\n",
       "      <td>:</td>\n",
       "      <td>*</td>\n",
       "      <td>A1</td>\n",
       "      <td>4</td>\n",
       "      <td>5</td>\n",
       "      <td>32</td>\n",
       "      <td>27</td>\n",
       "      <td>181</td>\n",
       "    </tr>\n",
       "    <tr>\n",
       "      <th>9</th>\n",
       "      <td>10</td>\n",
       "      <td>1</td>\n",
       "      <td>recusando</td>\n",
       "      <td>*</td>\n",
       "      <td>A1</td>\n",
       "      <td>4</td>\n",
       "      <td>5</td>\n",
       "      <td>32</td>\n",
       "      <td>27</td>\n",
       "      <td>181</td>\n",
       "    </tr>\n",
       "    <tr>\n",
       "      <th>10</th>\n",
       "      <td>11</td>\n",
       "      <td>1</td>\n",
       "      <td>uma</td>\n",
       "      <td>*</td>\n",
       "      <td>A1</td>\n",
       "      <td>4</td>\n",
       "      <td>5</td>\n",
       "      <td>32</td>\n",
       "      <td>27</td>\n",
       "      <td>181</td>\n",
       "    </tr>\n",
       "    <tr>\n",
       "      <th>11</th>\n",
       "      <td>12</td>\n",
       "      <td>1</td>\n",
       "      <td>postura</td>\n",
       "      <td>*</td>\n",
       "      <td>A1</td>\n",
       "      <td>4</td>\n",
       "      <td>5</td>\n",
       "      <td>32</td>\n",
       "      <td>27</td>\n",
       "      <td>181</td>\n",
       "    </tr>\n",
       "    <tr>\n",
       "      <th>12</th>\n",
       "      <td>13</td>\n",
       "      <td>1</td>\n",
       "      <td>radical</td>\n",
       "      <td>*</td>\n",
       "      <td>A1</td>\n",
       "      <td>4</td>\n",
       "      <td>5</td>\n",
       "      <td>32</td>\n",
       "      <td>27</td>\n",
       "      <td>181</td>\n",
       "    </tr>\n",
       "    <tr>\n",
       "      <th>13</th>\n",
       "      <td>14</td>\n",
       "      <td>1</td>\n",
       "      <td>,</td>\n",
       "      <td>*</td>\n",
       "      <td>A1</td>\n",
       "      <td>4</td>\n",
       "      <td>5</td>\n",
       "      <td>32</td>\n",
       "      <td>27</td>\n",
       "      <td>181</td>\n",
       "    </tr>\n",
       "    <tr>\n",
       "      <th>14</th>\n",
       "      <td>15</td>\n",
       "      <td>1</td>\n",
       "      <td>a</td>\n",
       "      <td>*</td>\n",
       "      <td>A1</td>\n",
       "      <td>4</td>\n",
       "      <td>5</td>\n",
       "      <td>32</td>\n",
       "      <td>27</td>\n",
       "      <td>181</td>\n",
       "    </tr>\n",
       "    <tr>\n",
       "      <th>15</th>\n",
       "      <td>16</td>\n",
       "      <td>1</td>\n",
       "      <td>esmagadora</td>\n",
       "      <td>*</td>\n",
       "      <td>A1</td>\n",
       "      <td>4</td>\n",
       "      <td>5</td>\n",
       "      <td>32</td>\n",
       "      <td>27</td>\n",
       "      <td>181</td>\n",
       "    </tr>\n",
       "    <tr>\n",
       "      <th>16</th>\n",
       "      <td>17</td>\n",
       "      <td>1</td>\n",
       "      <td>maioria</td>\n",
       "      <td>*</td>\n",
       "      <td>A1</td>\n",
       "      <td>4</td>\n",
       "      <td>5</td>\n",
       "      <td>32</td>\n",
       "      <td>27</td>\n",
       "      <td>181</td>\n",
       "    </tr>\n",
       "    <tr>\n",
       "      <th>17</th>\n",
       "      <td>18</td>\n",
       "      <td>1</td>\n",
       "      <td>(</td>\n",
       "      <td>*</td>\n",
       "      <td>A1</td>\n",
       "      <td>4</td>\n",
       "      <td>5</td>\n",
       "      <td>32</td>\n",
       "      <td>27</td>\n",
       "      <td>181</td>\n",
       "    </tr>\n",
       "    <tr>\n",
       "      <th>18</th>\n",
       "      <td>19</td>\n",
       "      <td>1</td>\n",
       "      <td>77</td>\n",
       "      <td>*</td>\n",
       "      <td>A1</td>\n",
       "      <td>4</td>\n",
       "      <td>5</td>\n",
       "      <td>32</td>\n",
       "      <td>27</td>\n",
       "      <td>181</td>\n",
       "    </tr>\n",
       "    <tr>\n",
       "      <th>19</th>\n",
       "      <td>20</td>\n",
       "      <td>1</td>\n",
       "      <td>%</td>\n",
       "      <td>*</td>\n",
       "      <td>A1</td>\n",
       "      <td>4</td>\n",
       "      <td>5</td>\n",
       "      <td>32</td>\n",
       "      <td>27</td>\n",
       "      <td>181</td>\n",
       "    </tr>\n",
       "    <tr>\n",
       "      <th>20</th>\n",
       "      <td>21</td>\n",
       "      <td>1</td>\n",
       "      <td>)</td>\n",
       "      <td>*</td>\n",
       "      <td>A1</td>\n",
       "      <td>4</td>\n",
       "      <td>5</td>\n",
       "      <td>32</td>\n",
       "      <td>27</td>\n",
       "      <td>181</td>\n",
       "    </tr>\n",
       "    <tr>\n",
       "      <th>21</th>\n",
       "      <td>22</td>\n",
       "      <td>1</td>\n",
       "      <td>de</td>\n",
       "      <td>*</td>\n",
       "      <td>A1</td>\n",
       "      <td>4</td>\n",
       "      <td>5</td>\n",
       "      <td>32</td>\n",
       "      <td>27</td>\n",
       "      <td>181</td>\n",
       "    </tr>\n",
       "    <tr>\n",
       "      <th>22</th>\n",
       "      <td>23</td>\n",
       "      <td>1</td>\n",
       "      <td>os</td>\n",
       "      <td>*</td>\n",
       "      <td>A1</td>\n",
       "      <td>4</td>\n",
       "      <td>5</td>\n",
       "      <td>32</td>\n",
       "      <td>27</td>\n",
       "      <td>181</td>\n",
       "    </tr>\n",
       "    <tr>\n",
       "      <th>23</th>\n",
       "      <td>24</td>\n",
       "      <td>1</td>\n",
       "      <td>eleitores</td>\n",
       "      <td>*</td>\n",
       "      <td>A1</td>\n",
       "      <td>4</td>\n",
       "      <td>5</td>\n",
       "      <td>32</td>\n",
       "      <td>27</td>\n",
       "      <td>181</td>\n",
       "    </tr>\n",
       "    <tr>\n",
       "      <th>24</th>\n",
       "      <td>25</td>\n",
       "      <td>1</td>\n",
       "      <td>quer</td>\n",
       "      <td>*</td>\n",
       "      <td>A1</td>\n",
       "      <td>4</td>\n",
       "      <td>5</td>\n",
       "      <td>32</td>\n",
       "      <td>27</td>\n",
       "      <td>181</td>\n",
       "    </tr>\n",
       "    <tr>\n",
       "      <th>25</th>\n",
       "      <td>26</td>\n",
       "      <td>1</td>\n",
       "      <td>o</td>\n",
       "      <td>*</td>\n",
       "      <td>A1</td>\n",
       "      <td>4</td>\n",
       "      <td>5</td>\n",
       "      <td>32</td>\n",
       "      <td>27</td>\n",
       "      <td>181</td>\n",
       "    </tr>\n",
       "    <tr>\n",
       "      <th>26</th>\n",
       "      <td>27</td>\n",
       "      <td>1</td>\n",
       "      <td>PT</td>\n",
       "      <td>*</td>\n",
       "      <td>A1</td>\n",
       "      <td>4</td>\n",
       "      <td>5</td>\n",
       "      <td>32</td>\n",
       "      <td>27</td>\n",
       "      <td>181</td>\n",
       "    </tr>\n",
       "    <tr>\n",
       "      <th>27</th>\n",
       "      <td>28</td>\n",
       "      <td>1</td>\n",
       "      <td>participando</td>\n",
       "      <td>*</td>\n",
       "      <td>A1</td>\n",
       "      <td>4</td>\n",
       "      <td>5</td>\n",
       "      <td>32</td>\n",
       "      <td>27</td>\n",
       "      <td>181</td>\n",
       "    </tr>\n",
       "    <tr>\n",
       "      <th>28</th>\n",
       "      <td>29</td>\n",
       "      <td>1</td>\n",
       "      <td>de</td>\n",
       "      <td>*</td>\n",
       "      <td>A1</td>\n",
       "      <td>4</td>\n",
       "      <td>5</td>\n",
       "      <td>32</td>\n",
       "      <td>27</td>\n",
       "      <td>181</td>\n",
       "    </tr>\n",
       "    <tr>\n",
       "      <th>29</th>\n",
       "      <td>30</td>\n",
       "      <td>1</td>\n",
       "      <td>o</td>\n",
       "      <td>*</td>\n",
       "      <td>A1</td>\n",
       "      <td>4</td>\n",
       "      <td>5</td>\n",
       "      <td>32</td>\n",
       "      <td>27</td>\n",
       "      <td>181</td>\n",
       "    </tr>\n",
       "    <tr>\n",
       "      <th>30</th>\n",
       "      <td>31</td>\n",
       "      <td>1</td>\n",
       "      <td>Governo</td>\n",
       "      <td>*</td>\n",
       "      <td>A1</td>\n",
       "      <td>4</td>\n",
       "      <td>5</td>\n",
       "      <td>32</td>\n",
       "      <td>27</td>\n",
       "      <td>181</td>\n",
       "    </tr>\n",
       "    <tr>\n",
       "      <th>31</th>\n",
       "      <td>32</td>\n",
       "      <td>1</td>\n",
       "      <td>Fernando_Henrique_Cardoso</td>\n",
       "      <td>*)</td>\n",
       "      <td>A1</td>\n",
       "      <td>4</td>\n",
       "      <td>5</td>\n",
       "      <td>32</td>\n",
       "      <td>27</td>\n",
       "      <td>181</td>\n",
       "    </tr>\n",
       "    <tr>\n",
       "      <th>32</th>\n",
       "      <td>33</td>\n",
       "      <td>1</td>\n",
       "      <td>.</td>\n",
       "      <td>*</td>\n",
       "      <td>*</td>\n",
       "      <td>5</td>\n",
       "      <td>32</td>\n",
       "      <td>33</td>\n",
       "      <td>1</td>\n",
       "      <td>560</td>\n",
       "    </tr>\n",
       "  </tbody>\n",
       "</table>\n",
       "</div>"
      ],
      "text/plain": [
       "       ID  P                       FORM   ARG   T  CHUNK_ID  CHUNK_START  \\\n",
       "INDEX                                                                      \n",
       "0       1  1                   Brasília     *   *         1            0   \n",
       "1       2  1         Pesquisa_Datafolha  (A0*  A0         2            1   \n",
       "2       3  1                  publicada     *  A0         2            1   \n",
       "3       4  1                       hoje    *)  A0         2            1   \n",
       "4       5  1                     revela  (V*)   V         3            4   \n",
       "5       6  1                         um  (A1*  A1         4            5   \n",
       "6       7  1                       dado     *  A1         4            5   \n",
       "7       8  1               supreendente     *  A1         4            5   \n",
       "8       9  1                          :     *  A1         4            5   \n",
       "9      10  1                  recusando     *  A1         4            5   \n",
       "10     11  1                        uma     *  A1         4            5   \n",
       "11     12  1                    postura     *  A1         4            5   \n",
       "12     13  1                    radical     *  A1         4            5   \n",
       "13     14  1                          ,     *  A1         4            5   \n",
       "14     15  1                          a     *  A1         4            5   \n",
       "15     16  1                 esmagadora     *  A1         4            5   \n",
       "16     17  1                    maioria     *  A1         4            5   \n",
       "17     18  1                          (     *  A1         4            5   \n",
       "18     19  1                         77     *  A1         4            5   \n",
       "19     20  1                          %     *  A1         4            5   \n",
       "20     21  1                          )     *  A1         4            5   \n",
       "21     22  1                         de     *  A1         4            5   \n",
       "22     23  1                         os     *  A1         4            5   \n",
       "23     24  1                  eleitores     *  A1         4            5   \n",
       "24     25  1                       quer     *  A1         4            5   \n",
       "25     26  1                          o     *  A1         4            5   \n",
       "26     27  1                         PT     *  A1         4            5   \n",
       "27     28  1               participando     *  A1         4            5   \n",
       "28     29  1                         de     *  A1         4            5   \n",
       "29     30  1                          o     *  A1         4            5   \n",
       "30     31  1                    Governo     *  A1         4            5   \n",
       "31     32  1  Fernando_Henrique_Cardoso    *)  A1         4            5   \n",
       "32     33  1                          .     *   *         5           32   \n",
       "\n",
       "       CHUNK_FINISH  CHUNK_LEN  CHUNK_CANDIDATE_ID  \n",
       "INDEX                                               \n",
       "0                 1          1                   0  \n",
       "1                 4          3                  35  \n",
       "2                 4          3                  35  \n",
       "3                 4          3                  35  \n",
       "4                 5          1                 126  \n",
       "5                32         27                 181  \n",
       "6                32         27                 181  \n",
       "7                32         27                 181  \n",
       "8                32         27                 181  \n",
       "9                32         27                 181  \n",
       "10               32         27                 181  \n",
       "11               32         27                 181  \n",
       "12               32         27                 181  \n",
       "13               32         27                 181  \n",
       "14               32         27                 181  \n",
       "15               32         27                 181  \n",
       "16               32         27                 181  \n",
       "17               32         27                 181  \n",
       "18               32         27                 181  \n",
       "19               32         27                 181  \n",
       "20               32         27                 181  \n",
       "21               32         27                 181  \n",
       "22               32         27                 181  \n",
       "23               32         27                 181  \n",
       "24               32         27                 181  \n",
       "25               32         27                 181  \n",
       "26               32         27                 181  \n",
       "27               32         27                 181  \n",
       "28               32         27                 181  \n",
       "29               32         27                 181  \n",
       "30               32         27                 181  \n",
       "31               32         27                 181  \n",
       "32               33          1                 560  "
      ]
     },
     "execution_count": 4,
     "metadata": {},
     "output_type": "execute_result"
    }
   ],
   "source": [
    "dfgs = pd.read_csv('../datasets/csvs/gs.csv', index_col=0, sep=',', encoding='utf-8')\n",
    "column_files = [\n",
    "    '../datasets/csvs/column_chunks/chunks.csv',\n",
    "    '../datasets/csvs/column_predmarker/predicate_marker.csv',\n",
    "    '../datasets/csvs/column_shifts_ctx_p/form.csv',\n",
    "    '../datasets/csvs/column_shifts_ctx_p/gpos.csv',\n",
    "    '../datasets/csvs/column_shifts_ctx_p/lemma.csv',\n",
    "    '../datasets/csvs/column_t/t.csv',\n",
    "    '../datasets/csvs/column_iob/iob.csv'\n",
    "]\n",
    "\n",
    "for col_f in column_files:\n",
    "    _df = pd.read_csv(col_f, index_col=0, encoding='utf-8')\n",
    "    dfgs = pd.concat((dfgs, _df), axis=1)\n",
    "\n",
    "DISPLAY_COLUMNS = ['ID', 'P', 'FORM', 'ARG', 'T', \n",
    "                   'CHUNK_ID', 'CHUNK_START', 'CHUNK_FINISH', 'CHUNK_LEN', 'CHUNK_CANDIDATE_ID']            \n",
    "dfgs[DISPLAY_COLUMNS].head(33)    "
   ]
  },
  {
   "cell_type": "markdown",
   "metadata": {},
   "source": [
    "## 2. Gets encodings\n",
    "\n",
    "Propbank Encoder holds an indexed version of propbank dataset an answers to FOUR different dataformats: \n",
    "* CAT: this is the raw categorical data.\n",
    "* EMB: tokens are embedding using GloVe embeddings.\n",
    "* HOT: onehot encoding of the words and tokens.\n",
    "* IDX: dense indexed representations."
   ]
  },
  {
   "cell_type": "code",
   "execution_count": 5,
   "metadata": {
    "collapsed": true
   },
   "outputs": [],
   "source": [
    "# LOAD ENCODER\n",
    "propbank_encoder = PropbankEncoder.recover(PROPBANK_GLO50_PATH)\n",
    "db = propbank_encoder.db\n",
    "lex2idx = propbank_encoder.lex2idx\n",
    "idx2lex = propbank_encoder.idx2lex\n",
    "\n",
    "# FOR TEXTUAL DATA ONLY\n",
    "lex2tok = propbank_encoder.lex2tok\n",
    "tok2idx = propbank_encoder.tok2idx\n",
    "embeddings = propbank_encoder.embeddings\n",
    "\n",
    "n_targets = len(lex2idx['T'])"
   ]
  },
  {
   "cell_type": "code",
   "execution_count": 6,
   "metadata": {},
   "outputs": [
    {
     "name": "stdout",
     "output_type": "stream",
     "text": [
      "attributes\t 44 \n",
      " records\t 141730\n"
     ]
    }
   ],
   "source": [
    "print('attributes\\t',\n",
    "       len(db),\n",
    "      '\\n',             \n",
    "      'records\\t',\n",
    "       len(db['ARG'].keys()))"
   ]
  },
  {
   "cell_type": "code",
   "execution_count": 7,
   "metadata": {
    "collapsed": true
   },
   "outputs": [],
   "source": [
    "def filter_type(ds_type, db):\n",
    "    '''Filters only records from train dataset\n",
    "    '''\n",
    "    ds_types = ('train', 'test', 'valid')\n",
    "    if ds_type not in ds_types:\n",
    "        _msg = 'ds_type must be in {:} got {:}'\n",
    "        _msg = _msg.format(ds_types, ds_type)\n",
    "        raise ValueError(_msg)\n",
    "    elif ds_type in ('train',):\n",
    "        lb = 0 \n",
    "        ub = config.DATASET_TRAIN_SIZE\n",
    "    elif ds_type in ('test',):        \n",
    "        lb = config.DATASET_TRAIN_SIZE\n",
    "        ub = lb + config.DATASET_VALID_SIZE         \n",
    "    elif ds_type in ('valid',):                \n",
    "        lb = config.DATASET_TRAIN_SIZE + config.DATASET_VALID_SIZE\n",
    "        ub = lb + config.DATASET_TEST_SIZE         \n",
    "\n",
    "    sel_keys_ = {key_ for key_, prop_ in db['P'].items() if prop_ > lb and prop_ <= ub}\n",
    "\n",
    "    return {\n",
    "                attr_:{ idx_: i_\n",
    "                        for idx_, i_ in dict_.items() if idx_ in sel_keys_\n",
    "                      }        \n",
    "                for attr_, dict_  in db.items()\n",
    "            }\n",
    "\n",
    "def make_propositions_dict(db):\n",
    "    '''Reindex db by propositions creating a nested dict in which the\n",
    "        outer key is the proposition        \n",
    "    '''\n",
    "    \n",
    "    triple_list = []\n",
    "    prev_prop = -1\n",
    "    for idx, prop in db['P'].items():\n",
    "        if prev_prop != prop:\n",
    "            if idx > 0:\n",
    "                ub = idx-1\n",
    "                triple_list.append((lb, ub, prev_prop))\n",
    "            lb = idx\n",
    "        prev_prop = prop\n",
    "    triple_list.append((lb, ub, prev_prop))\n",
    "            \n",
    "\n",
    "        \n",
    "    prop_set = set(db['P'].values())\n",
    "    return { prop_:\n",
    "                    {\n",
    "                        attr_:{ idx_: dict_[idx_]\n",
    "                                for idx_ in range(lb_, ub_ + 1, 1)\n",
    "                          }        \n",
    "                        for attr_, dict_ in db.items() if attr_ not in ('P',)\n",
    "                    }\n",
    "             for lb_, ub_, prop_ in  triple_list\n",
    "            }, {prop_: ub_ - lb_ + 1 for lb_, ub_, prop_ in  triple_list}   \n",
    "\n",
    "\n",
    "def numpfy_propositions_dict(prop_dict, proplen_dict):\n",
    "    '''Converts inner dict examples into numpy arrays\n",
    "    '''\n",
    "    prop_dict_ = defaultdict(dict)    \n",
    "    for prop, columns_dict in prop_dict.items():\n",
    "        len_ = proplen_dict[prop]\n",
    "        shape_ = (len_, 1)\n",
    "        for column, values_dict in columns_dict.items():\n",
    "            tuple_list = [idx_value \n",
    "                          for idx_value in values_dict.items()]\n",
    "            \n",
    "            tuple_list = sorted(tuple_list, key=lambda x: x[0])            \n",
    "            # Converts lexicon (raw/indexed) into token (embedded/indexed)\n",
    "            if (('FORM' in column) or ('LEMMA' in column)):\n",
    "                values_list = [tok2idx[lex2tok[idx2lex[column][tuple_[1]]]]                \n",
    "                                   for tuple_ in tuple_list]\n",
    "            else:\n",
    "                values_list = [tuple_[1] for tuple_ in tuple_list]\n",
    "            \n",
    "            prop_dict_[prop][column]  = np.array(values_list).reshape(shape_)\n",
    "    \n",
    "    return prop_dict_        \n"
   ]
  },
  {
   "cell_type": "code",
   "execution_count": 8,
   "metadata": {},
   "outputs": [
    {
     "name": "stdout",
     "output_type": "stream",
     "text": [
      "attributes\t 44 \n",
      " records\t 123846 \n",
      " vocab\t 13289\n"
     ]
    }
   ],
   "source": [
    "traindb  = filter_type('train', db)\n",
    "print('attributes\\t',\n",
    "       len(traindb),\n",
    "      '\\n',             \n",
    "      'records\\t',\n",
    "       len(traindb['ARG'].keys()),\n",
    "       '\\n',             \n",
    "      'vocab\\t',\n",
    "        max([form for _, form in traindb['FORM'].items()]))"
   ]
  },
  {
   "cell_type": "code",
   "execution_count": 9,
   "metadata": {},
   "outputs": [
    {
     "name": "stdout",
     "output_type": "stream",
     "text": [
      "attributes\t 44 \n",
      " records\t 123837 \n",
      " vocab\t 13289\n"
     ]
    }
   ],
   "source": [
    "prop_dict, proplen_dict = make_propositions_dict(traindb)\n",
    "print('attributes\\t',\n",
    "       len(prop_dict[1]) + 1,\n",
    "      '\\n',             \n",
    "      'records\\t',\n",
    "       sum([len(d['ARG']) for p, d in prop_dict.items()]),\n",
    "        '\\n',             \n",
    "      'vocab\\t',\n",
    "        max([form for _, prop in prop_dict.items() for _, form in prop['FORM'].items()]))"
   ]
  },
  {
   "cell_type": "code",
   "execution_count": 10,
   "metadata": {},
   "outputs": [
    {
     "name": "stdout",
     "output_type": "stream",
     "text": [
      "attributes\t 44 \n",
      " records\t 123837 \n",
      " vocab\t 12037\n"
     ]
    }
   ],
   "source": [
    "prop_dict1 = numpfy_propositions_dict(prop_dict, proplen_dict)\n",
    "print('attributes\\t',\n",
    "       len(prop_dict1[1]) + 1,\n",
    "      '\\n',             \n",
    "      'records\\t',\n",
    "       sum([len_ for _, len_ in proplen_dict.items()]),\n",
    "        '\\n',             \n",
    "      'vocab\\t',\n",
    "        max([max(form) for _, prop in prop_dict1.items() for form in prop['FORM']]))"
   ]
  },
  {
   "cell_type": "code",
   "execution_count": 11,
   "metadata": {
    "collapsed": true
   },
   "outputs": [],
   "source": [
    "def get_inputs(db1, propid):\n",
    "    '''Generate inputs\n",
    "    '''\n",
    "    propdb = db1[propid] # nested dict of columns and idx value\n",
    "    proplen = len(propdb['ID'])\n",
    "    if 'CHUNK_SPACE' not in propdb:\n",
    "        propdb['CHUNK_SPACE'] = generate_chunk_space(proplen)\n",
    "\n",
    "    word    = propdb['FORM']\n",
    "    ctx_p_left  = propdb['FORM_CTX_P-1']\n",
    "    ctx_p0  = propdb['FORM_CTX_P+0']\n",
    "    ctx_p_right  = propdb['FORM_CTX_P+1']\n",
    "    \n",
    "    marker  = propdb['MARKER']\n",
    "    pos     = propdb['GPOS']\n",
    "    chunk_type  = propdb['T']\n",
    "    chunk_start, chunk_finish = propdb['CHUNK_SPACE']\n",
    "    \n",
    "    return word, ctx_p_left, ctx_p0, ctx_p_right, marker, pos, chunk_type, chunk_start, chunk_finish\n",
    "            \n",
    "def generate_chunk_space(n):\n",
    "    '''Generates all possible spaces for chunks\n",
    "    '''\n",
    "    start_list = []\n",
    "    end_list = []\n",
    "    for i in range(n):\n",
    "        for j in range(i,n,1):\n",
    "            start_list.append(i)\n",
    "            end_list.append(j+1)\n",
    "    shape_ = (len(start_list), 1)\n",
    "    start_ = np.array(start_list).reshape(shape_)\n",
    "    finish_ = np.array(end_list).reshape(shape_)\n",
    "    return start_, finish_\n",
    "            \n",
    "\n",
    "# def get_outputs(db1, propid):\n",
    "#     ''' Generate outputs\n",
    "#     '''\n",
    "#     propdb_ = db1[propid] # nested dict of columns and idx value\n",
    "#     plen_ = len(propdb_['ID'])\n",
    "#     if 'OUTPUTS' not in propdb_: \n",
    "#         propdb_['OUTPUTS'] = propdb_['T'].reshape((plen_,))\n",
    "\n",
    "#     return propdb_['OUTPUTS']\n",
    "\n",
    "def get_outputs(db1, propid, n_targets):\n",
    "    ''' Generate outputs\n",
    "    '''\n",
    "    propdb = db1[propid] # nested dict of columns and idx value\n",
    "    if 'OUTPUTS' not in propdb: \n",
    "        # FIX THIS!!!\n",
    "        id_type = np.concatenate(\n",
    "            ( propdb['CHUNK_CANDIDATE_ID'], propdb['T']), axis=1\n",
    "        )\n",
    "\n",
    "        id_type = np.unique( id_type, axis=0)\n",
    "        propdb['OUTPUTS'] = id_type[:,0] * n_targets + id_type[:,1]\n",
    "\n",
    "    return propdb['OUTPUTS']"
   ]
  },
  {
   "cell_type": "code",
   "execution_count": 12,
   "metadata": {},
   "outputs": [
    {
     "name": "stdout",
     "output_type": "stream",
     "text": [
      "1.58 µs ± 377 ns per loop (mean ± std. dev. of 7 runs, 100000 loops each)\n"
     ]
    }
   ],
   "source": [
    "%%timeit\n",
    "propid = 1120\n",
    "word, ctx_p_left, ctx_p0, ctx_p_right, marker, pos, chunk_type, chunk_start, chunk_finish = get_inputs(prop_dict1, propid)\n",
    "y = get_outputs(prop_dict1, propid, n_targets)\n",
    "# worst proposition 1120 size 92!"
   ]
  },
  {
   "cell_type": "markdown",
   "metadata": {},
   "source": [
    " ## MODEL"
   ]
  },
  {
   "cell_type": "code",
   "execution_count": 13,
   "metadata": {},
   "outputs": [
    {
     "name": "stdout",
     "output_type": "stream",
     "text": [
      "[    0  1261 20160  4571  6518]\n",
      "[ 0  0  0 ..., 32 32 32]\n",
      "[ 1  1  1 ..., 33 33 33]\n",
      "[(0, 1), (1, 4), (32, 33), (4, 5), (5, 32)]\n"
     ]
    }
   ],
   "source": [
    "propid = 1\n",
    "word, ctx_p_left, ctx_p0, ctx_p_right, marker, pos, chunk_type, chunk_start, chunk_finish = get_inputs(prop_dict1,  propid)\n",
    "y = get_outputs(prop_dict1, propid, n_targets)\n",
    "# proplen = proplen_dict[propid]\n",
    "# y = y.reshape((proplen,1))\n",
    "print(y)\n",
    "_start  = np.repeat(chunk_start, n_targets)\n",
    "_finish = np.repeat(chunk_finish, n_targets)\n",
    "print(_start)\n",
    "print(_finish)\n",
    "print(list(zip(_start[y].flatten(), _finish[y].flatten())))\n"
   ]
  },
  {
   "cell_type": "code",
   "execution_count": 14,
   "metadata": {
    "collapsed": true
   },
   "outputs": [],
   "source": [
    "import struct_perc.colored_weighted_interval_scheduling as cwis\n",
    "import struct_perc.weighted_interval_scheduling as wis\n",
    "import struct_perc.utils as spu"
   ]
  },
  {
   "cell_type": "markdown",
   "metadata": {},
   "source": [
    " ## Tensorflow Graph"
   ]
  },
  {
   "cell_type": "code",
   "execution_count": 15,
   "metadata": {
    "collapsed": true
   },
   "outputs": [],
   "source": [
    "# vocab_size = len(lex2idx['FORM']) + 1\n",
    "# embed_size = 50\n",
    "\n",
    "# n_pos = len(lex2idx['GPOS'])\n",
    "# # n_type = len(lex2idx['T'])\n",
    "# n_classes  = len(lex2idx['T'])\n",
    "\n",
    "# tf.reset_default_graph()\n",
    "\n",
    "# # word index and gpos \n",
    "# tf_words = tf.placeholder(tf.int32, shape=(None,1))\n",
    "# tf_pos = tf.placeholder(tf.int32, shape=(None,1))\n",
    "# # t_x_type = tf.placeholder(tf.int32, shape=(None,1))\n",
    "\n",
    "# # índices de inicio de intervalo\n",
    "# tf_s = tf.placeholder(tf.int32, shape=(None,1))\n",
    "# # índices de fim de intervalo\n",
    "# tf_f = tf.placeholder(tf.int32, shape=(None,1))\n",
    "\n",
    "# # replicamos os indicies de inicio e fim para cada classe de chunk possivel\n",
    "# tf_sc = tf.reshape(\n",
    "#       tf.tile(tf_s,  [1, n_classes]), [-1,1])\n",
    "# tf_fc = tf.reshape(\n",
    "#       tf.tile(tf_f,  [1, n_classes]), [-1,1])\n",
    "\n",
    "# # n_features = (embed_size + n_pos + n_type)\n",
    "# n_features = (embed_size + n_pos)\n",
    "# # hidden_features = 300\n",
    "# W_shape = (n_features, n_classes)\n",
    "# EMBS = tf.constant(embeddings)\n",
    "# # tf_token = tf.Variable(initial_value=None, expected_shape=(embed_size,), dtype=tf.float32, trainable=False)\n",
    "\n",
    "# # geramos os paramteros do modelo\n",
    "# with tf.variable_scope(\"model\"):\n",
    "#     W = tf.Variable(\n",
    "#         tf.random_normal(W_shape, 0, 1/np.sqrt(n_features * n_classes), name='W')\n",
    "#     )\n",
    "#     b = tf.Variable(\n",
    "#         tf.random_normal((n_classes,), 0, 1/np.sqrt(n_classes), name='b')\n",
    "#     )\n",
    "    \n",
    "\n",
    "# # tf_token = tf.nn.embedding_lookup(tf_embeddings, id) \n",
    "# # Recuperamos os embeddings de cada palavra\n",
    "# tf_word_features = tf.gather_nd(EMBS, tf_words)\n",
    "\n",
    "# tf_pos_flat = tf.reshape(tf_pos, [-1])\n",
    "# tf_pos_features = tf.one_hot(tf_pos_flat, depth=n_pos)\n",
    "\n",
    "# # t_x_type_flat = tf.reshape(t_x_type,[-1])\n",
    "# # t_type_features = tf.one_hot(t_x_type_flat, depth=n_type)\n",
    "\n",
    "# # X = tf.concat((t_word_features,t_pos_features,t_type_features),axis=1)\n",
    "# tf_tok_features = tf.concat((tf_word_features,tf_pos_features),axis=1)\n",
    "\n",
    "# # a partir das features do intervalo computamos o score\n",
    "# tf_scores = tf.matmul(tf_tok_features, W) + b\n",
    "\n",
    "# tf_pred = tf.argmax(tf_scores, axis=1)\n"
   ]
  },
  {
   "cell_type": "code",
   "execution_count": 50,
   "metadata": {},
   "outputs": [],
   "source": [
    "# Parameters\n",
    "vocab_size = len(tok2idx)\n",
    "embed_size = 50\n",
    "\n",
    "n_pos = len(lex2idx['GPOS'])\n",
    "n_classes = len(lex2idx['T'])\n",
    "n_features = embed_size * 4 + 1 + n_pos\n",
    "\n",
    "n_hidden = 100\n",
    "filter_size = 5\n",
    "filter_shape = (filter_size, n_features, n_hidden)\n",
    "W_shape = (n_features, n_hidden)\n",
    "b_shape = (1, n_hidden)\n",
    "\n",
    "W_interval_shape = (2 * n_hidden, n_classes)\n",
    "# W_shape = (hidden_features, n_classes)\n",
    "b_interval_shape = (1, n_classes)\n",
    "\n",
    "# word index \n",
    "X_words = tf.placeholder(tf.int64, shape=(None,1), name='word')\n",
    "\n",
    "# predicate context index (left, predicate, right)\n",
    "X_ctx_p_left = tf.placeholder(tf.int64, shape=(None,1), name='ctx_p_left')\n",
    "X_ctx_p = tf.placeholder(tf.int64, shape=(None,1), name='ctx_p0')\n",
    "X_ctx_p_right = tf.placeholder(tf.int64, shape=(None,1), name='ctx_p_right')\n",
    "\n",
    "# POS tagging feature\n",
    "X_pos = tf.placeholder(tf.int64, shape=(None,1), name='gpos')\n",
    "X_marker = tf.cast( tf.placeholder(tf.int64, shape=(None,1), name='marker'), tf.float32 )\n",
    "EMBS = tf.Variable(embeddings, trainable=False)\n",
    "\n",
    "# Embedded representation\n",
    "with tf.variable_scope(\"features\"):\n",
    "    EMBS_words = tf.gather_nd(EMBS, X_words, name='word_features')\n",
    "\n",
    "    EMBS_ctx_pleft = tf.gather_nd(EMBS, X_ctx_p_left, name='EMBS_ctx_pleft')\n",
    "    EMBS_ctx_p0 = tf.gather_nd(EMBS, X_ctx_p, name='EMBS_ctx_p0')\n",
    "    EMBS_ctx_pright = tf.gather_nd(EMBS, X_ctx_p_right, name='EMBS_ctx_pright')\n",
    "\n",
    "    X_pos_flat = tf.reshape(X_pos, [-1], name='gpos_flat')\n",
    "    X_pos_onehot = tf.one_hot(X_pos_flat, depth=n_pos, name='gpos_onehot')\n",
    "\n",
    "    X = tf.concat((EMBS_words, EMBS_ctx_pleft, EMBS_ctx_p0,\n",
    "                   EMBS_ctx_pright, X_pos_onehot, X_marker),\n",
    "                  axis=1, name='X')\n",
    "    \n",
    "with tf.variable_scope('hidden'):\n",
    "    W = tf.Variable(tf.truncated_normal(W_shape, stddev=1.0 / np.sqrt(n_features * n_hidden)), name='W' )\n",
    "    b = tf.Variable(tf.zeros(b_shape, dtype=tf.float32), name='b')\n",
    "   \n",
    "    Z = tf.nn.tanh( tf.matmul(X, W) + b, name='hidden_layer' )\n",
    "\n",
    "# Those are the interval parameters\n",
    "with tf.variable_scope(\"interval\"):\n",
    "    W_interval = tf.Variable(tf.random_normal(W_interval_shape, mean=0.0, stddev=1.0 / np.sqrt(1.0 * n_hidden * n_classes)), name='W_interval')\n",
    "    b_interval = tf.Variable(tf.zeros(b_interval_shape, dtype=tf.float32), name='b_interval')\n",
    "    \n",
    "    # begin of interval\n",
    "    i_s = tf.placeholder(tf.int32, shape=(None,1))\n",
    "    # end of interval\n",
    "    i_f = tf.placeholder(tf.int32, shape=(None,1))\n",
    "\n",
    "    # interval for each class\n",
    "#     i_s_class = tf.reshape(\n",
    "#           tf.tile(i_s,  b_shape, (-1,1)))\n",
    "#     i_f_class = tf.reshape(\n",
    "#           tf.tile(i_f,  b_shape, (-1,1)))\n",
    "\n",
    "\n",
    "i_f_score = tf.gather_nd(Z, i_f-1)\n",
    "i_s_score = tf.gather_nd(Z, i_s)\n",
    "\n",
    "i_score = tf.concat((i_f_score, i_s_score), axis=1)\n",
    "scores_interval = tf.matmul(i_score, W_interval) + b_interval\n",
    "\n",
    "scores_flat = tf.reshape(scores_interval, (-1,1))\n",
    "scores_mean = tf.reduce_mean(scores_flat)\n",
    "scores_diff = scores_flat - scores_mean\n",
    "\n",
    "scores_std = tf.sqrt(tf.reduce_sum(scores_diff * scores_diff))\n",
    "scores_op = scores_diff /( scores_std + 1e-8 )\n",
    "\n",
    "\n",
    "# a partir das features do intervalo computamos o score\n",
    "# score_op = tf.matmul(X, W_interval, name='xW') + b_interval\n",
    "\n",
    "# predict_op = tf.argmax(scores_op, axis=1, name='Prediction')"
   ]
  },
  {
   "cell_type": "markdown",
   "metadata": {},
   "source": [
    " ## Tensorflow test session"
   ]
  },
  {
   "cell_type": "code",
   "execution_count": 55,
   "metadata": {},
   "outputs": [
    {
     "name": "stdout",
     "output_type": "stream",
     "text": [
      "(561, 36)\n"
     ]
    }
   ],
   "source": [
    "propid  = 1\n",
    "words, ctx_p_left, ctx_p0, ctx_p_right, marker, gpos, chunk_type, chunk_start, chunk_finish = get_inputs(prop_dict1, propid)\n",
    "y = get_outputs(prop_dict1, propid, n_targets)\n",
    "\n",
    "with tf.Session() as sess:\n",
    "    sess.run(tf.global_variables_initializer())\n",
    "    out_scores_interval = sess.run(scores_interval, feed_dict={\n",
    "        X_words:words,\n",
    "        X_ctx_p_left: ctx_p_left,\n",
    "        X_ctx_p: ctx_p0,\n",
    "        X_ctx_p_right: ctx_p_right,        \n",
    "        X_marker: marker,                \n",
    "        X_pos:gpos,\n",
    "        i_s: chunk_start,\n",
    "        i_f: chunk_finish\n",
    "    })\n",
    "print(out_scores_interval.shape)\n"
   ]
  },
  {
   "cell_type": "code",
   "execution_count": 61,
   "metadata": {
    "collapsed": true
   },
   "outputs": [],
   "source": [
    "def pred(sess, x_words, x_ctx_p_left, x_ctx_p0, x_ctx_p_right, x_marker, x_pos, x_chunk_start, x_chunk_finish):\n",
    "    scores = sess.run(scores_op,feed_dict={\n",
    "        X_words: x_words,\n",
    "        X_ctx_p_left: x_ctx_p_left,\n",
    "        X_ctx_p: x_ctx_p0,\n",
    "        X_ctx_p_right: x_ctx_p_right,        \n",
    "        X_marker: x_marker,                \n",
    "        X_pos:x_pos,\n",
    "        i_s: x_chunk_start,\n",
    "        i_f: x_chunk_finish\n",
    "    })\n",
    "    starts = np.repeat(x_chunk_start, n_classes).reshape((-1,1))\n",
    "    ends = np.repeat(x_chunk_finish, n_classes).reshape((-1,1))\n",
    "    \n",
    "    ck_len = len(x_chunk_start)\n",
    "    colors = np.array(list(np.arange(n_classes))*ck_len)\n",
    "    \n",
    "    r_int = cwis.compute_schedule(starts.flatten(), ends.flatten(), scores, colors) \n",
    "    r_ext = list(zip(starts[r_int].flatten(),ends[r_int].flatten(), colors[r_int].flatten()))\n",
    "    return r_int, r_ext"
   ]
  },
  {
   "cell_type": "markdown",
   "metadata": {},
   "source": [
    "## Testing prediction"
   ]
  },
  {
   "cell_type": "code",
   "execution_count": 62,
   "metadata": {},
   "outputs": [
    {
     "name": "stdout",
     "output_type": "stream",
     "text": [
      "[20168 20120 20008 19844 19664 19448 19222 18908 18584 18235 17839 17396\n",
      " 16928 16444 15884 15308 14707 14059 13364 12644 11914 11107 10268  9415\n",
      "  8530  7594  6596  5588  4564  3464  2348  1216     8]\n",
      "[(32, 33, 8), (31, 32, 32), (30, 31, 28), (29, 30, 8), (28, 29, 8), (27, 28, 8), (26, 27, 34), (25, 26, 8), (24, 25, 8), (23, 24, 19), (22, 23, 19), (21, 22, 8), (20, 21, 8), (19, 20, 28), (18, 19, 8), (17, 18, 8), (16, 17, 19), (15, 16, 19), (14, 15, 8), (13, 14, 8), (12, 13, 34), (11, 12, 19), (10, 11, 8), (9, 10, 19), (8, 9, 34), (7, 8, 34), (6, 7, 8), (5, 6, 8), (4, 5, 28), (3, 4, 8), (2, 3, 8), (1, 2, 28), (0, 1, 8)]\n"
     ]
    }
   ],
   "source": [
    "sess = tf.Session()\n",
    "sess.run(tf.global_variables_initializer())\n",
    "p, pe = pred(sess, words, ctx_p_left, ctx_p0, ctx_p_right, marker, gpos, chunk_start, chunk_finish)\n",
    "print(p)\n",
    "print(pe)"
   ]
  },
  {
   "cell_type": "markdown",
   "metadata": {},
   "source": [
    "## Training code"
   ]
  },
  {
   "cell_type": "code",
   "execution_count": null,
   "metadata": {
    "collapsed": true
   },
   "outputs": [],
   "source": [
    "# t_y_int = tf.placeholder(tf.int32, shape=(None,))\n",
    "# t_y_rshp = tf.reshape(t_y_int, (-1,1))\n",
    "# t_margin_int = tf.placeholder(tf.float32, shape=())\n",
    "\n",
    "# t_margin_values = tf.ones(tf.shape(t_y_rshp))*t_margin_int\n",
    "# t_margin_scores = tf.scatter_nd(t_y_rshp, -t_margin_values, tf.shape(t_scores_flat))\n",
    "# t_scores_flat_w_margin = t_scores_flat + t_margin_scores"
   ]
  },
  {
   "cell_type": "code",
   "execution_count": null,
   "metadata": {
    "collapsed": true
   },
   "outputs": [],
   "source": [
    "# indices of the correct intervals\n",
    "T = tf.placeholder(tf.int32, shape=(None,), name='T')\n",
    "L = tf.placeholder(tf.int32, shape=(), name='L')\n",
    "I = tf.to_int32(tf.range(L), name='indices')\n",
    "\n",
    "T_flat = tf.reshape(T, (-1,1), name='T_flat')\n",
    "Margin_interval = tf.placeholder(tf.float32)\n",
    "Margin_values = tf.ones(tf.shape(T_flat)) * Margin_interval\n",
    "Margin_scores_flat = tf.scatter_nd(T_flat, -Margin_values, tf.shape(scores_op))\n",
    "Scores_flat_with_margin = scores_op + Margin_scores_flat\n"
   ]
  },
  {
   "cell_type": "code",
   "execution_count": null,
   "metadata": {
    "collapsed": true
   },
   "outputs": [],
   "source": [
    "# # índices dos intervalos computados pelo Weighted Interval Scheduling\n",
    "# t_p_int = tf.placeholder(tf.int32, shape=(None,))\n",
    "# # índices dos intervalos corretos\n",
    "# # t_y_int = tf.placeholder(tf.int32, shape=(None,))\n",
    "\n",
    "# # formatamos os indices dos intervalos preditos e corretos\n",
    "# t_p_rshp = tf.reshape(t_p_int,(-1,1))\n",
    "# # t_y_rshp = tf.reshape(t_y_int,(-1,1))\n",
    "\n",
    "# # score dos intervalos preditos\n",
    "# t_scores_int_p = tf.gather_nd(t_scores_flat_w_margin, t_p_rshp)\n",
    "# # score dos intervalos corretos\n",
    "# t_scores_int_y = tf.gather_nd(t_scores_flat_w_margin, t_y_rshp)\n",
    "\n",
    "# ## função de custo do perceptron estruturado\n",
    "# # WIS\n",
    "# t_cost_int = tf.reduce_sum(t_scores_int_p) - tf.reduce_sum(t_scores_int_y)\n",
    "# t_cost = t_cost_int\n",
    "\n",
    "# # # gradiente descendente no custo do perceptron estruturado\n",
    "# optimizer = tf.train.AdamOptimizer(learning_rate=0.001)\n",
    "# # optimizer = tf.train.GradientDescentOptimizer(0.003)\n",
    "# train = optimizer.minimize(t_cost)"
   ]
  },
  {
   "cell_type": "code",
   "execution_count": null,
   "metadata": {
    "collapsed": true
   },
   "outputs": [],
   "source": [
    "# indices containing the predicted labels from Weighted Interval Scheduling\n",
    "Y = tf.placeholder(tf.int32, shape=(None,), name='predictions')\n",
    "Y_flat = tf.reshape(Y, (-1, 1))\n",
    "\n",
    "# score da estrutura predita\n",
    "ScoreY = tf.gather_nd(Scores_flat_with_margin, Y_flat, name='predicted_score')\n",
    "# score da estrutura correta\n",
    "ScoreT = tf.gather_nd(Scores_flat_with_margin, T_flat, name='target_score')\n",
    "\n",
    "# função de custo do perceptron estruturado\n",
    "# cost_op = tf.reduce_sum(ScoreY) - tf.reduce_sum(ScoreT)\n",
    "# t_cost_int = tf.reduce_sum(t_scores_int_p) - tf.reduce_sum(t_scores_int_y)\n",
    "# t_cost = t_cost_int\n",
    "\n",
    "# gradiente descendente no custo do perceptron estruturado\n",
    "optimizer = tf.train.GradientDescentOptimizer(0.01)\n",
    "train_op = optimizer.minimize(cost_op)"
   ]
  },
  {
   "cell_type": "code",
   "execution_count": 110,
   "metadata": {},
   "outputs": [
    {
     "name": "stdout",
     "output_type": "stream",
     "text": [
      "(33,)\n",
      "[0 0 0 0 0 0 0 0 0 0 0 0 0 0 0 0 0 0 0 0 0 0 0 0 0 0 0 0 0 0 0 0 0]\n"
     ]
    }
   ],
   "source": [
    "predictions = pred(sess, words, ctx_p_left, ctx_p0, ctx_p_right, marker, gpos)\n",
    "print(y.shape)\n",
    "print(predictions)"
   ]
  },
  {
   "cell_type": "markdown",
   "metadata": {},
   "source": [
    " ## Can it memorize ?"
   ]
  },
  {
   "cell_type": "code",
   "execution_count": 117,
   "metadata": {},
   "outputs": [
    {
     "name": "stdout",
     "output_type": "stream",
     "text": [
      "0.0606060606061   0.0\n",
      "1.0   0.0\n"
     ]
    }
   ],
   "source": [
    "for i in range(10000):\n",
    "    \n",
    "    predictions = pred(sess, words, ctx_p_left, ctx_p0, ctx_p_right, marker, gpos)\n",
    "    \n",
    "    \n",
    "    _, cost = sess.run([train_op, cost_op], feed_dict={\n",
    "        X_words: words,\n",
    "        X_ctx_p_left: ctx_p_left,\n",
    "        X_ctx_p: ctx_p0,\n",
    "        X_ctx_p_right: ctx_p_right,        \n",
    "        X_marker: marker,        \n",
    "        X_pos: gpos,\n",
    "        Y: predictions,\n",
    "        L: proplen_dict[propid],\n",
    "        T:y})\n",
    "\n",
    "\n",
    "    if i % 100 == 0:\n",
    "        err = np.sum(y.flatten() != predictions.flatten())\n",
    "        acc = 1 - err/len(predictions.flatten())\n",
    "        print(acc, ' ', cost)\n",
    "        if acc == 1:\n",
    "            break"
   ]
  },
  {
   "cell_type": "markdown",
   "metadata": {},
   "source": [
    " ## The model reproduces the sentence"
   ]
  },
  {
   "cell_type": "code",
   "execution_count": 118,
   "metadata": {},
   "outputs": [
    {
     "name": "stdout",
     "output_type": "stream",
     "text": [
      "[ 0  1  1  1 35  2  2  2  2  2  2  2  2  2  2  2  2  2  2  2  2  2  2  2  2\n",
      "  2  2  2  2  2  2  2  0]\n",
      "\n",
      "[ 0  1  1  1 35  2  2  2  2  2  2  2  2  2  2  2  2  2  2  2  2  2  2  2  2\n",
      "  2  2  2  2  2  2  2  0]\n"
     ]
    }
   ],
   "source": [
    "p = sess.run(predict_op, \n",
    "             feed_dict={\n",
    "                X_words: words,\n",
    "                X_ctx_p_left: ctx_p_left,\n",
    "                X_ctx_p: ctx_p0,\n",
    "                X_ctx_p_right: ctx_p_right,        \n",
    "                X_marker: marker,        \n",
    "                X_pos: gpos\n",
    "             })\n",
    "print(p)\n",
    "print()\n",
    "print(y)"
   ]
  },
  {
   "cell_type": "markdown",
   "metadata": {},
   "source": [
    "## Training"
   ]
  },
  {
   "cell_type": "code",
   "execution_count": 123,
   "metadata": {},
   "outputs": [
    {
     "name": "stderr",
     "output_type": "stream",
     "text": [
      "100%|██████████| 5099/5099 [00:09<00:00, 564.08it/s]\n",
      "  1%|▏         | 73/5099 [00:00<00:06, 723.52it/s]"
     ]
    },
    {
     "name": "stdout",
     "output_type": "stream",
     "text": [
      "epoch  0  acc:  0.424138181642\n"
     ]
    },
    {
     "name": "stderr",
     "output_type": "stream",
     "text": [
      "100%|██████████| 5099/5099 [00:07<00:00, 727.82it/s]\n",
      "  1%|▏         | 76/5099 [00:00<00:06, 751.57it/s]"
     ]
    },
    {
     "name": "stdout",
     "output_type": "stream",
     "text": [
      "epoch  1  acc:  0.447644888038\n"
     ]
    },
    {
     "name": "stderr",
     "output_type": "stream",
     "text": [
      "100%|██████████| 5099/5099 [00:07<00:00, 710.71it/s]\n",
      "  1%|          | 62/5099 [00:00<00:08, 613.77it/s]"
     ]
    },
    {
     "name": "stdout",
     "output_type": "stream",
     "text": [
      "epoch  2  acc:  0.453701236303\n"
     ]
    },
    {
     "name": "stderr",
     "output_type": "stream",
     "text": [
      "100%|██████████| 5099/5099 [00:07<00:00, 660.54it/s]\n",
      "  1%|▏         | 72/5099 [00:00<00:06, 719.31it/s]"
     ]
    },
    {
     "name": "stdout",
     "output_type": "stream",
     "text": [
      "epoch  3  acc:  0.456664809387\n"
     ]
    },
    {
     "name": "stderr",
     "output_type": "stream",
     "text": [
      "100%|██████████| 5099/5099 [00:07<00:00, 709.93it/s]\n",
      "  1%|▏         | 73/5099 [00:00<00:06, 722.86it/s]"
     ]
    },
    {
     "name": "stdout",
     "output_type": "stream",
     "text": [
      "epoch  4  acc:  0.458925846072\n"
     ]
    },
    {
     "name": "stderr",
     "output_type": "stream",
     "text": [
      "100%|██████████| 5099/5099 [00:07<00:00, 724.52it/s]\n",
      "  1%|          | 58/5099 [00:00<00:08, 577.81it/s]"
     ]
    },
    {
     "name": "stdout",
     "output_type": "stream",
     "text": [
      "epoch  5  acc:  0.460548947407\n"
     ]
    },
    {
     "name": "stderr",
     "output_type": "stream",
     "text": [
      "100%|██████████| 5099/5099 [00:07<00:00, 668.11it/s]\n",
      "  1%|          | 61/5099 [00:00<00:08, 607.85it/s]"
     ]
    },
    {
     "name": "stdout",
     "output_type": "stream",
     "text": [
      "epoch  6  acc:  0.462349701624\n"
     ]
    },
    {
     "name": "stderr",
     "output_type": "stream",
     "text": [
      "100%|██████████| 5099/5099 [00:07<00:00, 711.18it/s]\n",
      "  1%|          | 49/5099 [00:00<00:10, 485.86it/s]"
     ]
    },
    {
     "name": "stdout",
     "output_type": "stream",
     "text": [
      "epoch  7  acc:  0.459919087187\n"
     ]
    },
    {
     "name": "stderr",
     "output_type": "stream",
     "text": [
      "100%|██████████| 5099/5099 [00:07<00:00, 719.55it/s]\n",
      "  1%|▏         | 73/5099 [00:00<00:06, 723.05it/s]"
     ]
    },
    {
     "name": "stdout",
     "output_type": "stream",
     "text": [
      "epoch  8  acc:  0.462939186188\n"
     ]
    },
    {
     "name": "stderr",
     "output_type": "stream",
     "text": [
      "100%|██████████| 5099/5099 [00:07<00:00, 680.99it/s]\n",
      "  1%|▏         | 64/5099 [00:00<00:07, 637.16it/s]"
     ]
    },
    {
     "name": "stdout",
     "output_type": "stream",
     "text": [
      "epoch  9  acc:  0.463076463416\n"
     ]
    },
    {
     "name": "stderr",
     "output_type": "stream",
     "text": [
      "100%|██████████| 5099/5099 [00:07<00:00, 722.17it/s]\n",
      "  1%|▏         | 67/5099 [00:00<00:07, 664.96it/s]"
     ]
    },
    {
     "name": "stdout",
     "output_type": "stream",
     "text": [
      "epoch  10  acc:  0.463383318394\n"
     ]
    },
    {
     "name": "stderr",
     "output_type": "stream",
     "text": [
      "100%|██████████| 5099/5099 [00:07<00:00, 657.84it/s]\n",
      "  1%|▏         | 72/5099 [00:00<00:07, 715.44it/s]"
     ]
    },
    {
     "name": "stdout",
     "output_type": "stream",
     "text": [
      "epoch  11  acc:  0.464045479138\n"
     ]
    },
    {
     "name": "stderr",
     "output_type": "stream",
     "text": [
      "100%|██████████| 5099/5099 [00:08<00:00, 598.64it/s]\n",
      "  1%|          | 35/5099 [00:00<00:14, 341.90it/s]"
     ]
    },
    {
     "name": "stdout",
     "output_type": "stream",
     "text": [
      "epoch  12  acc:  0.464263507675\n"
     ]
    },
    {
     "name": "stderr",
     "output_type": "stream",
     "text": [
      "100%|██████████| 5099/5099 [00:09<00:00, 515.96it/s]\n",
      "  1%|▏         | 70/5099 [00:00<00:07, 690.57it/s]"
     ]
    },
    {
     "name": "stdout",
     "output_type": "stream",
     "text": [
      "epoch  13  acc:  0.466823324208\n"
     ]
    },
    {
     "name": "stderr",
     "output_type": "stream",
     "text": [
      "100%|██████████| 5099/5099 [00:07<00:00, 688.50it/s]\n",
      "  1%|▏         | 73/5099 [00:00<00:06, 723.92it/s]"
     ]
    },
    {
     "name": "stdout",
     "output_type": "stream",
     "text": [
      "epoch  14  acc:  0.464489611344\n"
     ]
    },
    {
     "name": "stderr",
     "output_type": "stream",
     "text": [
      "100%|██████████| 5099/5099 [00:07<00:00, 702.89it/s]\n",
      "  1%|          | 56/5099 [00:00<00:09, 559.26it/s]"
     ]
    },
    {
     "name": "stdout",
     "output_type": "stream",
     "text": [
      "epoch  15  acc:  0.466613370802\n"
     ]
    },
    {
     "name": "stderr",
     "output_type": "stream",
     "text": [
      "100%|██████████| 5099/5099 [00:06<00:00, 730.14it/s]\n",
      "  1%|▏         | 72/5099 [00:00<00:07, 714.82it/s]"
     ]
    },
    {
     "name": "stdout",
     "output_type": "stream",
     "text": [
      "epoch  16  acc:  0.46501449486\n"
     ]
    },
    {
     "name": "stderr",
     "output_type": "stream",
     "text": [
      "100%|██████████| 5099/5099 [00:07<00:00, 726.39it/s]\n",
      "  1%|▏         | 65/5099 [00:00<00:07, 647.76it/s]"
     ]
    },
    {
     "name": "stdout",
     "output_type": "stream",
     "text": [
      "epoch  17  acc:  0.465951210058\n"
     ]
    },
    {
     "name": "stderr",
     "output_type": "stream",
     "text": [
      "100%|██████████| 5099/5099 [00:07<00:00, 648.78it/s]\n",
      "  1%|          | 49/5099 [00:00<00:10, 484.57it/s]"
     ]
    },
    {
     "name": "stdout",
     "output_type": "stream",
     "text": [
      "epoch  18  acc:  0.467412808773\n"
     ]
    },
    {
     "name": "stderr",
     "output_type": "stream",
     "text": [
      "100%|██████████| 5099/5099 [00:11<00:00, 430.60it/s]\n",
      "  1%|          | 35/5099 [00:00<00:14, 349.04it/s]"
     ]
    },
    {
     "name": "stdout",
     "output_type": "stream",
     "text": [
      "epoch  19  acc:  0.465684730735\n"
     ]
    },
    {
     "name": "stderr",
     "output_type": "stream",
     "text": [
      "100%|██████████| 5099/5099 [00:11<00:00, 432.75it/s]\n",
      "  1%|          | 59/5099 [00:00<00:08, 589.31it/s]"
     ]
    },
    {
     "name": "stdout",
     "output_type": "stream",
     "text": [
      "epoch  20  acc:  0.465781632307\n"
     ]
    },
    {
     "name": "stderr",
     "output_type": "stream",
     "text": [
      "100%|██████████| 5099/5099 [00:10<00:00, 506.32it/s]\n",
      "  1%|          | 57/5099 [00:00<00:08, 562.25it/s]"
     ]
    },
    {
     "name": "stdout",
     "output_type": "stream",
     "text": [
      "epoch  21  acc:  0.466306515823\n"
     ]
    },
    {
     "name": "stderr",
     "output_type": "stream",
     "text": [
      "100%|██████████| 5099/5099 [00:07<00:00, 675.50it/s]\n",
      "  1%|▏         | 71/5099 [00:00<00:07, 703.65it/s]"
     ]
    },
    {
     "name": "stdout",
     "output_type": "stream",
     "text": [
      "epoch  22  acc:  0.467243231021\n"
     ]
    },
    {
     "name": "stderr",
     "output_type": "stream",
     "text": [
      "100%|██████████| 5099/5099 [00:09<00:00, 537.86it/s]\n",
      "  1%|▏         | 66/5099 [00:00<00:07, 658.96it/s]"
     ]
    },
    {
     "name": "stdout",
     "output_type": "stream",
     "text": [
      "epoch  23  acc:  0.468478726067\n"
     ]
    },
    {
     "name": "stderr",
     "output_type": "stream",
     "text": [
      "100%|██████████| 5099/5099 [00:10<00:00, 471.15it/s]\n",
      "  1%|▏         | 70/5099 [00:00<00:07, 689.80it/s]"
     ]
    },
    {
     "name": "stdout",
     "output_type": "stream",
     "text": [
      "epoch  24  acc:  0.464925668419\n"
     ]
    },
    {
     "name": "stderr",
     "output_type": "stream",
     "text": [
      "100%|██████████| 5099/5099 [00:09<00:00, 564.44it/s]\n",
      "  0%|          | 25/5099 [00:00<00:20, 248.61it/s]"
     ]
    },
    {
     "name": "stdout",
     "output_type": "stream",
     "text": [
      "epoch  25  acc:  0.468438350412\n"
     ]
    },
    {
     "name": "stderr",
     "output_type": "stream",
     "text": [
      "100%|██████████| 5099/5099 [00:10<00:00, 472.52it/s]\n",
      "  1%|▏         | 65/5099 [00:00<00:07, 643.50it/s]"
     ]
    },
    {
     "name": "stdout",
     "output_type": "stream",
     "text": [
      "epoch  26  acc:  0.470570185001\n"
     ]
    },
    {
     "name": "stderr",
     "output_type": "stream",
     "text": [
      "100%|██████████| 5099/5099 [00:09<00:00, 560.06it/s]\n",
      "  1%|▏         | 64/5099 [00:00<00:08, 626.22it/s]"
     ]
    },
    {
     "name": "stdout",
     "output_type": "stream",
     "text": [
      "epoch  27  acc:  0.467978067944\n"
     ]
    },
    {
     "name": "stderr",
     "output_type": "stream",
     "text": [
      "100%|██████████| 5099/5099 [00:07<00:00, 654.28it/s]\n",
      "  2%|▏         | 77/5099 [00:00<00:06, 763.13it/s]"
     ]
    },
    {
     "name": "stdout",
     "output_type": "stream",
     "text": [
      "epoch  28  acc:  0.465838158224\n"
     ]
    },
    {
     "name": "stderr",
     "output_type": "stream",
     "text": [
      "100%|██████████| 5099/5099 [00:07<00:00, 721.11it/s]"
     ]
    },
    {
     "name": "stdout",
     "output_type": "stream",
     "text": [
      "epoch  29  acc:  0.469019759846\n"
     ]
    },
    {
     "name": "stderr",
     "output_type": "stream",
     "text": [
      "\n"
     ]
    }
   ],
   "source": [
    "sess= tf.Session()\n",
    "sess.run(tf.global_variables_initializer())\n",
    "\n",
    "epochs = 30\n",
    "for i in range(epochs):\n",
    "    total_err = 0\n",
    "    total_size = 0\n",
    "    nprops = len(proplen_dict)\n",
    "    for propid in tqdm.tqdm(range(1, nprops + 1)):\n",
    "        words, ctx_p_left, ctx_p0, ctx_p_right, marker, gpos, chunk_type, chunk_start, chunk_finish = get_inputs(prop_dict1,  propid)\n",
    "        y = get_outputs(prop_dict1, propid)\n",
    "\n",
    "        predictions = pred(sess, words, ctx_p_left, ctx_p0, ctx_p_right, marker, gpos)\n",
    "\n",
    "        _, cost = sess.run([train_op, cost_op], feed_dict={\n",
    "            X_words:words,\n",
    "            X_ctx_p_left: ctx_p_left,\n",
    "            X_ctx_p: ctx_p0,\n",
    "            X_ctx_p_right: ctx_p_right,        \n",
    "            X_marker: marker,\n",
    "            X_pos: gpos,\n",
    "            Y:predictions,\n",
    "            L: proplen_dict[propid],\n",
    "            T:y})\n",
    "        total_err += np.sum(predictions.flatten()!=y.flatten())\n",
    "        total_size += len(predictions.flatten())\n",
    "\n",
    "    print('epoch ', i, ' acc: ', 1 - total_err/total_size)"
   ]
  }
 ],
 "metadata": {
  "kernelspec": {
   "display_name": "Python (tensorflow)",
   "language": "python",
   "name": "tensorflow"
  },
  "language_info": {
   "codemirror_mode": {
    "name": "ipython",
    "version": 3
   },
   "file_extension": ".py",
   "mimetype": "text/x-python",
   "name": "python",
   "nbconvert_exporter": "python",
   "pygments_lexer": "ipython3",
   "version": "3.6.3"
  }
 },
 "nbformat": 4,
 "nbformat_minor": 2
}

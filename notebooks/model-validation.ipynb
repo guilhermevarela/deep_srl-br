{
 "cells": [
  {
   "cell_type": "code",
   "execution_count": 14,
   "metadata": {},
   "outputs": [
    {
     "name": "stdout",
     "output_type": "stream",
     "text": [
      "../datasets/csvs/zhou_valid.csv\n",
      "../outputs/multi_bibasic_lstm/lr5.00e-04,hs128x64/22/Yhat_valid.csv\n"
     ]
    }
   ],
   "source": [
    "import numpy as np \n",
    "import pandas as pd \n",
    "\n",
    "MODEL_NAME='multi_bibasic_lstm'\n",
    "HPARAMS_STR='lr5.00e-04,hs128x64'\n",
    "MODEL_V= '22'\n",
    "INPUT_V='00'\n",
    "INPUT_DIR= '../datasets/csvs/'\n",
    "OUTPUT_DIR='../outputs/'\n",
    "\n",
    "INPUT_PATH = '{:}{:}'.format(INPUT_DIR, 'zhou_valid.csv')\n",
    "OUTPUT_PATH= '{:}{:}/{:}/{:}/{:}'.format(OUTPUT_DIR,MODEL_NAME,HPARAMS_STR,MODEL_V, 'Yhat_valid.csv')\n",
    "\n",
    "\n",
    "print(INPUT_PATH)\n",
    "print(OUTPUT_PATH)"
   ]
  },
  {
   "cell_type": "code",
   "execution_count": 16,
   "metadata": {},
   "outputs": [
    {
     "name": "stdout",
     "output_type": "stream",
     "text": [
      "(12298, 10) (12287, 1)\n"
     ]
    }
   ],
   "source": [
    "df_input= pd.read_csv(INPUT_PATH, index_col=0)\n",
    "df_output=pd.read_csv(OUTPUT_PATH, index_col=0)\n",
    "print(df_input.shape, df_output.shape)"
   ]
  },
  {
   "cell_type": "code",
   "execution_count": 18,
   "metadata": {},
   "outputs": [
    {
     "name": "stdout",
     "output_type": "stream",
     "text": [
      "(12298, 11)\n"
     ]
    }
   ],
   "source": [
    "df= df_input.join(df_output, how='left')\n",
    "print(df.shape)"
   ]
  },
  {
   "cell_type": "code",
   "execution_count": 20,
   "metadata": {
    "collapsed": true
   },
   "outputs": [],
   "source": [
    "df.to_csv(OUTPUT_PATH)"
   ]
  },
  {
   "cell_type": "code",
   "execution_count": null,
   "metadata": {
    "collapsed": true
   },
   "outputs": [],
   "source": []
  }
 ],
 "metadata": {
  "kernelspec": {
   "display_name": "Python (tensorflow)",
   "language": "python",
   "name": "tensorflow"
  },
  "language_info": {
   "codemirror_mode": {
    "name": "ipython",
    "version": 3
   },
   "file_extension": ".py",
   "mimetype": "text/x-python",
   "name": "python",
   "nbconvert_exporter": "python",
   "pygments_lexer": "ipython3",
   "version": "3.6.3"
  }
 },
 "nbformat": 4,
 "nbformat_minor": 2
}

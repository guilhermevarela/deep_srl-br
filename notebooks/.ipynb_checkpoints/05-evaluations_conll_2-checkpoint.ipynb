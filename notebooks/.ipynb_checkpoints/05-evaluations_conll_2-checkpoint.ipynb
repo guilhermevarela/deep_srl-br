{
 "cells": [
  {
   "cell_type": "markdown",
   "metadata": {},
   "source": [
    " # 1. DEFINE I/O DATA FRAMES"
   ]
  },
  {
   "cell_type": "markdown",
   "metadata": {},
   "source": [
    " ## Specifications can be found @\n",
    " > http://www.lsi.upc.edu/~srlconll/soft.html#srlconll"
   ]
  },
  {
   "cell_type": "code",
   "execution_count": 1,
   "metadata": {},
   "outputs": [
    {
     "name": "stdout",
     "output_type": "stream",
     "text": [
      "../datasets/binaries/db_pt_LEMMA_glove_s50.pickle\n",
      "../outputs/dblstm_crf_2/lr1.00e-04_hs8x4_ctx-p1_glove_s50/00/Yhat_valid.csv\n"
     ]
    }
   ],
   "source": [
    "import sys\n",
    "sys.path.append('../models/')\n",
    "sys.path.append('../')\n",
    "\n",
    "import numpy as np \n",
    "import pandas as pd \n",
    "import re \n",
    "\n",
    "from propbank import Propbank\n",
    "\n",
    "\n",
    "\n",
    "MODEL_NAME='dblstm_crf_2'\n",
    "HPARAMS_STR='lr1.00e-04_hs8x4_ctx-p1_glove_s50'\n",
    "MODEL_V= '00'\n",
    "INPUT_DIR= '../datasets/binaries/'\n",
    "OUTPUT_DIR='../outputs/'\n",
    "\n",
    "INPUT_PATH = '{:}{:}'.format(INPUT_DIR, 'db_pt_LEMMA_glove_s50.pickle')\n",
    "OUTPUT_PATH= '{:}{:}/{:}/{:}/{:}'.format(OUTPUT_DIR,MODEL_NAME,HPARAMS_STR,MODEL_V, 'Yhat_valid.csv')\n",
    "TARGET_EVALUATION_PATH= '{:}{:}/{:}/{:}/{:}'.format(OUTPUT_DIR,MODEL_NAME,HPARAMS_STR,MODEL_V, 'conll_evaluate_valid.txt')\n",
    "TARGET_GOLDENSTD_PATH=  '{:}{:}/{:}/{:}/{:}'.format(OUTPUT_DIR,MODEL_NAME,HPARAMS_STR,MODEL_V, 'conll_golden_valid.txt')\n",
    "\n",
    "\n",
    "\n",
    "print(INPUT_PATH)\n",
    "print(OUTPUT_PATH)"
   ]
  },
  {
   "cell_type": "code",
   "execution_count": null,
   "metadata": {},
   "outputs": [
    {
     "name": "stderr",
     "output_type": "stream",
     "text": [
      "Python 3.6.3 |Anaconda custom (64-bit)| (default, Oct  6 2017, 12:04:38) \n",
      "[GCC 4.2.1 Compatible Clang 4.0.1 (tags/RELEASE_401/final)] on darwin\n",
      "Type \"help\", \"copyright\", \"credits\" or \"license\" for more information.\n",
      "(InteractiveConsole)\n"
     ]
    },
    {
     "name": "stdout",
     "output_type": "stream",
     "text": [
      "In : index, values=zip(*[(idx, self.encode(self.data[feature][idx],feature))\t\t\t\t\t \t\t\t\t\tfor idx, s in self.data['S'].items() \t\t\t\t\t\tif s>=lb and s< ub+1])\n"
     ]
    },
    {
     "ename": "ValueError",
     "evalue": "not enough values to unpack (expected 2, got 0)",
     "output_type": "error",
     "traceback": [
      "\u001b[0;31m---------------------------------------------------------------------------\u001b[0m",
      "\u001b[0;31mValueError\u001b[0m                                Traceback (most recent call last)",
      "\u001b[0;32m~/anaconda/envs/tensorflow/lib/python3.6/code.py\u001b[0m in \u001b[0;36mruncode\u001b[0;34m(self, code)\u001b[0m\n\u001b[1;32m     89\u001b[0m         \"\"\"\n\u001b[1;32m     90\u001b[0m         \u001b[0;32mtry\u001b[0m\u001b[0;34m:\u001b[0m\u001b[0;34m\u001b[0m\u001b[0m\n\u001b[0;32m---> 91\u001b[0;31m             \u001b[0mexec\u001b[0m\u001b[0;34m(\u001b[0m\u001b[0mcode\u001b[0m\u001b[0;34m,\u001b[0m \u001b[0mself\u001b[0m\u001b[0;34m.\u001b[0m\u001b[0mlocals\u001b[0m\u001b[0;34m)\u001b[0m\u001b[0;34m\u001b[0m\u001b[0m\n\u001b[0m\u001b[1;32m     92\u001b[0m         \u001b[0;32mexcept\u001b[0m \u001b[0mSystemExit\u001b[0m\u001b[0;34m:\u001b[0m\u001b[0;34m\u001b[0m\u001b[0m\n\u001b[1;32m     93\u001b[0m             \u001b[0;32mraise\u001b[0m\u001b[0;34m\u001b[0m\u001b[0m\n",
      "\u001b[0;32m~/wrk/py/gv/deep_srlbr/models/propbank.py\u001b[0m in \u001b[0;36m<module>\u001b[0;34m()\u001b[0m\n",
      "\u001b[0;31mValueError\u001b[0m: not enough values to unpack (expected 2, got 0)"
     ]
    }
   ],
   "source": [
    "# loads propbank data read binary \n",
    "propbank= Propbank.recover(INPUT_PATH)\n",
    "\n",
    "#asks for FUNC column with encodings: (verbs in plain text)\n",
    "PRED_d= propbank.feature('valid', 'PRED', True)\n",
    "ARG_d=  propbank.feature('valid', 'ARG', True)\n",
    "\n",
    "# read the model's output\n",
    "df = pd.read_csv(OUTPUT_PATH, sep=',')\n",
    "df.head()"
   ]
  },
  {
   "cell_type": "markdown",
   "metadata": {},
   "source": [
    " # 2. Outputs Conll"
   ]
  },
  {
   "cell_type": "code",
   "execution_count": 9,
   "metadata": {},
   "outputs": [],
   "source": [
    "def outputs_conll(df, target_column='Y_0'):\n",
    "\t'''\n",
    "\t\tConverts a dataset to conll format \n",
    "\t'''\n",
    "\tdf= df[['S', 'P', 'FUNC', target_column]].copy()\n",
    "\n",
    "\t#Replace '-' making it easier to concatenate\n",
    "\tsub_fn= lambda x: re.sub('-', '', x)\n",
    "\tdf['FUNC'] = df['FUNC'].apply(sub_fn)\n",
    "    \n",
    "\ts0= min(df['S'])\n",
    "\tsn= max(df['S'])\n",
    "\tfor i,si in enumerate(range(s0,sn+1)):\n",
    "\t    dfsi=df.loc[df['S'] == si,:]\n",
    "\t    p0= min(dfsi['P'])\n",
    "\t    pn= max(dfsi['P'])    \n",
    "\t    for j,p in enumerate(range(p0,pn+1)): # concatenate by argument columns\n",
    "\t        dfpj=dfsi.loc[df['P']==p,:].reset_index(drop=True)\n",
    "\t        if j==0:\n",
    "\t            dfp=dfpj[['FUNC',target_column]]\n",
    "\t            dfp=dfp.rename(columns={target_column: 'ARG0'})\n",
    "\t        else:\n",
    "\t            dfp['FUNC']=dfp['FUNC'].map(str).values + dfpj['FUNC'].map(str).values\n",
    "\t            if 'serser' in dfp['FUNC'].values:\n",
    "\t               import code; code.interact(local=dict(globals(), **locals()))\n",
    "\t            dfp= pd.concat((dfp, dfpj[target_column]), axis=1)\n",
    "\t            dfp=dfp.rename(columns={target_column: 'ARG{:d}'.format(p-p0)})            \n",
    "\t    if i==0:        \n",
    "\t        dfconll= dfp\n",
    "\t    else:\n",
    "\t        dfconll= dfconll.append(dfp)\n",
    "\t    blank_series= pd.Series([None]*dfconll.shape[1], index=dfconll.columns)    \n",
    "\t    dfconll= dfconll.append(blank_series, ignore_index=True)\n",
    "\t        \n",
    "\t#Replace '-' making it easier to concatenate\n",
    "\tsub_fn= lambda x: '-' if isinstance(x,str) and len(x) == 0 else x\n",
    "\tdfconll['FUNC'] = dfconll['FUNC'].apply(sub_fn)\n",
    "    \n",
    "\t#Replace Nans ( from skipping lines to empty)\n",
    "\tdfconll= dfconll.fillna('')\n",
    "    \n",
    "\t#Order columns to fit conll standard\n",
    "\tnum_columns=len(dfconll.columns)\n",
    "\tusecolumns=['FUNC'] + ['ARG{:d}'.format(i) for i in range(num_columns-1)]\n",
    "\treturn dfconll[usecolumns]"
   ]
  },
  {
   "cell_type": "markdown",
   "metadata": {},
   "source": [
    " # 3. Make Evaluation"
   ]
  },
  {
   "cell_type": "code",
   "execution_count": null,
   "metadata": {},
   "outputs": [
    {
     "name": "stderr",
     "output_type": "stream",
     "text": [
      "Python 3.6.3 |Anaconda custom (64-bit)| (default, Oct  6 2017, 12:04:38) \n",
      "[GCC 4.2.1 Compatible Clang 4.0.1 (tags/RELEASE_401/final)] on darwin\n",
      "Type \"help\", \"copyright\", \"credits\" or \"license\" for more information.\n",
      "(InteractiveConsole)\n"
     ]
    },
    {
     "name": "stdout",
     "output_type": "stream",
     "text": [
      "In : dfp['FUNC']\n"
     ]
    },
    {
     "data": {
      "text/plain": [
       "0           \n",
       "1     serser\n",
       "2           \n",
       "3     pensar\n",
       "4           \n",
       "5           \n",
       "6           \n",
       "7           \n",
       "8           \n",
       "9           \n",
       "10          \n",
       "11          \n",
       "12          \n",
       "13          \n",
       "14          \n",
       "Name: FUNC, dtype: object"
      ]
     },
     "execution_count": 10,
     "metadata": {},
     "output_type": "execute_result"
    },
    {
     "name": "stdout",
     "output_type": "stream",
     "text": [
      "In : dfpj['FUNC'].map(str).values\n"
     ]
    },
    {
     "data": {
      "text/plain": [
       "array(['', 'ser', '', '', '', '', '', '', '', '', '', '', '', '', ''], dtype=object)"
      ]
     },
     "execution_count": 10,
     "metadata": {},
     "output_type": "execute_result"
    },
    {
     "name": "stdout",
     "output_type": "stream",
     "text": [
      "In : dfpj['FUNC']\n"
     ]
    },
    {
     "data": {
      "text/plain": [
       "0        \n",
       "1     ser\n",
       "2        \n",
       "3        \n",
       "4        \n",
       "5        \n",
       "6        \n",
       "7        \n",
       "8        \n",
       "9        \n",
       "10       \n",
       "11       \n",
       "12       \n",
       "13       \n",
       "14       \n",
       "Name: FUNC, dtype: object"
      ]
     },
     "execution_count": 10,
     "metadata": {},
     "output_type": "execute_result"
    },
    {
     "name": "stdout",
     "output_type": "stream",
     "text": [
      "In : xx=dfp['FUNC'].map(str).values\n",
      "In : xx\n"
     ]
    },
    {
     "data": {
      "text/plain": [
       "array(['', 'serser', '', 'pensar', '', '', '', '', '', '', '', '', '', '',\n",
       "       ''], dtype=object)"
      ]
     },
     "execution_count": 10,
     "metadata": {},
     "output_type": "execute_result"
    },
    {
     "name": "stdout",
     "output_type": "stream",
     "text": [
      "In : yy=dfpj['FUNC'].map(str).values\n",
      "In : yy\n"
     ]
    },
    {
     "data": {
      "text/plain": [
       "array(['', 'ser', '', '', '', '', '', '', '', '', '', '', '', '', ''], dtype=object)"
      ]
     },
     "execution_count": 10,
     "metadata": {},
     "output_type": "execute_result"
    },
    {
     "name": "stdout",
     "output_type": "stream",
     "text": [
      "In : zz=xx+yy\n",
      "In : zz\n"
     ]
    },
    {
     "data": {
      "text/plain": [
       "array(['', 'serserser', '', 'pensar', '', '', '', '', '', '', '', '', '',\n",
       "       '', ''], dtype=object)"
      ]
     },
     "execution_count": 10,
     "metadata": {},
     "output_type": "execute_result"
    },
    {
     "name": "stdout",
     "output_type": "stream",
     "text": [
      "In : dfp.head()\n"
     ]
    },
    {
     "data": {
      "text/html": [
       "<div>\n",
       "<style scoped>\n",
       "    .dataframe tbody tr th:only-of-type {\n",
       "        vertical-align: middle;\n",
       "    }\n",
       "\n",
       "    .dataframe tbody tr th {\n",
       "        vertical-align: top;\n",
       "    }\n",
       "\n",
       "    .dataframe thead th {\n",
       "        text-align: right;\n",
       "    }\n",
       "</style>\n",
       "<table border=\"1\" class=\"dataframe\">\n",
       "  <thead>\n",
       "    <tr style=\"text-align: right;\">\n",
       "      <th></th>\n",
       "      <th>FUNC</th>\n",
       "      <th>ARG0</th>\n",
       "      <th>ARG1</th>\n",
       "    </tr>\n",
       "  </thead>\n",
       "  <tbody>\n",
       "    <tr>\n",
       "      <th>0</th>\n",
       "      <td></td>\n",
       "      <td>(AM-PNC*</td>\n",
       "      <td>*</td>\n",
       "    </tr>\n",
       "    <tr>\n",
       "      <th>1</th>\n",
       "      <td>serser</td>\n",
       "      <td>*</td>\n",
       "      <td>*</td>\n",
       "    </tr>\n",
       "    <tr>\n",
       "      <th>2</th>\n",
       "      <td></td>\n",
       "      <td>*</td>\n",
       "      <td>*</td>\n",
       "    </tr>\n",
       "    <tr>\n",
       "      <th>3</th>\n",
       "      <td>pensar</td>\n",
       "      <td>*</td>\n",
       "      <td>*</td>\n",
       "    </tr>\n",
       "    <tr>\n",
       "      <th>4</th>\n",
       "      <td></td>\n",
       "      <td>*</td>\n",
       "      <td>*</td>\n",
       "    </tr>\n",
       "  </tbody>\n",
       "</table>\n",
       "</div>"
      ],
      "text/plain": [
       "     FUNC      ARG0 ARG1\n",
       "0          (AM-PNC*    *\n",
       "1  serser         *    *\n",
       "2                 *    *\n",
       "3  pensar         *    *\n",
       "4                 *    *"
      ]
     },
     "execution_count": 10,
     "metadata": {},
     "output_type": "execute_result"
    },
    {
     "name": "stdout",
     "output_type": "stream",
     "text": [
      "In : dfpj.head()\n"
     ]
    },
    {
     "data": {
      "text/html": [
       "<div>\n",
       "<style scoped>\n",
       "    .dataframe tbody tr th:only-of-type {\n",
       "        vertical-align: middle;\n",
       "    }\n",
       "\n",
       "    .dataframe tbody tr th {\n",
       "        vertical-align: top;\n",
       "    }\n",
       "\n",
       "    .dataframe thead th {\n",
       "        text-align: right;\n",
       "    }\n",
       "</style>\n",
       "<table border=\"1\" class=\"dataframe\">\n",
       "  <thead>\n",
       "    <tr style=\"text-align: right;\">\n",
       "      <th></th>\n",
       "      <th>S</th>\n",
       "      <th>P</th>\n",
       "      <th>FUNC</th>\n",
       "      <th>Y_ARG</th>\n",
       "    </tr>\n",
       "  </thead>\n",
       "  <tbody>\n",
       "    <tr>\n",
       "      <th>0</th>\n",
       "      <td>2905</td>\n",
       "      <td>5149</td>\n",
       "      <td></td>\n",
       "      <td>*</td>\n",
       "    </tr>\n",
       "    <tr>\n",
       "      <th>1</th>\n",
       "      <td>2905</td>\n",
       "      <td>5149</td>\n",
       "      <td>ser</td>\n",
       "      <td>*</td>\n",
       "    </tr>\n",
       "    <tr>\n",
       "      <th>2</th>\n",
       "      <td>2905</td>\n",
       "      <td>5149</td>\n",
       "      <td></td>\n",
       "      <td>*</td>\n",
       "    </tr>\n",
       "    <tr>\n",
       "      <th>3</th>\n",
       "      <td>2905</td>\n",
       "      <td>5149</td>\n",
       "      <td></td>\n",
       "      <td>*</td>\n",
       "    </tr>\n",
       "    <tr>\n",
       "      <th>4</th>\n",
       "      <td>2905</td>\n",
       "      <td>5149</td>\n",
       "      <td></td>\n",
       "      <td>*</td>\n",
       "    </tr>\n",
       "  </tbody>\n",
       "</table>\n",
       "</div>"
      ],
      "text/plain": [
       "      S     P FUNC Y_ARG\n",
       "0  2905  5149          *\n",
       "1  2905  5149  ser     *\n",
       "2  2905  5149          *\n",
       "3  2905  5149          *\n",
       "4  2905  5149          *"
      ]
     },
     "execution_count": 10,
     "metadata": {},
     "output_type": "execute_result"
    },
    {
     "name": "stdout",
     "output_type": "stream",
     "text": [
      "In : dfsi.head()\n"
     ]
    },
    {
     "data": {
      "text/html": [
       "<div>\n",
       "<style scoped>\n",
       "    .dataframe tbody tr th:only-of-type {\n",
       "        vertical-align: middle;\n",
       "    }\n",
       "\n",
       "    .dataframe tbody tr th {\n",
       "        vertical-align: top;\n",
       "    }\n",
       "\n",
       "    .dataframe thead th {\n",
       "        text-align: right;\n",
       "    }\n",
       "</style>\n",
       "<table border=\"1\" class=\"dataframe\">\n",
       "  <thead>\n",
       "    <tr style=\"text-align: right;\">\n",
       "      <th></th>\n",
       "      <th>S</th>\n",
       "      <th>P</th>\n",
       "      <th>FUNC</th>\n",
       "      <th>Y_ARG</th>\n",
       "    </tr>\n",
       "    <tr>\n",
       "      <th>IDX</th>\n",
       "      <th></th>\n",
       "      <th></th>\n",
       "      <th></th>\n",
       "      <th></th>\n",
       "    </tr>\n",
       "  </thead>\n",
       "  <tbody>\n",
       "    <tr>\n",
       "      <th>124954</th>\n",
       "      <td>2905</td>\n",
       "      <td>5147</td>\n",
       "      <td></td>\n",
       "      <td>(AM-PNC*</td>\n",
       "    </tr>\n",
       "    <tr>\n",
       "      <th>124955</th>\n",
       "      <td>2905</td>\n",
       "      <td>5147</td>\n",
       "      <td>ser</td>\n",
       "      <td>*</td>\n",
       "    </tr>\n",
       "    <tr>\n",
       "      <th>124956</th>\n",
       "      <td>2905</td>\n",
       "      <td>5147</td>\n",
       "      <td></td>\n",
       "      <td>*</td>\n",
       "    </tr>\n",
       "    <tr>\n",
       "      <th>124957</th>\n",
       "      <td>2905</td>\n",
       "      <td>5147</td>\n",
       "      <td></td>\n",
       "      <td>*</td>\n",
       "    </tr>\n",
       "    <tr>\n",
       "      <th>124958</th>\n",
       "      <td>2905</td>\n",
       "      <td>5147</td>\n",
       "      <td></td>\n",
       "      <td>*</td>\n",
       "    </tr>\n",
       "  </tbody>\n",
       "</table>\n",
       "</div>"
      ],
      "text/plain": [
       "           S     P FUNC     Y_ARG\n",
       "IDX                              \n",
       "124954  2905  5147       (AM-PNC*\n",
       "124955  2905  5147  ser         *\n",
       "124956  2905  5147              *\n",
       "124957  2905  5147              *\n",
       "124958  2905  5147              *"
      ]
     },
     "execution_count": 10,
     "metadata": {},
     "output_type": "execute_result"
    }
   ],
   "source": [
    "\n",
    "dfconll = outputs_conll(df, target_column= 'Y_ARG')\n",
    "dfconll.to_csv(TARGET_EVALUATION_PATH, sep= '\\t', index=False, header=False)\n",
    "dfconll.head()"
   ]
  },
  {
   "cell_type": "markdown",
   "metadata": {},
   "source": [
    " # 4. Make Gold"
   ]
  },
  {
   "cell_type": "code",
   "execution_count": 8,
   "metadata": {},
   "outputs": [
    {
     "name": "stderr",
     "output_type": "stream",
     "text": [
      "/Users/guilhermevarela/anaconda/lib/python2.7/site-packages/ipykernel/__main__.py:9: SettingWithCopyWarning: \n",
      "A value is trying to be set on a copy of a slice from a DataFrame.\n",
      "Try using .loc[row_indexer,col_indexer] = value instead\n",
      "\n",
      "See the caveats in the documentation: http://pandas.pydata.org/pandas-docs/stable/indexing.html#indexing-view-versus-copy\n"
     ]
    },
    {
     "data": {
      "text/html": [
       "<div>\n",
       "<table border=\"1\" class=\"dataframe\">\n",
       "  <thead>\n",
       "    <tr style=\"text-align: right;\">\n",
       "      <th></th>\n",
       "      <th>FUNC</th>\n",
       "      <th>ARG0</th>\n",
       "      <th>ARG1</th>\n",
       "      <th>ARG2</th>\n",
       "      <th>ARG3</th>\n",
       "      <th>ARG4</th>\n",
       "      <th>ARG5</th>\n",
       "    </tr>\n",
       "  </thead>\n",
       "  <tbody>\n",
       "    <tr>\n",
       "      <th>0</th>\n",
       "      <td>-</td>\n",
       "      <td>(A2*</td>\n",
       "      <td></td>\n",
       "      <td></td>\n",
       "      <td></td>\n",
       "      <td></td>\n",
       "      <td></td>\n",
       "    </tr>\n",
       "    <tr>\n",
       "      <th>1</th>\n",
       "      <td>-</td>\n",
       "      <td>*</td>\n",
       "      <td></td>\n",
       "      <td></td>\n",
       "      <td></td>\n",
       "      <td></td>\n",
       "      <td></td>\n",
       "    </tr>\n",
       "    <tr>\n",
       "      <th>2</th>\n",
       "      <td>-</td>\n",
       "      <td>*)</td>\n",
       "      <td></td>\n",
       "      <td></td>\n",
       "      <td></td>\n",
       "      <td></td>\n",
       "      <td></td>\n",
       "    </tr>\n",
       "    <tr>\n",
       "      <th>3</th>\n",
       "      <td>estar</td>\n",
       "      <td>(V*)</td>\n",
       "      <td></td>\n",
       "      <td></td>\n",
       "      <td></td>\n",
       "      <td></td>\n",
       "      <td></td>\n",
       "    </tr>\n",
       "    <tr>\n",
       "      <th>4</th>\n",
       "      <td>-</td>\n",
       "      <td>(A1*</td>\n",
       "      <td></td>\n",
       "      <td></td>\n",
       "      <td></td>\n",
       "      <td></td>\n",
       "      <td></td>\n",
       "    </tr>\n",
       "  </tbody>\n",
       "</table>\n",
       "</div>"
      ],
      "text/plain": [
       "    FUNC  ARG0 ARG1 ARG2 ARG3 ARG4 ARG5\n",
       "0      -  (A2*                         \n",
       "1      -     *                         \n",
       "2      -    *)                         \n",
       "3  estar  (V*)                         \n",
       "4      -  (A1*                         "
      ]
     },
     "execution_count": 8,
     "metadata": {},
     "output_type": "execute_result"
    }
   ],
   "source": [
    "dfconll_gold = outputs_conll(df, target_column='ARG_0')\n",
    "dfconll_gold.to_csv(TARGET_GOLDENSTD_PATH, sep= '\\t', index=False, header=False)\n",
    "dfconll_gold.head()"
   ]
  },
  {
   "cell_type": "code",
   "execution_count": null,
   "metadata": {
    "collapsed": true
   },
   "outputs": [],
   "source": []
  }
 ],
 "metadata": {
  "kernelspec": {
   "display_name": "Python (tensorflow)",
   "language": "python",
   "name": "tensorflow"
  },
  "language_info": {
   "codemirror_mode": {
    "name": "ipython",
    "version": 3
   },
   "file_extension": ".py",
   "mimetype": "text/x-python",
   "name": "python",
   "nbconvert_exporter": "python",
   "pygments_lexer": "ipython3",
   "version": "3.6.3"
  }
 },
 "nbformat": 4,
 "nbformat_minor": 2
}

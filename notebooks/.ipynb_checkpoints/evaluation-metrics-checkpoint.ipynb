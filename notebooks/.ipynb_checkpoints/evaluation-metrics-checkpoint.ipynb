{
 "cells": [
  {
   "cell_type": "markdown",
   "metadata": {},
   "source": [
    " # 1. DEFINE I/O DATA FRAMES"
   ]
  },
  {
   "cell_type": "code",
   "execution_count": null,
   "metadata": {},
   "outputs": [],
   "source": [
    "import numpy as np \n",
    "import pandas as pd \n",
    "\n",
    "MODEL_NAME='dblstm_crf'\n",
    "HPARAMS_STR='lr5.00e-04_hs512x256x128x64_ctx-p3_wang2vec_s100'\n",
    "MODEL_V= '00'\n",
    "INPUT_DIR= '../datasets/csvs/'\n",
    "OUTPUT_DIR='../outputs/'\n",
    "\n",
    "INPUT_PATH = '{:}{:}'.format(INPUT_DIR, 'zhou_valid.csv')\n",
    "OUTPUT_PATH= '{:}{:}/{:}/{:}/{:}'.format(OUTPUT_DIR,MODEL_NAME,HPARAMS_STR,MODEL_V, 'Yhat_valid.csv')\n",
    "TARGET_PATH= '{:}{:}/{:}/{:}/{:}'.format(OUTPUT_DIR,MODEL_NAME,HPARAMS_STR,MODEL_V, 'evaluation_valid.csv')\n",
    "\n",
    "\n",
    "\n",
    "print(INPUT_PATH)\n",
    "print(OUTPUT_PATH)"
   ]
  },
  {
   "cell_type": "code",
   "execution_count": 2,
   "metadata": {},
   "outputs": [
    {
     "name": "stdout",
     "output_type": "stream",
     "text": [
      "(12298, 17) (12298, 2)\n"
     ]
    }
   ],
   "source": [
    "df_input= pd.read_csv(INPUT_PATH, index_col=0)\n",
    "df_output=pd.read_csv(OUTPUT_PATH, index_col=0)\n",
    "print(df_input.shape, df_output.shape)"
   ]
  },
  {
   "cell_type": "code",
   "execution_count": 3,
   "metadata": {},
   "outputs": [
    {
     "name": "stdout",
     "output_type": "stream",
     "text": [
      "(12298, 19)\n"
     ]
    }
   ],
   "source": [
    "df= df_input.join(df_output, how='left')\n",
    "print(df.shape)"
   ]
  },
  {
   "cell_type": "code",
   "execution_count": 4,
   "metadata": {
    "collapsed": true
   },
   "outputs": [],
   "source": [
    "df.to_csv(TARGET_PATH)"
   ]
  },
  {
   "cell_type": "code",
   "execution_count": 5,
   "metadata": {},
   "outputs": [
    {
     "data": {
      "text/html": [
       "<div>\n",
       "<style scoped>\n",
       "    .dataframe tbody tr th:only-of-type {\n",
       "        vertical-align: middle;\n",
       "    }\n",
       "\n",
       "    .dataframe tbody tr th {\n",
       "        vertical-align: top;\n",
       "    }\n",
       "\n",
       "    .dataframe thead th {\n",
       "        text-align: right;\n",
       "    }\n",
       "</style>\n",
       "<table border=\"1\" class=\"dataframe\">\n",
       "  <thead>\n",
       "    <tr style=\"text-align: right;\">\n",
       "      <th></th>\n",
       "      <th>ID</th>\n",
       "      <th>S</th>\n",
       "      <th>P</th>\n",
       "      <th>P_S</th>\n",
       "      <th>FORM</th>\n",
       "      <th>LEMMA</th>\n",
       "      <th>PRED</th>\n",
       "      <th>FUNC</th>\n",
       "      <th>M_R</th>\n",
       "      <th>CTX_P-3</th>\n",
       "      <th>CTX_P-2</th>\n",
       "      <th>CTX_P-1</th>\n",
       "      <th>CTX_P+1</th>\n",
       "      <th>CTX_P+2</th>\n",
       "      <th>CTX_P+3</th>\n",
       "      <th>ARG_0</th>\n",
       "      <th>ARG_1</th>\n",
       "      <th>Y_0</th>\n",
       "      <th>Y_1</th>\n",
       "    </tr>\n",
       "    <tr>\n",
       "      <th>IDX</th>\n",
       "      <th></th>\n",
       "      <th></th>\n",
       "      <th></th>\n",
       "      <th></th>\n",
       "      <th></th>\n",
       "      <th></th>\n",
       "      <th></th>\n",
       "      <th></th>\n",
       "      <th></th>\n",
       "      <th></th>\n",
       "      <th></th>\n",
       "      <th></th>\n",
       "      <th></th>\n",
       "      <th></th>\n",
       "      <th></th>\n",
       "      <th></th>\n",
       "      <th></th>\n",
       "      <th></th>\n",
       "      <th></th>\n",
       "    </tr>\n",
       "  </thead>\n",
       "  <tbody>\n",
       "    <tr>\n",
       "      <th>123846</th>\n",
       "      <td>1</td>\n",
       "      <td>2879</td>\n",
       "      <td>5100</td>\n",
       "      <td>0</td>\n",
       "      <td>Entre</td>\n",
       "      <td>entre</td>\n",
       "      <td>estar</td>\n",
       "      <td>-</td>\n",
       "      <td>0</td>\n",
       "      <td>entre</td>\n",
       "      <td>o</td>\n",
       "      <td>convidado</td>\n",
       "      <td>o</td>\n",
       "      <td>-</td>\n",
       "      <td>rei</td>\n",
       "      <td>(A2*</td>\n",
       "      <td>A2</td>\n",
       "      <td>(A2*</td>\n",
       "      <td>A2</td>\n",
       "    </tr>\n",
       "    <tr>\n",
       "      <th>123847</th>\n",
       "      <td>2</td>\n",
       "      <td>2879</td>\n",
       "      <td>5100</td>\n",
       "      <td>0</td>\n",
       "      <td>os</td>\n",
       "      <td>o</td>\n",
       "      <td>estar</td>\n",
       "      <td>-</td>\n",
       "      <td>0</td>\n",
       "      <td>entre</td>\n",
       "      <td>o</td>\n",
       "      <td>convidado</td>\n",
       "      <td>o</td>\n",
       "      <td>-</td>\n",
       "      <td>rei</td>\n",
       "      <td>*</td>\n",
       "      <td>A2</td>\n",
       "      <td>*</td>\n",
       "      <td>A2</td>\n",
       "    </tr>\n",
       "    <tr>\n",
       "      <th>123848</th>\n",
       "      <td>3</td>\n",
       "      <td>2879</td>\n",
       "      <td>5100</td>\n",
       "      <td>0</td>\n",
       "      <td>convidados</td>\n",
       "      <td>convidado</td>\n",
       "      <td>estar</td>\n",
       "      <td>-</td>\n",
       "      <td>0</td>\n",
       "      <td>entre</td>\n",
       "      <td>o</td>\n",
       "      <td>convidado</td>\n",
       "      <td>o</td>\n",
       "      <td>-</td>\n",
       "      <td>rei</td>\n",
       "      <td>*)</td>\n",
       "      <td>A2</td>\n",
       "      <td>*)</td>\n",
       "      <td>A2</td>\n",
       "    </tr>\n",
       "    <tr>\n",
       "      <th>123849</th>\n",
       "      <td>4</td>\n",
       "      <td>2879</td>\n",
       "      <td>5100</td>\n",
       "      <td>0</td>\n",
       "      <td>estão</td>\n",
       "      <td>estar</td>\n",
       "      <td>estar</td>\n",
       "      <td>estar</td>\n",
       "      <td>1</td>\n",
       "      <td>entre</td>\n",
       "      <td>o</td>\n",
       "      <td>convidado</td>\n",
       "      <td>o</td>\n",
       "      <td>-</td>\n",
       "      <td>rei</td>\n",
       "      <td>(V*)</td>\n",
       "      <td>V</td>\n",
       "      <td>(V*)</td>\n",
       "      <td>V</td>\n",
       "    </tr>\n",
       "    <tr>\n",
       "      <th>123850</th>\n",
       "      <td>5</td>\n",
       "      <td>2879</td>\n",
       "      <td>5100</td>\n",
       "      <td>0</td>\n",
       "      <td>o</td>\n",
       "      <td>o</td>\n",
       "      <td>estar</td>\n",
       "      <td>-</td>\n",
       "      <td>1</td>\n",
       "      <td>entre</td>\n",
       "      <td>o</td>\n",
       "      <td>convidado</td>\n",
       "      <td>o</td>\n",
       "      <td>-</td>\n",
       "      <td>rei</td>\n",
       "      <td>(A1*</td>\n",
       "      <td>A1</td>\n",
       "      <td>(A1*</td>\n",
       "      <td>A1</td>\n",
       "    </tr>\n",
       "  </tbody>\n",
       "</table>\n",
       "</div>"
      ],
      "text/plain": [
       "        ID     S     P  P_S        FORM      LEMMA   PRED   FUNC  M_R CTX_P-3  \\\n",
       "IDX                                                                             \n",
       "123846   1  2879  5100    0       Entre      entre  estar      -    0   entre   \n",
       "123847   2  2879  5100    0          os          o  estar      -    0   entre   \n",
       "123848   3  2879  5100    0  convidados  convidado  estar      -    0   entre   \n",
       "123849   4  2879  5100    0       estão      estar  estar  estar    1   entre   \n",
       "123850   5  2879  5100    0           o          o  estar      -    1   entre   \n",
       "\n",
       "       CTX_P-2    CTX_P-1 CTX_P+1 CTX_P+2 CTX_P+3 ARG_0 ARG_1   Y_0 Y_1  \n",
       "IDX                                                                      \n",
       "123846       o  convidado       o       -     rei  (A2*    A2  (A2*  A2  \n",
       "123847       o  convidado       o       -     rei     *    A2     *  A2  \n",
       "123848       o  convidado       o       -     rei    *)    A2    *)  A2  \n",
       "123849       o  convidado       o       -     rei  (V*)     V  (V*)   V  \n",
       "123850       o  convidado       o       -     rei  (A1*    A1  (A1*  A1  "
      ]
     },
     "execution_count": 5,
     "metadata": {},
     "output_type": "execute_result"
    }
   ],
   "source": [
    "df.head()"
   ]
  },
  {
   "cell_type": "code",
   "execution_count": 6,
   "metadata": {},
   "outputs": [
    {
     "data": {
      "text/html": [
       "<div>\n",
       "<style scoped>\n",
       "    .dataframe tbody tr th:only-of-type {\n",
       "        vertical-align: middle;\n",
       "    }\n",
       "\n",
       "    .dataframe tbody tr th {\n",
       "        vertical-align: top;\n",
       "    }\n",
       "\n",
       "    .dataframe thead th {\n",
       "        text-align: right;\n",
       "    }\n",
       "</style>\n",
       "<table border=\"1\" class=\"dataframe\">\n",
       "  <thead>\n",
       "    <tr style=\"text-align: right;\">\n",
       "      <th>Y_1</th>\n",
       "      <th>*</th>\n",
       "      <th>A0</th>\n",
       "      <th>A1</th>\n",
       "      <th>A2</th>\n",
       "      <th>V</th>\n",
       "    </tr>\n",
       "    <tr>\n",
       "      <th>ARG_1</th>\n",
       "      <th></th>\n",
       "      <th></th>\n",
       "      <th></th>\n",
       "      <th></th>\n",
       "      <th></th>\n",
       "    </tr>\n",
       "  </thead>\n",
       "  <tbody>\n",
       "    <tr>\n",
       "      <th>*</th>\n",
       "      <td>1</td>\n",
       "      <td>0</td>\n",
       "      <td>0</td>\n",
       "      <td>0</td>\n",
       "      <td>0</td>\n",
       "    </tr>\n",
       "    <tr>\n",
       "      <th>A0</th>\n",
       "      <td>0</td>\n",
       "      <td>1</td>\n",
       "      <td>0</td>\n",
       "      <td>0</td>\n",
       "      <td>0</td>\n",
       "    </tr>\n",
       "    <tr>\n",
       "      <th>A1</th>\n",
       "      <td>0</td>\n",
       "      <td>0</td>\n",
       "      <td>24</td>\n",
       "      <td>0</td>\n",
       "      <td>0</td>\n",
       "    </tr>\n",
       "    <tr>\n",
       "      <th>A2</th>\n",
       "      <td>0</td>\n",
       "      <td>0</td>\n",
       "      <td>0</td>\n",
       "      <td>3</td>\n",
       "      <td>0</td>\n",
       "    </tr>\n",
       "    <tr>\n",
       "      <th>V</th>\n",
       "      <td>0</td>\n",
       "      <td>0</td>\n",
       "      <td>0</td>\n",
       "      <td>0</td>\n",
       "      <td>1</td>\n",
       "    </tr>\n",
       "  </tbody>\n",
       "</table>\n",
       "</div>"
      ],
      "text/plain": [
       "Y_1    *  A0  A1  A2  V\n",
       "ARG_1                  \n",
       "*      1   0   0   0  0\n",
       "A0     0   1   0   0  0\n",
       "A1     0   0  24   0  0\n",
       "A2     0   0   0   3  0\n",
       "V      0   0   0   0  1"
      ]
     },
     "execution_count": 6,
     "metadata": {},
     "output_type": "execute_result"
    }
   ],
   "source": [
    "df2= df[['ARG_1','Y_1']]\n",
    "table= pd.pivot_table(df2.iloc[:30,:], index='ARG_1', columns='Y_1', aggfunc=len, fill_value=0)\n",
    "table"
   ]
  },
  {
   "cell_type": "markdown",
   "metadata": {},
   "source": [
    " # 2. CONFUSION MATRIX"
   ]
  },
  {
   "cell_type": "code",
   "execution_count": null,
   "metadata": {},
   "outputs": [
    {
     "name": "stderr",
     "output_type": "stream",
     "text": [
      "Python 3.6.3 |Anaconda custom (64-bit)| (default, Oct  6 2017, 12:04:38) \n",
      "[GCC 4.2.1 Compatible Clang 4.0.1 (tags/RELEASE_401/final)] on darwin\n",
      "Type \"help\", \"copyright\", \"credits\" or \"license\" for more information.\n",
      "(InteractiveConsole)\n"
     ]
    },
    {
     "name": "stdout",
     "output_type": "stream",
     "text": [
      "26 25 21\n"
     ]
    },
    {
     "name": "stderr",
     "output_type": "stream",
     "text": [
      "\n",
      "KeyboardInterrupt\n"
     ]
    }
   ],
   "source": [
    "df1= df[['ARG_1','Y_1']]\n",
    "table= pd.pivot_table(df1, index='ARG_1', columns='Y_1', aggfunc=len, fill_value=0)\n",
    "\n",
    "#Makes a unique index out of ground truth and predictions, filling with zeros\n",
    "new_index= table.index.union(table.columns)\n",
    "print(len(new_index), len(table.index), len(table.columns))\n",
    "# import code; code.interact(local=dict(globals(), **locals()))\t\t\n",
    "table= table.reindex(new_index, axis=1)\n",
    "table= table.columns.reindex(new_index)\n",
    "print(len(new_index), len(table.index), len(table.columns))\n",
    "\n",
    "table= table.reindex(new_index, axis=1, fill_value=0)\n",
    "table.columns.names=['predictions']\n",
    "table.index.name='ground truth'\n",
    "table\n"
   ]
  },
  {
   "cell_type": "markdown",
   "metadata": {},
   "source": [
    " ## 3 Evaluation\n",
    " ### Precision .: How many selected items are relevant?\n",
    " ### Recall .: How many relevant items are selected?"
   ]
  },
  {
   "cell_type": "code",
   "execution_count": 9,
   "metadata": {},
   "outputs": [
    {
     "name": "stdout",
     "output_type": "stream",
     "text": [
      "20 20 25\n"
     ]
    }
   ],
   "source": [
    "# BASE MATRICES\n",
    "diag = np.diag(table.as_matrix()).astype(np.float32)\n",
    "retrieved= np.sum(table.as_matrix(), axis=0, keepdims=False).astype(np.float32) #preserve columns, sum over rows\n",
    "relevant= np.sum(table.as_matrix(), axis=1, keepdims=False).astype(np.float32) #preserve rows, sum over columns\n",
    "\n",
    "#PRECISION\n",
    "P=np.nan_to_num(diag / retrieved)\n",
    "print(len(diag), len(retrieved), len(table.index))\n",
    "\n",
    "# precisiondf= pd.DataFrame(data= P, index=table.index, columns=['precision']).fillna(0)\n",
    "# precisiondf.index.name= 'ARG'\n",
    "# # precisiondf\n",
    "\n",
    "# #RECALL\n",
    "# R= np.nan_to_num(diag / relevant)\n",
    "# recalldf= pd.DataFrame(data= R, index=table.index, columns=['recall']).fillna(0)\n",
    "# recalldf.index.name= 'ARG'\n",
    "# # recalldf\n",
    "\n",
    "# #F1\n",
    "# F1= np.nan_to_num(2* ((P * R)/(P + R)))\n",
    "# f1scoredf= pd.DataFrame(data= F1, index=table.index, columns=['f1 score']).fillna(0)\n",
    "# f1scoredf.index.name= 'ARG'\n",
    "\n",
    "# #Concatenate\n",
    "# evaluationdf= pd.concat((precisiondf, recalldf, f1scoredf), axis=1)\n",
    "# evaluationdf\n",
    "\n",
    "\n",
    "\n",
    "\n",
    "\n",
    "\n"
   ]
  },
  {
   "cell_type": "markdown",
   "metadata": {},
   "source": [
    "## 3.1 Total scores "
   ]
  },
  {
   "cell_type": "code",
   "execution_count": 67,
   "metadata": {},
   "outputs": [
    {
     "name": "stdout",
     "output_type": "stream",
     "text": [
      "precision: 56.79\\%\n",
      "recall: 58.25\\%\n",
      "f1 score: 57.51\\%\n"
     ]
    }
   ],
   "source": [
    "df2= df1[['ARG_Y']]\n",
    "df2['N_ARGS']=df2.groupby('ARG_Y')['ARG_Y'].transform('size')\n",
    "df2.drop_duplicates(subset='ARG_Y', inplace=True)\n",
    "# df2\n",
    "df2.set_index('ARG_Y', inplace=True)\n",
    "df2=df2.reindex(index=new_index, fill_value=0)\n",
    "df2\n",
    "# Get the weights for each\n",
    "weights= df2['N_ARGS'].as_matrix()\n",
    "\n",
    "#Totals\n",
    "#precision\n",
    "p=100*P.dot(weights)/np.sum(weights)\n",
    "print('precision: {:.2f}\\%'.format(p))\n",
    "#recall\n",
    "r=100*R.dot(weights)/np.sum(weights)\n",
    "print('recall: {:.2f}\\%'.format(r))\n",
    "#F1 score\n",
    "print('f1 score: {:.2f}\\%'.format(2*(p*r)/(p+r)))\n",
    "\n"
   ]
  },
  {
   "cell_type": "code",
   "execution_count": null,
   "metadata": {
    "collapsed": true
   },
   "outputs": [],
   "source": []
  }
 ],
 "metadata": {
  "kernelspec": {
   "display_name": "Python 3",
   "language": "python",
   "name": "python3"
  },
  "language_info": {
   "codemirror_mode": {
    "name": "ipython",
    "version": 3
   },
   "file_extension": ".py",
   "mimetype": "text/x-python",
   "name": "python",
   "nbconvert_exporter": "python",
   "pygments_lexer": "ipython3",
   "version": "3.6.3"
  }
 },
 "nbformat": 4,
 "nbformat_minor": 2
}

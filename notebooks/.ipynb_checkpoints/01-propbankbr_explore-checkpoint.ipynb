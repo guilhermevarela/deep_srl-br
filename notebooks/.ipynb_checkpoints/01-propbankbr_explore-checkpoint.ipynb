{
 "cells": [
  {
   "cell_type": "code",
   "execution_count": 1,
   "metadata": {
    "collapsed": true
   },
   "outputs": [],
   "source": [
    "import pandas as pd \n",
    "from propbankbr_utils import propbankbr_parser, propbankbr_argument_stats, propbankbr_split"
   ]
  },
  {
   "cell_type": "code",
   "execution_count": 3,
   "metadata": {
    "collapsed": true
   },
   "outputs": [],
   "source": [
    "df = propbankbr_parser() \n",
    "df.head(60) \n",
    "df.to_csv('s_p_df.csv')"
   ]
  },
  {
   "cell_type": "code",
   "execution_count": null,
   "metadata": {
    "collapsed": true
   },
   "outputs": [],
   "source": [
    "dfdevel, dfvalid, dftest= propbankbr_split(df)\n",
    "dftrain= pd.concat((dfdevel,dfvalid))"
   ]
  },
  {
   "cell_type": "code",
   "execution_count": null,
   "metadata": {
    "collapsed": true
   },
   "outputs": [],
   "source": [
    "print('====train database====')\n",
    "prop_train=max(dftrain['P'])-min(dftrain['P'])\n",
    "sent_train=max(dftrain['S'])-min(dftrain['S'])\n",
    "verb_train=len(set(dftrain['PRED']))-1\n",
    "\n",
    "prop_develop=max(dfdevel['P'])-min(dfdevel['P'])\n",
    "sent_develop=max(dfdevel['S'])-min(dfdevel['S'])\n",
    "verb_develop=len(set(dfdevel['PRED']))-1\n",
    "\n",
    "\n",
    "prop_develop_perc= (float(prop_develop) / prop_train)*100\n",
    "sent_develop_perc= (float(sent_develop) / sent_train)*100\n",
    "verb_develop_perc= (float(verb_develop) / verb_train)*100\n",
    "\n",
    "\n",
    "prop_valid=max(dfvalid['P'])-min(dfvalid['P'])\n",
    "sent_valid=max(dfvalid['S'])-min(dfvalid['S'])\n",
    "verb_valid=len(set(dfvalid['PRED']))-1\n",
    "\n",
    "prop_valid_perc= (float(prop_valid) / prop_train)*100\n",
    "sent_valid_perc= (float(sent_valid) / sent_train)*100\n",
    "verb_valid_perc= (float(verb_valid) / verb_train)*100\n",
    "\n",
    "print('\\t\\t\\ttrain\\t\\tdevel\\t\\tvalid')\n",
    "values=('Proposições',prop_train,100.0,prop_develop, prop_develop_perc, prop_valid, prop_valid_perc)\n",
    "buff= '%s\\t%d %.2f\\t%d %.2f\\t%d %.2f\\t' %  values\n",
    "print(buff)    \n",
    "values=('Sentenças',sent_train,100.0,sent_develop, sent_develop_perc, sent_valid, sent_valid_perc)\n",
    "buff= '%s\\t%d %.2f\\t%d %.2f\\t%d %.2f\\t' %  values\n",
    "print(buff)    \n",
    "values=('Verbos Distintos',verb_train,100.0,verb_develop, verb_develop_perc, verb_valid, verb_valid_perc)\n",
    "buff= '%s\\t%d %.2f\\t%d %.2f\\t%d %.2f\\t' %  values\n",
    "print(buff)    \n"
   ]
  },
  {
   "cell_type": "code",
   "execution_count": null,
   "metadata": {
    "collapsed": true
   },
   "outputs": [],
   "source": [
    "print('====test database====')\n",
    "print('propositions:', max(dftest['P'])-min(dftest['P']))\n",
    "print('sentences:', max(dftest['S'])-min(dftest['S']))\n",
    "print('verbs distinct:', len(set(dftest['PRED']))-1)\n",
    "\n",
    "print('====total database====')\n",
    "print('propositions:', max(df['P'])-min(df['P']))\n",
    "print('sentences:', max(df['S'])-min(df['S']))\n",
    "print('verbs distinct:', len(set(df['PRED']))-1)\n",
    "\n",
    "\n",
    "print('propositions:',(max(dftest['P'])-min(dftest['P'])) /(max(df['P'])-min(df['P']) ))\n",
    "\n"
   ]
  },
  {
   "cell_type": "code",
   "execution_count": null,
   "metadata": {
    "collapsed": true
   },
   "outputs": [],
   "source": [
    "stats = propbankbr_argument_stats(df)\n",
    "stats_train= propbankbr_argument_stats(dftrain)\n",
    "stats_devel= propbankbr_argument_stats(dfdevel)\n",
    "stats_valid= propbankbr_argument_stats(dfvalid)\n",
    "stats_test=  propbankbr_argument_stats(dftest)\n",
    "\n",
    "devel_total=0\n",
    "train_total=0\n",
    "valid_total=0\n",
    "arguments=['A0','A1','A2','A3','A4','A5',\n",
    "'AM-ADV','AM-CAU','AM-DIR','AM-DIS','AM-EXT','AM-LOC',\n",
    "'AM-MED','AM-MNR','AM-NEG','AM-PNC','AM-PRD','AM-REC',\n",
    "'AM-TMP']\n",
    "print('ARG\\ttrain\\t\\tdevel\\t\\tvalid')\n",
    "for key in arguments:\n",
    "    trainvalue = stats_train.get(key,0)\n",
    "    trainperc  = 100.0\n",
    "    develvalue = stats_devel.get(key,0)\n",
    "    develperc  = 100*(float(develvalue) / trainvalue)\n",
    "    validvalue = stats_valid.get(key,0)\n",
    "    validperc  = 100*(float(validvalue) / trainvalue)\n",
    "    values=(key, trainvalue, trainperc, develvalue, develperc, validvalue, validperc)\n",
    "    devel_total+=    develvalue\n",
    "    train_total+=    trainvalue\n",
    "    valid_total+=    validvalue\n",
    "    buff= '%s\\t%d %.2f\\t%d %.2f\\t%d %.2f\\t' %  values\n",
    "    print(buff)    \n",
    "    \n",
    "print('train total:',train_total,float(train_total)*100/train_total)    \n",
    "print('devel total:',devel_total,float(devel_total)*100/train_total)    \n",
    "print('valid total:',valid_total,float(valid_total)*100/train_total)    "
   ]
  }
 ],
 "metadata": {
  "kernelspec": {
   "display_name": "Python 3",
   "language": "python",
   "name": "python3"
  },
  "language_info": {
   "codemirror_mode": {
    "name": "ipython",
    "version": 3
   },
   "file_extension": ".py",
   "mimetype": "text/x-python",
   "name": "python",
   "nbconvert_exporter": "python",
   "pygments_lexer": "ipython3",
   "version": "3.6.3"
  }
 },
 "nbformat": 4,
 "nbformat_minor": 2
}

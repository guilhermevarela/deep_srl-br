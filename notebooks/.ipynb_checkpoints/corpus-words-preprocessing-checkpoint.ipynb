{
 "cells": [
  {
   "cell_type": "markdown",
   "metadata": {},
   "source": [
    "# Corpus Words Study"
   ]
  },
  {
   "cell_type": "code",
   "execution_count": 4,
   "metadata": {},
   "outputs": [
    {
     "data": {
      "text/plain": [
       "(141730, 18)"
      ]
     },
     "execution_count": 4,
     "metadata": {},
     "output_type": "execute_result"
    }
   ],
   "source": [
    "# imports a sister directory: ../datasets\n",
    "import sys, os \n",
    "sys.path.append(os.path.join(os.path.dirname(sys.path[0]),'datasets')) \n",
    "sys.path.append('../datasets/')\n",
    "\n",
    "import pandas as pd \n",
    "from data_vocabularies import vocab_word2vec\n",
    "\n",
    "INPUT_DIR= '../datasets/inputs/00'\n",
    "CSV_DIR= '../datasets/csvs'\n",
    "\n",
    "INPUT_CORPUS= '{:}/{:}'.format(CSV_DIR, 'zhou.csv')\n",
    "df = pd.read_csv(INPUT_CORPUS)\n",
    "df.shape"
   ]
  },
  {
   "cell_type": "code",
   "execution_count": 9,
   "metadata": {},
   "outputs": [
    {
     "name": "stdout",
     "output_type": "stream",
     "text": [
      "unique lemmas 9071\n"
     ]
    }
   ],
   "source": [
    "df_lemma= df.drop_duplicates(subset='LEMMA')\n",
    "lemmas=df_lemma['LEMMA'].values.tolist()\n",
    "print('unique lemmas',len(lemmas))"
   ]
  },
  {
   "cell_type": "code",
   "execution_count": 6,
   "metadata": {
    "collapsed": true
   },
   "outputs": [],
   "source": [
    "word2vec= vocab_word2vec(dataset_name='glove_s50')"
   ]
  },
  {
   "cell_type": "code",
   "execution_count": 12,
   "metadata": {},
   "outputs": [
    {
     "name": "stdout",
     "output_type": "stream",
     "text": [
      "missing lemmas: 3284\n"
     ]
    }
   ],
   "source": [
    "missing=[]\n",
    "for lemma in lemmas:\n",
    "    try:\n",
    "        word2vec[lemma]\n",
    "    except KeyError:\n",
    "        missing.append(lemma)\n",
    "print('missing lemmas:',len(missing))        "
   ]
  },
  {
   "cell_type": "code",
   "execution_count": 18,
   "metadata": {},
   "outputs": [
    {
     "name": "stdout",
     "output_type": "stream",
     "text": [
      "missing lemmas: 3172\n"
     ]
    }
   ],
   "source": [
    "import string\n",
    "import re\n",
    "re_punctuation= re.compile(r'[{:}]'.format(string.punctuation), re.UNICODE)\n",
    "\n",
    "no_punctuation_missing=[]\n",
    "for lemma in missing:\n",
    "    try:\n",
    "        lemma2= re_punctuation.sub('', lemma)\n",
    "        word2vec[lemma2]\n",
    "    except KeyError:\n",
    "        no_punctuation_missing.append(lemma)\n",
    "\n",
    "print('missing lemmas:', len(no_punctuation_missing))                "
   ]
  },
  {
   "cell_type": "code",
   "execution_count": null,
   "metadata": {
    "collapsed": true
   },
   "outputs": [],
   "source": []
  }
 ],
 "metadata": {
  "kernelspec": {
   "display_name": "Python (tensorflow)",
   "language": "python",
   "name": "tensorflow"
  },
  "language_info": {
   "codemirror_mode": {
    "name": "ipython",
    "version": 3
   },
   "file_extension": ".py",
   "mimetype": "text/x-python",
   "name": "python",
   "nbconvert_exporter": "python",
   "pygments_lexer": "ipython3",
   "version": "3.6.3"
  }
 },
 "nbformat": 4,
 "nbformat_minor": 2
}

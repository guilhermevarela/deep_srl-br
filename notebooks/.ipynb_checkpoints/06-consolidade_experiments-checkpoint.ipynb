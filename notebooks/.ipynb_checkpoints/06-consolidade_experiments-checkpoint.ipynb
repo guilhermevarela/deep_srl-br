{
 "cells": [
  {
   "cell_type": "markdown",
   "metadata": {},
   "source": [
    " # Compares multiple experiments outputs\n",
    " ## 1. Imports"
   ]
  },
  {
   "cell_type": "code",
   "execution_count": 12,
   "metadata": {},
   "outputs": [],
   "source": [
    "#allows us to import siblings modules\n",
    "import sys\n",
    "sys.path.append('..')\n",
    "# dir ops for iterating outputs directory\n",
    "import os \n",
    "#helps speedup file io\n",
    "import pandas as pd\n",
    "# custom models that allow evaluation\n",
    "from evaluator_conll import ConllEvaluator # Runs conll official script under the hood\n",
    "from propbank import Propbank # Propbank class that acts as a wrapper to binaries\n"
   ]
  },
  {
   "cell_type": "markdown",
   "metadata": {},
   "source": [
    "## 2. Initializing Propbank and Evaluator"
   ]
  },
  {
   "cell_type": "code",
   "execution_count": 17,
   "metadata": {},
   "outputs": [],
   "source": [
    "propbank = Propbank.recover('../datasets/binaries/db_pt_LEMMA_glove_s50.pickle')\n",
    "\n",
    "train_evaluator = ConllEvaluator('train', \n",
    "        propbank.feature('train', 'S', True),\n",
    "        propbank.feature('train', 'P', True),\n",
    "        propbank.feature('train', 'PRED', True),\n",
    "        propbank.feature('train', 'ARG', True)\n",
    ")\n",
    "valid_evaluator = ConllEvaluator('valid', \n",
    "        propbank.feature('valid', 'S', True),\n",
    "        propbank.feature('valid', 'P', True),\n",
    "        propbank.feature('valid', 'PRED', True),\n",
    "        propbank.feature('valid', 'ARG', True)\n",
    ")"
   ]
  },
  {
   "cell_type": "markdown",
   "metadata": {},
   "source": [
    "## 3. Iterates outputs dir"
   ]
  },
  {
   "cell_type": "code",
   "execution_count": 18,
   "metadata": {},
   "outputs": [
    {
     "name": "stdout",
     "output_type": "stream",
     "text": [
      "../outputs/dblstm_crf/lr1.00e-04_hs96_ctx-p1_glove_s50/00 [] ['checkpoint', 'settings.txt', 'Yhat_valid.csv']\n",
      "../outputs/dblstm_crf/lr1.00e-04_hs8_ctx-p1_glove_s50/00 [] ['checkpoint', 'settings.txt', 'Yhat_valid.csv']\n",
      "../outputs/dblstm_crf/lr5.00e-04_hs16_ctx-p1_glove_s50/00 [] ['checkpoint', 'settings.txt', 'Yhat_valid.csv']\n",
      "../outputs/blstm_softmax/lr5.00e-04_hs128x128_ctx-p1_glove_s50/00 [] ['conllscore_valid.txt', 'settings.txt', 'traingold.txt', 'traineval.txt', 'conllscore_train.txt']\n",
      "../outputs/dblstm_crf_3_sanity_check/lr5.00e-04_hs32x32x32x32_ctx-p3_glove_s50/00 [] ['conllscore_valid.txt', 'settings.txt', 'traingold.txt', 'traineval.txt', 'conllscore_train.txt']\n",
      "../outputs/dblstm_crf_3_sanity_check/lr5.00e-04_hs16x16x16x16_ctx-p3_glove_s50/00 [] ['conllscore_valid.txt', 'settings.txt', 'traingold.txt', 'traineval.txt', 'conllscore_train.txt']\n",
      "../outputs/dblstm_crf_2/lr5.00e-04_hs128x64_ctx-p1_glove_s50/00 [] ['conllscore_valid.txt', 'settings.txt', 'traingold.txt', 'traineval.txt', 'conllscore_train.txt']\n",
      "../outputs/dblstm_crf_2/lr5.00e-04_hs128x64_ctx-p1_glove_s50/01 [] ['conllscore_valid.txt', 'settings.txt', 'traingold.txt', 'traineval.txt', 'conllscore_train.txt']\n",
      "../outputs/dblstm_crf_2/lr5.00e-04_hs32x32_ctx-p1_glove_s50/00 [] ['settings.txt']\n",
      "../outputs/dblstm_crf_2/lr5.00e-04_hs256x256_ctx-p1_glove_s50/00 [] ['conllscore_valid.txt', 'settings.txt', 'traingold.txt', 'traineval.txt', 'conllscore_train.txt']\n",
      "../outputs/dblstm_crf_2/lr5.00e-04_hs256x256_ctx-p1_glove_s50/01 [] ['settings.txt']\n",
      "../outputs/dblstm_crf_2/lr5.00e-04_hs256x128_ctx-p1_glove_s50/00 [] ['conllscore_valid.txt', 'settings.txt', 'traingold.txt', 'traineval.txt', 'conllscore_train.txt']\n",
      "../outputs/dblstm_crf_2/lr5.00e-04_hs32x32x32_ctx-p1_glove_s50/00 [] ['settings.txt']\n",
      "../outputs/dblstm_crf_2/lr5.00e-04_hs512x128_ctx-p3_glove_s50/00 [] ['conllscore_valid.txt', 'settings.txt', 'traingold.txt', 'traineval.txt', 'conllscore_train.txt']\n",
      "../outputs/dblstm_crf_2/lr1.00e-04_hs8x8_ctx-p1_glove_s50/00 [] ['events.out.tfevents.1521225488.macbook', 'checkpoint', 'graph_params-11149.index', 'Yhat_valid.csv', 'graph_params-11149.data-00000-of-00001', 'graph_params-11149.meta']\n",
      "../outputs/dblstm_crf_3_sanity_check_2/lr5.00e-04_hs32x32x32x32_ctx-p1_glove_s50/00 [] ['conllscore_valid.txt', 'settings.txt', 'traingold.txt', 'traineval.txt', 'conllscore_train.txt']\n",
      "../outputs/dblstm_crf_3/lr5.00e-04_hs16x16x16x16_ctx-p1_fasttext_s50/00 [] ['conllscore_valid.txt', 'settings.txt', 'traingold.txt', 'traineval.txt', 'conllscore_train.txt']\n",
      "../outputs/dblstm_crf_3/lr5.00e-04_hs32x32_ctx-p1_glove_s50/02 [] ['conllscore_valid.txt', 'settings.txt', 'traingold.txt', 'traineval.txt', 'conllscore_train.txt']\n",
      "../outputs/dblstm_crf_3/lr5.00e-04_hs32x32_ctx-p1_glove_s50/00 [] ['settings.txt']\n",
      "../outputs/dblstm_crf_3/lr5.00e-04_hs32x32_ctx-p1_glove_s50/01 [] ['settings.txt']\n",
      "../outputs/dblstm_crf_3/lr5.00e-04_hs16x16x16x16_ctx-p1_word2vec_s50/00 [] ['conllscore_valid.txt', 'settings.txt', 'traingold.txt', 'traineval.txt', 'conllscore_train.txt']\n",
      "../outputs/dblstm_crf_3/lr1.00e-03_hs128_ctx-p1_glove_s50/00 [] ['conllscore_valid.txt', 'settings.txt', 'traingold.txt', 'traineval.txt', 'conllscore_train.txt']\n",
      "../outputs/dblstm_crf_3/lr5.00e-04_hs32x32x32x32_ctx-p1_glove_s50/00 [] ['conllscore_valid.txt', 'settings.txt', 'traingold.txt', 'traineval.txt', 'conllscore_train.txt']\n",
      "../outputs/dblstm_crf_3/lr5.00e-04_hs32x32x32x32_ctx-p1_glove_s50/01 [] ['conllscore_valid.txt', 'settings.txt', 'traingold.txt', 'traineval.txt', 'conllscore_train.txt']\n",
      "../outputs/dblstm_crf_3/lr1.00e-03_hs16x16x16x16_ctx-p1_word2vec_s50/00 [] ['conllscore_valid.txt', 'settings.txt', 'traingold.txt', 'traineval.txt', 'conllscore_train.txt']\n",
      "../outputs/dblstm_crf_3/lr5.00e-04_hs16x16x16x16_ctx-p1_glove_s50/00 [] ['conllscore_valid.txt', 'valideval.txt', 'settings.txt', 'traingold.txt', 'traineval.txt', 'conllscore_train.txt', 'validgold.txt']\n",
      "../outputs/dblstm_crf_3/lr5.00e-04_hs16x16x16x16_ctx-p1_glove_s50/01 [] ['settings.txt']\n",
      "../outputs/blstm_crf_2/lr1.00e-03_hs128_ctx-p1_wang2vec_s100/00 [] ['conllscore_valid.txt', 'settings.txt', 'traingold.txt', 'traineval.txt', 'conllscore_train.txt']\n",
      "../outputs/blstm_crf_2/lr1.00e-03_hs128x64_ctx-p1_glove_s50/00 [] ['conllscore_valid.txt', 'settings.txt', 'traingold.txt', 'traineval.txt', 'conllscore_train.txt']\n",
      "../outputs/blstm_crf_2/lr5.00e-04_hs256_ctx-p1_glove_s50/00 [] ['conllscore_valid.txt', 'traingold.txt', 'traineval.txt', 'conllscore_train.txt']\n",
      "../outputs/blstm_crf_2/lr5.00e-04_hs32x32x32x32_ctx-p1_glove_s50/00 [] ['conllscore_valid.txt', 'settings.txt', 'traingold.txt', 'traineval.txt', 'conllscore_train.txt']\n",
      "../outputs/blstm_crf_2/lr1.00e-03_hs128x64x32_ctx-p3_glove_s50/00 [] ['conllscore_valid.txt', 'settings.txt', 'traingold.txt', 'traineval.txt', 'conllscore_train.txt']\n",
      "../outputs/blstm_crf_2/lr5.00e-04_hs16x16x16x16_ctx-p1_glove_s50/00 [] ['conllscore_valid.txt', 'settings.txt', 'traingold.txt', 'traineval.txt', 'conllscore_train.txt']\n",
      "../outputs/blstm_crf_2/lr5.00e-04_hs128_ctx-p1_wang2vec_s100/00 [] ['settings.txt']\n"
     ]
    }
   ],
   "source": [
    "#thisdir encodes model and a version and hiperparams\n",
    "#thisubdir is the model subversion\n",
    "for _dir,_subdir,_filenames in os.walk('../outputs'):\n",
    "    # node condition: when this happens than we have \n",
    "    # model_name, model_version, model_hparams, subversion\n",
    "    if not(_subdir) and _filenames:\n",
    "        print(_dir, _subdir, _filenames)"
   ]
  },
  {
   "cell_type": "code",
   "execution_count": null,
   "metadata": {
    "collapsed": true
   },
   "outputs": [],
   "source": []
  }
 ],
 "metadata": {
  "kernelspec": {
   "display_name": "Python (tensorflow)",
   "language": "python",
   "name": "tensorflow"
  },
  "language_info": {
   "codemirror_mode": {
    "name": "ipython",
    "version": 3
   },
   "file_extension": ".py",
   "mimetype": "text/x-python",
   "name": "python",
   "nbconvert_exporter": "python",
   "pygments_lexer": "ipython3",
   "version": "3.6.3"
  }
 },
 "nbformat": 4,
 "nbformat_minor": 2
}

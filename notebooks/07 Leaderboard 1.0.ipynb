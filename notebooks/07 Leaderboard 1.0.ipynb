{
 "cells": [
  {
   "cell_type": "code",
   "execution_count": 2,
   "metadata": {},
   "outputs": [],
   "source": [
    "import sys\n",
    "import json\n",
    "import glob\n",
    "\n",
    "sys.path.append('datasets')\n",
    "sys.path.append('models')\n",
    "\n",
    "# this is the default configuration\n",
    "default = {\"batch_size\": 250,\n",
    "          \"chunks\": False,\n",
    "          \"embeddings_model\": \"glo50\",\n",
    "          \"epochs\": 1000,\n",
    "          \"hidden_layers\": [32],\n",
    "          \"input_labels\": [\"ID\", \"FORM\", \"MARKER\", \"GPOS\", \"FORM_CTX_P-1\", \"FORM_CTX_P+0\", \"FORM_CTX_P+1\"],\n",
    "          \"lr\": 0.005,\n",
    "          \"ru\": \"BasicLSTM\",\n",
    "          \"target_labels\": [\"T\"],\n",
    "          \"kfold\": False,\n",
    "          \"version\": \"1.0\"}"
   ]
  },
  {
   "cell_type": "code",
   "execution_count": null,
   "metadata": {},
   "outputs": [],
   "source": []
  }
 ],
 "metadata": {
  "kernelspec": {
   "display_name": "Python 3",
   "language": "python",
   "name": "python3"
  },
  "language_info": {
   "codemirror_mode": {
    "name": "ipython",
    "version": 3
   },
   "file_extension": ".py",
   "mimetype": "text/x-python",
   "name": "python",
   "nbconvert_exporter": "python",
   "pygments_lexer": "ipython3",
   "version": "3.6.5"
  }
 },
 "nbformat": 4,
 "nbformat_minor": 2
}

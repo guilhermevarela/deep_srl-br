{
 "cells": [
  {
   "cell_type": "markdown",
   "metadata": {},
   "source": [
    "# 1. Loads Gold Standard and Schema"
   ]
  },
  {
   "cell_type": "code",
   "execution_count": 20,
   "metadata": {
    "collapsed": true
   },
   "outputs": [],
   "source": [
    "from collections import defaultdict\n",
    "import pandas as pd\n",
    "import yaml\n",
    "import glob \n",
    "import re\n",
    "\n",
    "DATASETS_DIR = '../datasets/csvs/'\n",
    "SCHEMAS_DIR = '../datasets/schemas/'\n",
    "SVM_DIR = '../datasets/svms/hot/'\n",
    "GS_PATH = '{:}{:}'.format(DATASETS_DIR, 'gs.csv')\n",
    "GS_SCHEMA_PATH = '{:}{:}'.format(SCHEMAS_DIR, 'gs.yaml')\n",
    "\n",
    "DATASET_SIZE= 5931\n",
    "DATASET_TRAIN_SIZE= 5099\n",
    "DATASET_VALID_SIZE= 569\n",
    "DATASET_TEST_SIZE=  263\n"
   ]
  },
  {
   "cell_type": "code",
   "execution_count": 2,
   "metadata": {},
   "outputs": [
    {
     "name": "stdout",
     "output_type": "stream",
     "text": [
      "['ARG', 'CTREE', 'DTREE', 'FORM', 'FUNC', 'GPOS', 'ID', 'INDEX', 'LEMMA', 'MORF', 'P', 'PRED', 'P_S', 'S']\n"
     ]
    }
   ],
   "source": [
    "with open(GS_SCHEMA_PATH, mode='r') as f:\n",
    "    dictschema = yaml.load(f)\n",
    "\n",
    "print([ i\n",
    "    for i in dictschema])\n"
   ]
  },
  {
   "cell_type": "code",
   "execution_count": 3,
   "metadata": {},
   "outputs": [
    {
     "name": "stdout",
     "output_type": "stream",
     "text": [
      "Index(['ID', 'S', 'P', 'P_S', 'FORM', 'LEMMA', 'GPOS', 'MORF', 'DTREE', 'FUNC',\n",
      "       'CTREE', 'PRED', 'ARG'],\n",
      "      dtype='object')\n"
     ]
    }
   ],
   "source": [
    "df = pd.read_csv(GS_PATH, sep=',', encoding='utf-8', index_col=0)\n",
    "print(df.columns)"
   ]
  },
  {
   "cell_type": "markdown",
   "metadata": {},
   "source": [
    "# 2. Loads gs_column_shifts"
   ]
  },
  {
   "cell_type": "code",
   "execution_count": 4,
   "metadata": {},
   "outputs": [
    {
     "name": "stdout",
     "output_type": "stream",
     "text": [
      "Index(['ID', 'S', 'P', 'P_S', 'FORM', 'LEMMA', 'GPOS', 'MORF', 'DTREE', 'FUNC',\n",
      "       'CTREE', 'PRED', 'ARG', 'FORM+1', 'FORM+2', 'FORM+3', 'FORM-1',\n",
      "       'FORM-2', 'FORM-3', 'LEMMA+1', 'LEMMA+2', 'LEMMA+3', 'LEMMA-1',\n",
      "       'LEMMA-2', 'LEMMA-3', 'GPOS+1', 'GPOS+2', 'GPOS+3', 'GPOS-1', 'GPOS-2',\n",
      "       'GPOS-3'],\n",
      "      dtype='object')\n"
     ]
    }
   ],
   "source": [
    "gs_column_shift = '../datasets/csvs/gs_column_shifts/*'\n",
    "for file_path in glob.glob(gs_column_shift):\n",
    "    _df = pd.read_csv(file_path, sep=',', encoding='utf-8', index_col=0)\n",
    "    df = pd.concat((df, _df), axis=1, ignore_index=False)\n",
    "print(df.columns)"
   ]
  },
  {
   "cell_type": "markdown",
   "metadata": {},
   "source": [
    "# 3. Features per column"
   ]
  },
  {
   "cell_type": "code",
   "execution_count": 5,
   "metadata": {},
   "outputs": [
    {
     "name": "stdout",
     "output_type": "stream",
     "text": [
      "{'ID': 1, 'S': 1, 'P': 1, 'P_S': 1, 'FORM': 13290, 'LEMMA': 9071, 'GPOS': 25, 'MORF': 25, 'DTREE': 91, 'FUNC': 49, 'CTREE': 49, 'PRED': 1027, 'ARG': 60, 'FORM+1': 13290, 'FORM+2': 13290, 'FORM+3': 13290, 'FORM-1': 13290, 'FORM-2': 13290, 'FORM-3': 13290, 'LEMMA+1': 9071, 'LEMMA+2': 9071, 'LEMMA+3': 9071, 'LEMMA-1': 9071, 'LEMMA-2': 9071, 'LEMMA-3': 9071, 'GPOS+1': 25, 'GPOS+2': 25, 'GPOS+3': 25, 'GPOS-1': 25, 'GPOS-2': 25, 'GPOS-3': 25}\n"
     ]
    }
   ],
   "source": [
    "\n",
    "columns_mapper = {col: re.sub(r'[\\+|\\-|\\d]', '', col) for col in df.columns.tolist()}\n",
    "\n",
    "bounds_mapper = {colfeat:len(dictschema[colbase].get('domain',[1]))\n",
    "          for colfeat, colbase in columns_mapper.items()}\n",
    "          \n",
    "\n",
    "print(bounds_mapper)"
   ]
  },
  {
   "cell_type": "code",
   "execution_count": 7,
   "metadata": {},
   "outputs": [
    {
     "name": "stdout",
     "output_type": "stream",
     "text": [
      "dict_keys(['ARG', 'CTREE', 'DTREE', 'FORM', 'FUNC', 'GPOS', 'LEMMA', 'MORF', 'PRED'])\n",
      "dict_keys(['ID', 'S', 'P', 'P_S', 'FORM', 'LEMMA', 'GPOS', 'MORF', 'DTREE', 'FUNC', 'CTREE', 'PRED', 'ARG', 'FORM+1', 'FORM+2', 'FORM+3', 'FORM-1', 'FORM-2', 'FORM-3', 'LEMMA+1', 'LEMMA+2', 'LEMMA+3', 'LEMMA-1', 'LEMMA-2', 'LEMMA-3', 'GPOS+1', 'GPOS+2', 'GPOS+3', 'GPOS-1', 'GPOS-2', 'GPOS-3'])\n"
     ]
    }
   ],
   "source": [
    "lexicons = {col : \n",
    "                dict(\n",
    "                     zip(dictschema[col]['domain'], \n",
    "                         range(1, bounds_mapper[col]+1)\n",
    "                        )\n",
    "                    )\n",
    "             for col in dictschema if 'domain' in dictschema[col]}\n",
    "\n",
    "\n",
    "columns = ['FORM', 'LEMMA', 'GPOS', 'MORF', 'DTREE', 'FUNC', 'CTREE', 'PRED',\n",
    "          'FORM-3', 'FORM-2', 'FORM-1', 'FORM+1', 'FORM+2', 'FORM+3',\n",
    "          'LEMMA-3', 'LEMMA-2', 'LEMMA-1', 'LEMMA+1', 'LEMMA+2', 'LEMMA+3',\n",
    "          'GPOS-3', 'GPOS-2', 'GPOS-1', 'GPOS+1', 'GPOS+2', 'GPOS+3']\n",
    "\n",
    "\n",
    "d = df.to_dict()\n",
    "\n",
    "print(lexicons.keys())\n",
    "print(d.keys())"
   ]
  },
  {
   "cell_type": "code",
   "execution_count": 9,
   "metadata": {},
   "outputs": [
    {
     "data": {
      "text/plain": [
       "{134: 1,\n",
       " 13386: 1,\n",
       " 22362: 1,\n",
       " 22386: 1,\n",
       " 22417: 1,\n",
       " 22514: 1,\n",
       " 22551: 1,\n",
       " 23172: 1,\n",
       " 23627: 1,\n",
       " 36917: 1,\n",
       " 50207: 1,\n",
       " 72569: 1,\n",
       " 86827: 1,\n",
       " 97445: 1,\n",
       " 103367: 1,\n",
       " 112438: 1,\n",
       " 121509: 1,\n",
       " 136790: 1,\n",
       " 145405: 1,\n",
       " 153753: 1,\n",
       " 157793: 1,\n",
       " 157818: 1,\n",
       " 157843: 1,\n",
       " 157890: 1,\n",
       " 157902: 1,\n",
       " 157922: 1}"
      ]
     },
     "execution_count": 9,
     "metadata": {},
     "output_type": "execute_result"
    }
   ],
   "source": [
    "args = [] \n",
    "sparse_features = defaultdict(dict)\n",
    "propositions = []        \n",
    "for idx, propid in d['P'].items():\n",
    "    lb = 0 \n",
    "    for col in columns:\n",
    "        base_col = columns_mapper[col]\n",
    "        categorical = d[col][idx] \n",
    "        if categorical in lexicons[base_col]:\n",
    "            idx1 = lexicons[base_col][categorical]\n",
    "            sparse_features[idx][lb + idx1]=1 \n",
    "        else:\n",
    "            # nan set to zero\n",
    "            sparse_features[idx][lb]=1 \n",
    "        lb += bounds_mapper[col] \n",
    "\n",
    "    args.append(lexicons['ARG'][d['ARG'][idx]]) \n",
    "    propositions.append( propid )\n",
    "\n",
    "        \n",
    "sparse_features[0]"
   ]
  },
  {
   "cell_type": "code",
   "execution_count": 10,
   "metadata": {},
   "outputs": [
    {
     "data": {
      "text/plain": [
       "[3, 23, 3, 43, 12]"
      ]
     },
     "execution_count": 10,
     "metadata": {},
     "output_type": "execute_result"
    }
   ],
   "source": [
    "args[:5]"
   ]
  },
  {
   "cell_type": "code",
   "execution_count": 11,
   "metadata": {},
   "outputs": [
    {
     "data": {
      "text/html": [
       "<div>\n",
       "<style scoped>\n",
       "    .dataframe tbody tr th:only-of-type {\n",
       "        vertical-align: middle;\n",
       "    }\n",
       "\n",
       "    .dataframe tbody tr th {\n",
       "        vertical-align: top;\n",
       "    }\n",
       "\n",
       "    .dataframe thead th {\n",
       "        text-align: right;\n",
       "    }\n",
       "</style>\n",
       "<table border=\"1\" class=\"dataframe\">\n",
       "  <thead>\n",
       "    <tr style=\"text-align: right;\">\n",
       "      <th></th>\n",
       "      <th>ID</th>\n",
       "      <th>S</th>\n",
       "      <th>P</th>\n",
       "      <th>P_S</th>\n",
       "      <th>FORM</th>\n",
       "      <th>LEMMA</th>\n",
       "      <th>GPOS</th>\n",
       "      <th>MORF</th>\n",
       "      <th>DTREE</th>\n",
       "      <th>FUNC</th>\n",
       "      <th>...</th>\n",
       "      <th>LEMMA+3</th>\n",
       "      <th>LEMMA-1</th>\n",
       "      <th>LEMMA-2</th>\n",
       "      <th>LEMMA-3</th>\n",
       "      <th>GPOS+1</th>\n",
       "      <th>GPOS+2</th>\n",
       "      <th>GPOS+3</th>\n",
       "      <th>GPOS-1</th>\n",
       "      <th>GPOS-2</th>\n",
       "      <th>GPOS-3</th>\n",
       "    </tr>\n",
       "    <tr>\n",
       "      <th>INDEX</th>\n",
       "      <th></th>\n",
       "      <th></th>\n",
       "      <th></th>\n",
       "      <th></th>\n",
       "      <th></th>\n",
       "      <th></th>\n",
       "      <th></th>\n",
       "      <th></th>\n",
       "      <th></th>\n",
       "      <th></th>\n",
       "      <th></th>\n",
       "      <th></th>\n",
       "      <th></th>\n",
       "      <th></th>\n",
       "      <th></th>\n",
       "      <th></th>\n",
       "      <th></th>\n",
       "      <th></th>\n",
       "      <th></th>\n",
       "      <th></th>\n",
       "      <th></th>\n",
       "    </tr>\n",
       "  </thead>\n",
       "  <tbody>\n",
       "    <tr>\n",
       "      <th>0</th>\n",
       "      <td>1</td>\n",
       "      <td>1</td>\n",
       "      <td>1</td>\n",
       "      <td>0</td>\n",
       "      <td>Brasília</td>\n",
       "      <td>Brasília</td>\n",
       "      <td>PROP</td>\n",
       "      <td>F|S</td>\n",
       "      <td>5</td>\n",
       "      <td>ADVL</td>\n",
       "      <td>...</td>\n",
       "      <td>hoje</td>\n",
       "      <td>NaN</td>\n",
       "      <td>NaN</td>\n",
       "      <td>NaN</td>\n",
       "      <td>N</td>\n",
       "      <td>V-PCP</td>\n",
       "      <td>ADV</td>\n",
       "      <td>NaN</td>\n",
       "      <td>NaN</td>\n",
       "      <td>NaN</td>\n",
       "    </tr>\n",
       "  </tbody>\n",
       "</table>\n",
       "<p>1 rows × 31 columns</p>\n",
       "</div>"
      ],
      "text/plain": [
       "       ID  S  P  P_S      FORM     LEMMA  GPOS MORF  DTREE  FUNC  ...    \\\n",
       "INDEX                                                             ...     \n",
       "0       1  1  1    0  Brasília  Brasília  PROP  F|S      5  ADVL  ...     \n",
       "\n",
       "      LEMMA+3 LEMMA-1 LEMMA-2 LEMMA-3 GPOS+1 GPOS+2 GPOS+3 GPOS-1 GPOS-2  \\\n",
       "INDEX                                                                      \n",
       "0        hoje     NaN     NaN     NaN      N  V-PCP    ADV    NaN    NaN   \n",
       "\n",
       "      GPOS-3  \n",
       "INDEX         \n",
       "0        NaN  \n",
       "\n",
       "[1 rows x 31 columns]"
      ]
     },
     "execution_count": 11,
     "metadata": {},
     "output_type": "execute_result"
    }
   ],
   "source": [
    "# FORM .: first sparse feature = lexicons['FORM']['Brasília'] --> 134\n",
    "# LEMMA .: second sparse feature = bounds_mapper['FORM'] + lexicons['LEMMA']['Brasília'] --> 13386\n",
    "# GPOS .: third sparse feature =  bounds_mapper['FORM'] +  bounds_mapper['LEMMA'] + lexicons['GPOS']['PROP'] --> 22362\n",
    "df.head(1)"
   ]
  },
  {
   "cell_type": "code",
   "execution_count": 21,
   "metadata": {},
   "outputs": [],
   "source": [
    "for ds_type in ('train', 'test', 'valid'):    \n",
    "    if ds_type in ('train'):                \n",
    "      lb = 0\n",
    "      ub = DATASET_TRAIN_SIZE \n",
    "\n",
    "    if ds_type in ('valid'):                \n",
    "      lb = DATASET_TRAIN_SIZE \n",
    "      ub = DATASET_TRAIN_SIZE + DATASET_VALID_SIZE\n",
    "\n",
    "    if ds_type in ('test'):                \n",
    "      lb = DATASET_TRAIN_SIZE + DATASET_VALID_SIZE \n",
    "      ub = DATASET_TRAIN_SIZE + DATASET_VALID_SIZE + DATASET_TEST_SIZE\n",
    "        \n",
    "    # saves the processed data\n",
    "    svm_path = '{:}{:}.svm'.format(SVM_DIR, ds_type)\n",
    "    with open(svm_path, mode='w') as f:\n",
    "        for idx in sparse_features:\n",
    "            p = propositions[idx]\n",
    "            if p > lb and p < ub + 1:\n",
    "                target = '{:} '.format(int(args[idx]))\n",
    "                features = ' '.join([ '{:}:{:}'.format(key, val) \n",
    "                     for key, val in sparse_features[idx].items()])\n",
    "                ex = '{:}{:}\\n'.format(target, features)\n",
    "                f.write(ex)\n",
    "                \n",
    "                \n",
    "                \n",
    "            \n",
    "        "
   ]
  }
 ],
 "metadata": {
  "kernelspec": {
   "display_name": "Python 3",
   "language": "python",
   "name": "python3"
  },
  "language_info": {
   "codemirror_mode": {
    "name": "ipython",
    "version": 3
   },
   "file_extension": ".py",
   "mimetype": "text/x-python",
   "name": "python",
   "nbconvert_exporter": "python",
   "pygments_lexer": "ipython3",
   "version": "3.6.3"
  }
 },
 "nbformat": 4,
 "nbformat_minor": 2
}

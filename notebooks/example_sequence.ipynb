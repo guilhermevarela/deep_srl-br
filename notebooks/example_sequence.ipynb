{
 "cells": [
  {
   "cell_type": "markdown",
   "metadata": {},
   "source": [
    "# Sequence example\n",
    "\n",
    ">https://github.com/dennybritz/tf-rnn/blob/master/sequence_example.ipynb"
   ]
  },
  {
   "cell_type": "code",
   "execution_count": 1,
   "metadata": {},
   "outputs": [
    {
     "name": "stderr",
     "output_type": "stream",
     "text": [
      "/Users/Varela/anaconda/envs/tensorflow/lib/python3.6/importlib/_bootstrap.py:219: RuntimeWarning: compiletime version 3.5 of module 'tensorflow.python.framework.fast_tensor_util' does not match runtime version 3.6\n",
      "  return f(*args, **kwds)\n"
     ]
    }
   ],
   "source": [
    "import tensorflow as tf\n",
    "import numpy as np\n",
    "import tempfile"
   ]
  },
  {
   "cell_type": "code",
   "execution_count": 3,
   "metadata": {},
   "outputs": [
    {
     "name": "stdout",
     "output_type": "stream",
     "text": [
      "Wrote to /var/folders/r6/0pcqbs655t19b_392h5m3x4c0000gn/T/tmp63eh58pk\n"
     ]
    }
   ],
   "source": [
    "sequences= [[1,2,3], [4,5,1], [1,2]]\n",
    "label_sequences= [[0,1,0], [1,0,0], [1,1]]\n",
    "\n",
    "def make_example(sequences, labels):\n",
    "    # The object we return\n",
    "    ex= tf.train.SequenceExample() \n",
    "    # A non-sequential feature of our example\n",
    "    sequence_length=len(sequences)\n",
    "    ex.context.feature['length'].int64_list.value.append(sequence_length)\n",
    "    #Feature lists for the two sequential feature of our example\n",
    "    f1_tokens= ex.feature_lists.feature_list['tokens']\n",
    "    f1_labels= ex.feature_lists.feature_list['labels']\n",
    "    for token, label in zip(sequence, labels):\n",
    "        f1_tokens.feature.add().int64_list.value.append(token)\n",
    "        f1_labels.feature.add().int64_list.value.append(label)\n",
    "    return ex\n",
    "\n",
    "#Write all examples into a TFRecords file\n",
    "with tempfile.NamedTemporaryFile() as fp:\n",
    "    writer= tf.python_io.TFRecordWriter(fp.name)\n",
    "    for sequence, label_sequence in zip(sequences, label_sequences):\n",
    "        ex= make_example(sequence, label_sequence)\n",
    "        writer.write(ex.SerializeToString())\n",
    "    writer.close()\n",
    "    print('Wrote to {}'.format(fp.name))\n"
   ]
  },
  {
   "cell_type": "code",
   "execution_count": null,
   "metadata": {},
   "outputs": [],
   "source": [
    "tf.reset_default_graph()\n",
    "\n",
    "# A single serialized example\n",
    "#(You can read this from a file using TFRecordReader)\n",
    "ex= make_example([1, 2, 3], [0, 1, 0]).SerializeToString() \n",
    "\n",
    "#Define how to parse the example\n",
    "context_features= {\n",
    "    'length': tf.FixedLenFeature([], dtype=tf.int64)\n",
    "}\n",
    "sequence_features= {\n",
    "    'tokens': tf.FixedLenSequenceFeature([], dtype=tf.int64),\n",
    "    'labels': tf.FixedLenSequenceFeature([], dtype=tf.int64)\n",
    "}\n",
    "\n",
    "#Parse the example (returns a dictionary of tensors)\n",
    "context_parsed, sequence_parsed= tf.parse_single_sequence_example(\n",
    "    serialized=ex,\n",
    "    context_features=context_features,\n",
    "    sequence_features=sequence_features\n",
    ")\n",
    "context= tf.contrib.learn.run_n(context_parsed, n=1, )"
   ]
  }
 ],
 "metadata": {
  "kernelspec": {
   "display_name": "Python (tensorflow)",
   "language": "python",
   "name": "tensorflow"
  },
  "language_info": {
   "codemirror_mode": {
    "name": "ipython",
    "version": 3
   },
   "file_extension": ".py",
   "mimetype": "text/x-python",
   "name": "python",
   "nbconvert_exporter": "python",
   "pygments_lexer": "ipython3",
   "version": "3.6.3"
  }
 },
 "nbformat": 4,
 "nbformat_minor": 2
}

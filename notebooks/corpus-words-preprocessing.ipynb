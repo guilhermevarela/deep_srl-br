{
 "cells": [
  {
   "cell_type": "markdown",
   "metadata": {},
   "source": [
    "# Corpus Words Study"
   ]
  },
  {
   "cell_type": "code",
   "execution_count": 4,
   "metadata": {},
   "outputs": [
    {
     "data": {
      "text/plain": [
       "(141730, 18)"
      ]
     },
     "execution_count": 4,
     "metadata": {},
     "output_type": "execute_result"
    }
   ],
   "source": [
    "# imports a sister directory: ../datasets\n",
    "import sys, os \n",
    "sys.path.append(os.path.join(os.path.dirname(sys.path[0]),'datasets')) \n",
    "sys.path.append('../datasets/')\n",
    "\n",
    "import pandas as pd \n",
    "from data_vocabularies import vocab_word2vec\n",
    "\n",
    "INPUT_DIR= '../datasets/inputs/00'\n",
    "CSV_DIR= '../datasets/csvs'\n",
    "\n",
    "INPUT_CORPUS= '{:}/{:}'.format(CSV_DIR, 'zhou.csv')\n",
    "df = pd.read_csv(INPUT_CORPUS)\n",
    "df.shape"
   ]
  },
  {
   "cell_type": "code",
   "execution_count": 9,
   "metadata": {},
   "outputs": [
    {
     "name": "stdout",
     "output_type": "stream",
     "text": [
      "unique lemmas 9071\n"
     ]
    }
   ],
   "source": [
    "df_lemma= df.drop_duplicates(subset='LEMMA')\n",
    "lemmas=df_lemma['LEMMA'].values.tolist()\n",
    "print('unique lemmas',len(lemmas))"
   ]
  },
  {
   "cell_type": "code",
   "execution_count": 6,
   "metadata": {
    "collapsed": true
   },
   "outputs": [],
   "source": [
    "word2vec= vocab_word2vec(dataset_name='glove_s50')"
   ]
  },
  {
   "cell_type": "code",
   "execution_count": 28,
   "metadata": {},
   "outputs": [
    {
     "name": "stdout",
     "output_type": "stream",
     "text": [
      "missing lemmas:3284\t missing(%):36.20%\n"
     ]
    }
   ],
   "source": [
    "missing=[]\n",
    "for lemma in lemmas:\n",
    "    try:\n",
    "        word2vec[lemma]\n",
    "    except KeyError:\n",
    "        missing.append(lemma)\n",
    "\n",
    "print('missing lemmas:{:d}\\t missing(%):{:.2f}%'.format(len(missing), 100*float(len(missing))/len(lemmas)))        "
   ]
  },
  {
   "cell_type": "code",
   "execution_count": 29,
   "metadata": {},
   "outputs": [
    {
     "name": "stdout",
     "output_type": "stream",
     "text": [
      "missing lemmas:2134\t missing(%):23.53%\n"
     ]
    }
   ],
   "source": [
    "lower_missing=[]\n",
    "for lemma in lemmas:\n",
    "    try:\n",
    "        word2vec[lemma.lower()]\n",
    "    except KeyError:\n",
    "        lower_missing.append(lemma)\n",
    "\n",
    "print('missing lemmas:{:d}\\t missing(%):{:.2f}%'.format(len(lower_missing), 100*float(len(lower_missing))/len(lemmas)))                "
   ]
  },
  {
   "cell_type": "code",
   "execution_count": 35,
   "metadata": {},
   "outputs": [
    {
     "name": "stdout",
     "output_type": "stream",
     "text": [
      "missing lemmas:1984\t missing(%):21.87%\n"
     ]
    }
   ],
   "source": [
    "import string\n",
    "import re\n",
    "re_punctuation= re.compile(r'[{:}]'.format(string.punctuation), re.UNICODE)\n",
    "\n",
    "no_punctuation_missing=[]\n",
    "for lemma in lower_missing:\n",
    "    try:\n",
    "        lemma2= re_punctuation.sub('', lemma.lower())\n",
    "        word2vec[lemma2]\n",
    "    except KeyError:\n",
    "        no_punctuation_missing.append(lemma)\n",
    "\n",
    "print('missing lemmas:{:d}\\t missing(%):{:.2f}%'.format(len(no_punctuation_missing), 100*float(len(no_punctuation_missing))/len(lemmas)))        "
   ]
  },
  {
   "cell_type": "code",
   "execution_count": 39,
   "metadata": {},
   "outputs": [
    {
     "name": "stdout",
     "output_type": "stream",
     "text": [
      "missing lemmas:1584\t missing(%):17.46%\n"
     ]
    }
   ],
   "source": [
    "re_number= re.compile(r'^\\d+$')\n",
    "\n",
    "no_number_missing=[]\n",
    "for lemma in no_punctuation_missing:\n",
    "    try:\n",
    "        lemma2= re_punctuation.sub('', lemma.lower())\n",
    "        lemma2= re_number.sub('0', lemma2)        \n",
    "        word2vec[lemma2]\n",
    "    except KeyError:\n",
    "        no_number_missing.append(lemma)\n",
    "print('missing lemmas:{:d}\\t missing(%):{:.2f}%'.format(len(no_number_missing), 100*float(len(no_number_missing))/len(lemmas)))        "
   ]
  },
  {
   "cell_type": "code",
   "execution_count": 40,
   "metadata": {
    "collapsed": true
   },
   "outputs": [],
   "source": [
    "with open('corpus-words-missing.txt','w+',encoding=\"utf-8\") as f:\n",
    "    for word in no_number_missing:\n",
    "        f.write('{:}\\n'.format(word))"
   ]
  },
  {
   "cell_type": "code",
   "execution_count": null,
   "metadata": {
    "collapsed": true
   },
   "outputs": [],
   "source": []
  }
 ],
 "metadata": {
  "kernelspec": {
   "display_name": "Python (tensorflow)",
   "language": "python",
   "name": "tensorflow"
  },
  "language_info": {
   "codemirror_mode": {
    "name": "ipython",
    "version": 3
   },
   "file_extension": ".py",
   "mimetype": "text/x-python",
   "name": "python",
   "nbconvert_exporter": "python",
   "pygments_lexer": "ipython3",
   "version": "3.6.3"
  }
 },
 "nbformat": 4,
 "nbformat_minor": 2
}

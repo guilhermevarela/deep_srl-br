{
 "cells": [
  {
   "cell_type": "code",
   "execution_count": 9,
   "metadata": {},
   "outputs": [
    {
     "name": "stdout",
     "output_type": "stream",
     "text": [
      "../datasets/csvs/zhou_valid.csv\n",
      "../outputs/multi_bibasic_lstm/lr5.00e-04,hs128x64/01/Yhat_valid.csv\n"
     ]
    }
   ],
   "source": [
    "import numpy as np \n",
    "import pandas as pd \n",
    "\n",
    "MODEL_NAME='multi_bibasic_lstm'\n",
    "HPARAMS_STR='lr5.00e-04,hs128x64'\n",
    "MODEL_V= '01'\n",
    "INPUT_V='00'\n",
    "INPUT_DIR= '../datasets/csvs/'\n",
    "OUTPUT_DIR='../outputs/'\n",
    "\n",
    "INPUT_PATH = '{:}{:}'.format(INPUT_DIR, 'zhou_valid.csv')\n",
    "OUTPUT_PATH= '{:}{:}/{:}/{:}/{:}'.format(OUTPUT_DIR,MODEL_NAME,HPARAMS_STR,MODEL_V, 'Yhat_valid.csv')\n",
    "TARGET_PATH= '{:}{:}/{:}/{:}/{:}'.format(OUTPUT_DIR,MODEL_NAME,HPARAMS_STR,MODEL_V, 'evaluation_valid.csv')\n",
    "\n",
    "\n",
    "\n",
    "print(INPUT_PATH)\n",
    "print(OUTPUT_PATH)"
   ]
  },
  {
   "cell_type": "code",
   "execution_count": 10,
   "metadata": {},
   "outputs": [
    {
     "name": "stdout",
     "output_type": "stream",
     "text": [
      "(12298, 10) (12298, 1)\n"
     ]
    }
   ],
   "source": [
    "df_input= pd.read_csv(INPUT_PATH, index_col=0)\n",
    "df_output=pd.read_csv(OUTPUT_PATH, index_col=0)\n",
    "print(df_input.shape, df_output.shape)"
   ]
  },
  {
   "cell_type": "code",
   "execution_count": 11,
   "metadata": {},
   "outputs": [
    {
     "name": "stdout",
     "output_type": "stream",
     "text": [
      "(12298, 11)\n"
     ]
    }
   ],
   "source": [
    "df= df_input.join(df_output, how='left')\n",
    "print(df.shape)"
   ]
  },
  {
   "cell_type": "code",
   "execution_count": 12,
   "metadata": {
    "collapsed": true
   },
   "outputs": [],
   "source": [
    "df.to_csv(TARGET_PATH)"
   ]
  },
  {
   "cell_type": "code",
   "execution_count": 14,
   "metadata": {},
   "outputs": [
    {
     "data": {
      "text/html": [
       "<div>\n",
       "<style>\n",
       "    .dataframe thead tr:only-child th {\n",
       "        text-align: right;\n",
       "    }\n",
       "\n",
       "    .dataframe thead th {\n",
       "        text-align: left;\n",
       "    }\n",
       "\n",
       "    .dataframe tbody tr th {\n",
       "        vertical-align: top;\n",
       "    }\n",
       "</style>\n",
       "<table border=\"1\" class=\"dataframe\">\n",
       "  <thead>\n",
       "    <tr style=\"text-align: right;\">\n",
       "      <th></th>\n",
       "      <th>ID</th>\n",
       "      <th>S</th>\n",
       "      <th>P</th>\n",
       "      <th>P_S</th>\n",
       "      <th>FORM</th>\n",
       "      <th>LEMMA</th>\n",
       "      <th>PRED</th>\n",
       "      <th>M_R</th>\n",
       "      <th>ARG</th>\n",
       "      <th>ARG_Y</th>\n",
       "      <th>Yhat</th>\n",
       "    </tr>\n",
       "    <tr>\n",
       "      <th>IDX</th>\n",
       "      <th></th>\n",
       "      <th></th>\n",
       "      <th></th>\n",
       "      <th></th>\n",
       "      <th></th>\n",
       "      <th></th>\n",
       "      <th></th>\n",
       "      <th></th>\n",
       "      <th></th>\n",
       "      <th></th>\n",
       "      <th></th>\n",
       "    </tr>\n",
       "  </thead>\n",
       "  <tbody>\n",
       "    <tr>\n",
       "      <th>123846</th>\n",
       "      <td>1</td>\n",
       "      <td>2879</td>\n",
       "      <td>1</td>\n",
       "      <td>5100</td>\n",
       "      <td>Entre</td>\n",
       "      <td>entre</td>\n",
       "      <td>estar</td>\n",
       "      <td>0</td>\n",
       "      <td>(A2*</td>\n",
       "      <td>A2</td>\n",
       "      <td>a2</td>\n",
       "    </tr>\n",
       "    <tr>\n",
       "      <th>123847</th>\n",
       "      <td>2</td>\n",
       "      <td>2879</td>\n",
       "      <td>1</td>\n",
       "      <td>5100</td>\n",
       "      <td>os</td>\n",
       "      <td>o</td>\n",
       "      <td>estar</td>\n",
       "      <td>0</td>\n",
       "      <td>*</td>\n",
       "      <td>A2</td>\n",
       "      <td>a2</td>\n",
       "    </tr>\n",
       "    <tr>\n",
       "      <th>123848</th>\n",
       "      <td>3</td>\n",
       "      <td>2879</td>\n",
       "      <td>1</td>\n",
       "      <td>5100</td>\n",
       "      <td>convidados</td>\n",
       "      <td>convidado</td>\n",
       "      <td>estar</td>\n",
       "      <td>0</td>\n",
       "      <td>*)</td>\n",
       "      <td>A2</td>\n",
       "      <td>a2</td>\n",
       "    </tr>\n",
       "    <tr>\n",
       "      <th>123849</th>\n",
       "      <td>4</td>\n",
       "      <td>2879</td>\n",
       "      <td>1</td>\n",
       "      <td>5100</td>\n",
       "      <td>estão</td>\n",
       "      <td>estar</td>\n",
       "      <td>estar</td>\n",
       "      <td>1</td>\n",
       "      <td>(V*)</td>\n",
       "      <td>V</td>\n",
       "      <td>v</td>\n",
       "    </tr>\n",
       "    <tr>\n",
       "      <th>123850</th>\n",
       "      <td>5</td>\n",
       "      <td>2879</td>\n",
       "      <td>1</td>\n",
       "      <td>5100</td>\n",
       "      <td>o</td>\n",
       "      <td>o</td>\n",
       "      <td>estar</td>\n",
       "      <td>1</td>\n",
       "      <td>(A1*</td>\n",
       "      <td>A1</td>\n",
       "      <td>a2</td>\n",
       "    </tr>\n",
       "  </tbody>\n",
       "</table>\n",
       "</div>"
      ],
      "text/plain": [
       "        ID     S  P   P_S        FORM      LEMMA   PRED  M_R   ARG ARG_Y Yhat\n",
       "IDX                                                                          \n",
       "123846   1  2879  1  5100       Entre      entre  estar    0  (A2*    A2   a2\n",
       "123847   2  2879  1  5100          os          o  estar    0     *    A2   a2\n",
       "123848   3  2879  1  5100  convidados  convidado  estar    0    *)    A2   a2\n",
       "123849   4  2879  1  5100       estão      estar  estar    1  (V*)     V    v\n",
       "123850   5  2879  1  5100           o          o  estar    1  (A1*    A1   a2"
      ]
     },
     "execution_count": 14,
     "metadata": {},
     "output_type": "execute_result"
    }
   ],
   "source": [
    "df.head()"
   ]
  },
  {
   "cell_type": "code",
   "execution_count": null,
   "metadata": {
    "collapsed": true
   },
   "outputs": [],
   "source": []
  }
 ],
 "metadata": {
  "kernelspec": {
   "display_name": "Python (tensorflow)",
   "language": "python",
   "name": "tensorflow"
  },
  "language_info": {
   "codemirror_mode": {
    "name": "ipython",
    "version": 3
   },
   "file_extension": ".py",
   "mimetype": "text/x-python",
   "name": "python",
   "nbconvert_exporter": "python",
   "pygments_lexer": "ipython3",
   "version": "3.6.3"
  }
 },
 "nbformat": 4,
 "nbformat_minor": 2
}

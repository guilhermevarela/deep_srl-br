{
 "cells": [
  {
   "cell_type": "code",
   "execution_count": 11,
   "metadata": {
    "collapsed": true
   },
   "outputs": [],
   "source": [
    "import sys\n",
    "sys.path.insert(0,'../models/')\n",
    "sys.path.insert(0,'../datasets/')\n",
    "sys.path.insert(0,'..')\n",
    "\n",
    "import pandas as pd\n",
    "import numpy as np\n",
    "import json\n",
    "from subprocess import Popen, PIPE, STDOUT\n",
    "import re\n",
    "from collections import defaultdict\n",
    "\n",
    "import tensorflow as tf\n",
    "import tqdm\n",
    "from models import PropbankEncoder\n",
    "import config\n",
    "\n",
    "INPUT_DIR = '../datasets/binaries/'\n",
    "PROPBANK_GLO50_PATH = '{:}deep_glo50.pickle'.format(INPUT_DIR)"
   ]
  },
  {
   "cell_type": "markdown",
   "metadata": {},
   "source": [
    "<h1><center>Structured Predictions Network CWIS SRL (BR)</center></h1>"
   ]
  },
  {
   "cell_type": "markdown",
   "metadata": {},
   "source": [
    "<center>In this notebook we solve the semantic role labeling task using structured predictions networks.</center>"
   ]
  },
  {
   "cell_type": "markdown",
   "metadata": {},
   "source": [
    "## 1. Builds a \"human friendly\" version of the dataset"
   ]
  },
  {
   "cell_type": "code",
   "execution_count": 12,
   "metadata": {},
   "outputs": [
    {
     "data": {
      "text/html": [
       "<div>\n",
       "<style scoped>\n",
       "    .dataframe tbody tr th:only-of-type {\n",
       "        vertical-align: middle;\n",
       "    }\n",
       "\n",
       "    .dataframe tbody tr th {\n",
       "        vertical-align: top;\n",
       "    }\n",
       "\n",
       "    .dataframe thead th {\n",
       "        text-align: right;\n",
       "    }\n",
       "</style>\n",
       "<table border=\"1\" class=\"dataframe\">\n",
       "  <thead>\n",
       "    <tr style=\"text-align: right;\">\n",
       "      <th></th>\n",
       "      <th>ID</th>\n",
       "      <th>P</th>\n",
       "      <th>FORM</th>\n",
       "      <th>ARG</th>\n",
       "      <th>T</th>\n",
       "      <th>CHUNK_ID</th>\n",
       "      <th>CHUNK_START</th>\n",
       "      <th>CHUNK_FINISH</th>\n",
       "      <th>CHUNK_LEN</th>\n",
       "      <th>CHUNK_CANDIDATE_ID</th>\n",
       "    </tr>\n",
       "    <tr>\n",
       "      <th>INDEX</th>\n",
       "      <th></th>\n",
       "      <th></th>\n",
       "      <th></th>\n",
       "      <th></th>\n",
       "      <th></th>\n",
       "      <th></th>\n",
       "      <th></th>\n",
       "      <th></th>\n",
       "      <th></th>\n",
       "      <th></th>\n",
       "    </tr>\n",
       "  </thead>\n",
       "  <tbody>\n",
       "    <tr>\n",
       "      <th>0</th>\n",
       "      <td>1</td>\n",
       "      <td>1</td>\n",
       "      <td>Brasília</td>\n",
       "      <td>*</td>\n",
       "      <td>*</td>\n",
       "      <td>1</td>\n",
       "      <td>0</td>\n",
       "      <td>1</td>\n",
       "      <td>1</td>\n",
       "      <td>0</td>\n",
       "    </tr>\n",
       "    <tr>\n",
       "      <th>1</th>\n",
       "      <td>2</td>\n",
       "      <td>1</td>\n",
       "      <td>Pesquisa_Datafolha</td>\n",
       "      <td>(A0*</td>\n",
       "      <td>A0</td>\n",
       "      <td>2</td>\n",
       "      <td>1</td>\n",
       "      <td>4</td>\n",
       "      <td>3</td>\n",
       "      <td>35</td>\n",
       "    </tr>\n",
       "    <tr>\n",
       "      <th>2</th>\n",
       "      <td>3</td>\n",
       "      <td>1</td>\n",
       "      <td>publicada</td>\n",
       "      <td>*</td>\n",
       "      <td>A0</td>\n",
       "      <td>2</td>\n",
       "      <td>1</td>\n",
       "      <td>4</td>\n",
       "      <td>3</td>\n",
       "      <td>35</td>\n",
       "    </tr>\n",
       "    <tr>\n",
       "      <th>3</th>\n",
       "      <td>4</td>\n",
       "      <td>1</td>\n",
       "      <td>hoje</td>\n",
       "      <td>*)</td>\n",
       "      <td>A0</td>\n",
       "      <td>2</td>\n",
       "      <td>1</td>\n",
       "      <td>4</td>\n",
       "      <td>3</td>\n",
       "      <td>35</td>\n",
       "    </tr>\n",
       "    <tr>\n",
       "      <th>4</th>\n",
       "      <td>5</td>\n",
       "      <td>1</td>\n",
       "      <td>revela</td>\n",
       "      <td>(V*)</td>\n",
       "      <td>V</td>\n",
       "      <td>3</td>\n",
       "      <td>4</td>\n",
       "      <td>5</td>\n",
       "      <td>1</td>\n",
       "      <td>126</td>\n",
       "    </tr>\n",
       "    <tr>\n",
       "      <th>5</th>\n",
       "      <td>6</td>\n",
       "      <td>1</td>\n",
       "      <td>um</td>\n",
       "      <td>(A1*</td>\n",
       "      <td>A1</td>\n",
       "      <td>4</td>\n",
       "      <td>5</td>\n",
       "      <td>32</td>\n",
       "      <td>27</td>\n",
       "      <td>181</td>\n",
       "    </tr>\n",
       "    <tr>\n",
       "      <th>6</th>\n",
       "      <td>7</td>\n",
       "      <td>1</td>\n",
       "      <td>dado</td>\n",
       "      <td>*</td>\n",
       "      <td>A1</td>\n",
       "      <td>4</td>\n",
       "      <td>5</td>\n",
       "      <td>32</td>\n",
       "      <td>27</td>\n",
       "      <td>181</td>\n",
       "    </tr>\n",
       "    <tr>\n",
       "      <th>7</th>\n",
       "      <td>8</td>\n",
       "      <td>1</td>\n",
       "      <td>supreendente</td>\n",
       "      <td>*</td>\n",
       "      <td>A1</td>\n",
       "      <td>4</td>\n",
       "      <td>5</td>\n",
       "      <td>32</td>\n",
       "      <td>27</td>\n",
       "      <td>181</td>\n",
       "    </tr>\n",
       "    <tr>\n",
       "      <th>8</th>\n",
       "      <td>9</td>\n",
       "      <td>1</td>\n",
       "      <td>:</td>\n",
       "      <td>*</td>\n",
       "      <td>A1</td>\n",
       "      <td>4</td>\n",
       "      <td>5</td>\n",
       "      <td>32</td>\n",
       "      <td>27</td>\n",
       "      <td>181</td>\n",
       "    </tr>\n",
       "    <tr>\n",
       "      <th>9</th>\n",
       "      <td>10</td>\n",
       "      <td>1</td>\n",
       "      <td>recusando</td>\n",
       "      <td>*</td>\n",
       "      <td>A1</td>\n",
       "      <td>4</td>\n",
       "      <td>5</td>\n",
       "      <td>32</td>\n",
       "      <td>27</td>\n",
       "      <td>181</td>\n",
       "    </tr>\n",
       "    <tr>\n",
       "      <th>10</th>\n",
       "      <td>11</td>\n",
       "      <td>1</td>\n",
       "      <td>uma</td>\n",
       "      <td>*</td>\n",
       "      <td>A1</td>\n",
       "      <td>4</td>\n",
       "      <td>5</td>\n",
       "      <td>32</td>\n",
       "      <td>27</td>\n",
       "      <td>181</td>\n",
       "    </tr>\n",
       "    <tr>\n",
       "      <th>11</th>\n",
       "      <td>12</td>\n",
       "      <td>1</td>\n",
       "      <td>postura</td>\n",
       "      <td>*</td>\n",
       "      <td>A1</td>\n",
       "      <td>4</td>\n",
       "      <td>5</td>\n",
       "      <td>32</td>\n",
       "      <td>27</td>\n",
       "      <td>181</td>\n",
       "    </tr>\n",
       "    <tr>\n",
       "      <th>12</th>\n",
       "      <td>13</td>\n",
       "      <td>1</td>\n",
       "      <td>radical</td>\n",
       "      <td>*</td>\n",
       "      <td>A1</td>\n",
       "      <td>4</td>\n",
       "      <td>5</td>\n",
       "      <td>32</td>\n",
       "      <td>27</td>\n",
       "      <td>181</td>\n",
       "    </tr>\n",
       "    <tr>\n",
       "      <th>13</th>\n",
       "      <td>14</td>\n",
       "      <td>1</td>\n",
       "      <td>,</td>\n",
       "      <td>*</td>\n",
       "      <td>A1</td>\n",
       "      <td>4</td>\n",
       "      <td>5</td>\n",
       "      <td>32</td>\n",
       "      <td>27</td>\n",
       "      <td>181</td>\n",
       "    </tr>\n",
       "    <tr>\n",
       "      <th>14</th>\n",
       "      <td>15</td>\n",
       "      <td>1</td>\n",
       "      <td>a</td>\n",
       "      <td>*</td>\n",
       "      <td>A1</td>\n",
       "      <td>4</td>\n",
       "      <td>5</td>\n",
       "      <td>32</td>\n",
       "      <td>27</td>\n",
       "      <td>181</td>\n",
       "    </tr>\n",
       "    <tr>\n",
       "      <th>15</th>\n",
       "      <td>16</td>\n",
       "      <td>1</td>\n",
       "      <td>esmagadora</td>\n",
       "      <td>*</td>\n",
       "      <td>A1</td>\n",
       "      <td>4</td>\n",
       "      <td>5</td>\n",
       "      <td>32</td>\n",
       "      <td>27</td>\n",
       "      <td>181</td>\n",
       "    </tr>\n",
       "    <tr>\n",
       "      <th>16</th>\n",
       "      <td>17</td>\n",
       "      <td>1</td>\n",
       "      <td>maioria</td>\n",
       "      <td>*</td>\n",
       "      <td>A1</td>\n",
       "      <td>4</td>\n",
       "      <td>5</td>\n",
       "      <td>32</td>\n",
       "      <td>27</td>\n",
       "      <td>181</td>\n",
       "    </tr>\n",
       "    <tr>\n",
       "      <th>17</th>\n",
       "      <td>18</td>\n",
       "      <td>1</td>\n",
       "      <td>(</td>\n",
       "      <td>*</td>\n",
       "      <td>A1</td>\n",
       "      <td>4</td>\n",
       "      <td>5</td>\n",
       "      <td>32</td>\n",
       "      <td>27</td>\n",
       "      <td>181</td>\n",
       "    </tr>\n",
       "    <tr>\n",
       "      <th>18</th>\n",
       "      <td>19</td>\n",
       "      <td>1</td>\n",
       "      <td>77</td>\n",
       "      <td>*</td>\n",
       "      <td>A1</td>\n",
       "      <td>4</td>\n",
       "      <td>5</td>\n",
       "      <td>32</td>\n",
       "      <td>27</td>\n",
       "      <td>181</td>\n",
       "    </tr>\n",
       "    <tr>\n",
       "      <th>19</th>\n",
       "      <td>20</td>\n",
       "      <td>1</td>\n",
       "      <td>%</td>\n",
       "      <td>*</td>\n",
       "      <td>A1</td>\n",
       "      <td>4</td>\n",
       "      <td>5</td>\n",
       "      <td>32</td>\n",
       "      <td>27</td>\n",
       "      <td>181</td>\n",
       "    </tr>\n",
       "    <tr>\n",
       "      <th>20</th>\n",
       "      <td>21</td>\n",
       "      <td>1</td>\n",
       "      <td>)</td>\n",
       "      <td>*</td>\n",
       "      <td>A1</td>\n",
       "      <td>4</td>\n",
       "      <td>5</td>\n",
       "      <td>32</td>\n",
       "      <td>27</td>\n",
       "      <td>181</td>\n",
       "    </tr>\n",
       "    <tr>\n",
       "      <th>21</th>\n",
       "      <td>22</td>\n",
       "      <td>1</td>\n",
       "      <td>de</td>\n",
       "      <td>*</td>\n",
       "      <td>A1</td>\n",
       "      <td>4</td>\n",
       "      <td>5</td>\n",
       "      <td>32</td>\n",
       "      <td>27</td>\n",
       "      <td>181</td>\n",
       "    </tr>\n",
       "    <tr>\n",
       "      <th>22</th>\n",
       "      <td>23</td>\n",
       "      <td>1</td>\n",
       "      <td>os</td>\n",
       "      <td>*</td>\n",
       "      <td>A1</td>\n",
       "      <td>4</td>\n",
       "      <td>5</td>\n",
       "      <td>32</td>\n",
       "      <td>27</td>\n",
       "      <td>181</td>\n",
       "    </tr>\n",
       "    <tr>\n",
       "      <th>23</th>\n",
       "      <td>24</td>\n",
       "      <td>1</td>\n",
       "      <td>eleitores</td>\n",
       "      <td>*</td>\n",
       "      <td>A1</td>\n",
       "      <td>4</td>\n",
       "      <td>5</td>\n",
       "      <td>32</td>\n",
       "      <td>27</td>\n",
       "      <td>181</td>\n",
       "    </tr>\n",
       "    <tr>\n",
       "      <th>24</th>\n",
       "      <td>25</td>\n",
       "      <td>1</td>\n",
       "      <td>quer</td>\n",
       "      <td>*</td>\n",
       "      <td>A1</td>\n",
       "      <td>4</td>\n",
       "      <td>5</td>\n",
       "      <td>32</td>\n",
       "      <td>27</td>\n",
       "      <td>181</td>\n",
       "    </tr>\n",
       "    <tr>\n",
       "      <th>25</th>\n",
       "      <td>26</td>\n",
       "      <td>1</td>\n",
       "      <td>o</td>\n",
       "      <td>*</td>\n",
       "      <td>A1</td>\n",
       "      <td>4</td>\n",
       "      <td>5</td>\n",
       "      <td>32</td>\n",
       "      <td>27</td>\n",
       "      <td>181</td>\n",
       "    </tr>\n",
       "    <tr>\n",
       "      <th>26</th>\n",
       "      <td>27</td>\n",
       "      <td>1</td>\n",
       "      <td>PT</td>\n",
       "      <td>*</td>\n",
       "      <td>A1</td>\n",
       "      <td>4</td>\n",
       "      <td>5</td>\n",
       "      <td>32</td>\n",
       "      <td>27</td>\n",
       "      <td>181</td>\n",
       "    </tr>\n",
       "    <tr>\n",
       "      <th>27</th>\n",
       "      <td>28</td>\n",
       "      <td>1</td>\n",
       "      <td>participando</td>\n",
       "      <td>*</td>\n",
       "      <td>A1</td>\n",
       "      <td>4</td>\n",
       "      <td>5</td>\n",
       "      <td>32</td>\n",
       "      <td>27</td>\n",
       "      <td>181</td>\n",
       "    </tr>\n",
       "    <tr>\n",
       "      <th>28</th>\n",
       "      <td>29</td>\n",
       "      <td>1</td>\n",
       "      <td>de</td>\n",
       "      <td>*</td>\n",
       "      <td>A1</td>\n",
       "      <td>4</td>\n",
       "      <td>5</td>\n",
       "      <td>32</td>\n",
       "      <td>27</td>\n",
       "      <td>181</td>\n",
       "    </tr>\n",
       "    <tr>\n",
       "      <th>29</th>\n",
       "      <td>30</td>\n",
       "      <td>1</td>\n",
       "      <td>o</td>\n",
       "      <td>*</td>\n",
       "      <td>A1</td>\n",
       "      <td>4</td>\n",
       "      <td>5</td>\n",
       "      <td>32</td>\n",
       "      <td>27</td>\n",
       "      <td>181</td>\n",
       "    </tr>\n",
       "    <tr>\n",
       "      <th>30</th>\n",
       "      <td>31</td>\n",
       "      <td>1</td>\n",
       "      <td>Governo</td>\n",
       "      <td>*</td>\n",
       "      <td>A1</td>\n",
       "      <td>4</td>\n",
       "      <td>5</td>\n",
       "      <td>32</td>\n",
       "      <td>27</td>\n",
       "      <td>181</td>\n",
       "    </tr>\n",
       "    <tr>\n",
       "      <th>31</th>\n",
       "      <td>32</td>\n",
       "      <td>1</td>\n",
       "      <td>Fernando_Henrique_Cardoso</td>\n",
       "      <td>*)</td>\n",
       "      <td>A1</td>\n",
       "      <td>4</td>\n",
       "      <td>5</td>\n",
       "      <td>32</td>\n",
       "      <td>27</td>\n",
       "      <td>181</td>\n",
       "    </tr>\n",
       "    <tr>\n",
       "      <th>32</th>\n",
       "      <td>33</td>\n",
       "      <td>1</td>\n",
       "      <td>.</td>\n",
       "      <td>*</td>\n",
       "      <td>*</td>\n",
       "      <td>5</td>\n",
       "      <td>32</td>\n",
       "      <td>33</td>\n",
       "      <td>1</td>\n",
       "      <td>560</td>\n",
       "    </tr>\n",
       "  </tbody>\n",
       "</table>\n",
       "</div>"
      ],
      "text/plain": [
       "       ID  P                       FORM   ARG   T  CHUNK_ID  CHUNK_START  \\\n",
       "INDEX                                                                      \n",
       "0       1  1                   Brasília     *   *         1            0   \n",
       "1       2  1         Pesquisa_Datafolha  (A0*  A0         2            1   \n",
       "2       3  1                  publicada     *  A0         2            1   \n",
       "3       4  1                       hoje    *)  A0         2            1   \n",
       "4       5  1                     revela  (V*)   V         3            4   \n",
       "5       6  1                         um  (A1*  A1         4            5   \n",
       "6       7  1                       dado     *  A1         4            5   \n",
       "7       8  1               supreendente     *  A1         4            5   \n",
       "8       9  1                          :     *  A1         4            5   \n",
       "9      10  1                  recusando     *  A1         4            5   \n",
       "10     11  1                        uma     *  A1         4            5   \n",
       "11     12  1                    postura     *  A1         4            5   \n",
       "12     13  1                    radical     *  A1         4            5   \n",
       "13     14  1                          ,     *  A1         4            5   \n",
       "14     15  1                          a     *  A1         4            5   \n",
       "15     16  1                 esmagadora     *  A1         4            5   \n",
       "16     17  1                    maioria     *  A1         4            5   \n",
       "17     18  1                          (     *  A1         4            5   \n",
       "18     19  1                         77     *  A1         4            5   \n",
       "19     20  1                          %     *  A1         4            5   \n",
       "20     21  1                          )     *  A1         4            5   \n",
       "21     22  1                         de     *  A1         4            5   \n",
       "22     23  1                         os     *  A1         4            5   \n",
       "23     24  1                  eleitores     *  A1         4            5   \n",
       "24     25  1                       quer     *  A1         4            5   \n",
       "25     26  1                          o     *  A1         4            5   \n",
       "26     27  1                         PT     *  A1         4            5   \n",
       "27     28  1               participando     *  A1         4            5   \n",
       "28     29  1                         de     *  A1         4            5   \n",
       "29     30  1                          o     *  A1         4            5   \n",
       "30     31  1                    Governo     *  A1         4            5   \n",
       "31     32  1  Fernando_Henrique_Cardoso    *)  A1         4            5   \n",
       "32     33  1                          .     *   *         5           32   \n",
       "\n",
       "       CHUNK_FINISH  CHUNK_LEN  CHUNK_CANDIDATE_ID  \n",
       "INDEX                                               \n",
       "0                 1          1                   0  \n",
       "1                 4          3                  35  \n",
       "2                 4          3                  35  \n",
       "3                 4          3                  35  \n",
       "4                 5          1                 126  \n",
       "5                32         27                 181  \n",
       "6                32         27                 181  \n",
       "7                32         27                 181  \n",
       "8                32         27                 181  \n",
       "9                32         27                 181  \n",
       "10               32         27                 181  \n",
       "11               32         27                 181  \n",
       "12               32         27                 181  \n",
       "13               32         27                 181  \n",
       "14               32         27                 181  \n",
       "15               32         27                 181  \n",
       "16               32         27                 181  \n",
       "17               32         27                 181  \n",
       "18               32         27                 181  \n",
       "19               32         27                 181  \n",
       "20               32         27                 181  \n",
       "21               32         27                 181  \n",
       "22               32         27                 181  \n",
       "23               32         27                 181  \n",
       "24               32         27                 181  \n",
       "25               32         27                 181  \n",
       "26               32         27                 181  \n",
       "27               32         27                 181  \n",
       "28               32         27                 181  \n",
       "29               32         27                 181  \n",
       "30               32         27                 181  \n",
       "31               32         27                 181  \n",
       "32               33          1                 560  "
      ]
     },
     "execution_count": 12,
     "metadata": {},
     "output_type": "execute_result"
    }
   ],
   "source": [
    "dfgs = pd.read_csv('../datasets/csvs/gs.csv', index_col=0, sep=',', encoding='utf-8')\n",
    "column_files = [\n",
    "    '../datasets/csvs/column_chunks/chunks.csv',\n",
    "    '../datasets/csvs/column_predmarker/predicate_marker.csv',\n",
    "    '../datasets/csvs/column_shifts_ctx_p/form.csv',\n",
    "    '../datasets/csvs/column_shifts_ctx_p/gpos.csv',\n",
    "    '../datasets/csvs/column_shifts_ctx_p/lemma.csv',\n",
    "    '../datasets/csvs/column_t/t.csv',\n",
    "    '../datasets/csvs/column_iob/iob.csv'\n",
    "]\n",
    "\n",
    "for col_f in column_files:\n",
    "    _df = pd.read_csv(col_f, index_col=0, encoding='utf-8')\n",
    "    dfgs = pd.concat((dfgs, _df), axis=1)\n",
    "\n",
    "DISPLAY_COLUMNS = ['ID', 'P', 'FORM', 'ARG', 'T', \n",
    "                   'CHUNK_ID', 'CHUNK_START', 'CHUNK_FINISH', 'CHUNK_LEN', 'CHUNK_CANDIDATE_ID']            \n",
    "dfgs[DISPLAY_COLUMNS].head(33)    "
   ]
  },
  {
   "cell_type": "markdown",
   "metadata": {},
   "source": [
    "## 2. Gets encodings\n",
    "\n",
    "Propbank Encoder holds an indexed version of propbank dataset an answers to FOUR different dataformats: \n",
    "* CAT: this is the raw categorical data.\n",
    "* EMB: tokens are embedding using GloVe embeddings.\n",
    "* HOT: onehot encoding of the words and tokens.\n",
    "* IDX: dense indexed representations."
   ]
  },
  {
   "cell_type": "code",
   "execution_count": 16,
   "metadata": {
    "collapsed": true
   },
   "outputs": [],
   "source": [
    "# LOAD ENCODER\n",
    "propbank_encoder = PropbankEncoder.recover(PROPBANK_GLO50_PATH)\n",
    "db = propbank_encoder.db\n",
    "lex2idx = propbank_encoder.lex2idx\n",
    "idx2lex = propbank_encoder.idx2lex\n",
    "\n",
    "# FOR TEXTUAL DATA ONLY\n",
    "lex2tok = propbank_encoder.lex2tok\n",
    "tok2idx = propbank_encoder.tok2idx\n",
    "embeddings = propbank_encoder.embeddings"
   ]
  },
  {
   "cell_type": "code",
   "execution_count": 17,
   "metadata": {},
   "outputs": [
    {
     "name": "stdout",
     "output_type": "stream",
     "text": [
      "attributes\t 44 \n",
      " records\t 141730\n"
     ]
    }
   ],
   "source": [
    "print('attributes\\t',\n",
    "       len(db),\n",
    "      '\\n',             \n",
    "      'records\\t',\n",
    "       len(db['ARG'].keys()))"
   ]
  },
  {
   "cell_type": "code",
   "execution_count": 18,
   "metadata": {
    "collapsed": true
   },
   "outputs": [],
   "source": [
    "def filter_type(ds_type, db):\n",
    "    '''Filters only records from train dataset\n",
    "    '''\n",
    "    ds_types = ('train', 'test', 'valid')\n",
    "    if ds_type not in ds_types:\n",
    "        _msg = 'ds_type must be in {:} got {:}'\n",
    "        _msg = _msg.format(ds_types, ds_type)\n",
    "        raise ValueError(_msg)\n",
    "    elif ds_type in ('train',):\n",
    "        lb = 0 \n",
    "        ub = config.DATASET_TRAIN_SIZE\n",
    "    elif ds_type in ('test',):        \n",
    "        lb = config.DATASET_TRAIN_SIZE\n",
    "        ub = lb + config.DATASET_VALID_SIZE         \n",
    "    elif ds_type in ('valid',):                \n",
    "        lb = config.DATASET_TRAIN_SIZE + config.DATASET_VALID_SIZE\n",
    "        ub = lb + config.DATASET_TEST_SIZE         \n",
    "\n",
    "    sel_keys_ = {key_ for key_, prop_ in db['P'].items() if prop_ > lb and prop_ <= ub}\n",
    "\n",
    "    return {\n",
    "                attr_:{ idx_: i_\n",
    "                        for idx_, i_ in dict_.items() if idx_ in sel_keys_\n",
    "                      }        \n",
    "                for attr_, dict_  in db.items()\n",
    "            }\n",
    "\n",
    "def make_propositions_dict(db):\n",
    "    '''Reindex db by propositions creating a nested dict in which the\n",
    "        outer key is the proposition        \n",
    "    '''\n",
    "    \n",
    "    triple_list = []\n",
    "    prev_prop = -1\n",
    "    for idx, prop in db['P'].items():\n",
    "        if prev_prop != prop:\n",
    "            if idx > 0:\n",
    "                ub = idx-1\n",
    "                triple_list.append((lb, ub, prev_prop))\n",
    "            lb = idx\n",
    "        prev_prop = prop\n",
    "    triple_list.append((lb, ub, prev_prop))\n",
    "            \n",
    "\n",
    "        \n",
    "    prop_set = set(db['P'].values())\n",
    "    return { prop_:\n",
    "                    {\n",
    "                        attr_:{ idx_: dict_[idx_]\n",
    "                                for idx_ in range(lb_, ub_ + 1, 1)\n",
    "                          }        \n",
    "                        for attr_, dict_ in db.items() if attr_ not in ('P',)\n",
    "                    }\n",
    "             for lb_, ub_, prop_ in  triple_list\n",
    "            }, {prop_: ub_ - lb_ + 1 for lb_, ub_, prop_ in  triple_list}   \n",
    "\n",
    "\n",
    "def numpfy_propositions_dict(prop_dict, proplen_dict):\n",
    "    '''Converts inner dict examples into numpy arrays\n",
    "    '''\n",
    "    prop_dict_ = defaultdict(dict)    \n",
    "    for prop, columns_dict in prop_dict.items():\n",
    "        len_ = proplen_dict[prop]\n",
    "        shape_ = (len_, 1)\n",
    "        for column, values_dict in columns_dict.items():\n",
    "            tuple_list = [idx_value \n",
    "                          for idx_value in values_dict.items()]\n",
    "            \n",
    "            tuple_list = sorted(tuple_list, key=lambda x: x[0])            \n",
    "            # Converts lexicon (raw/indexed) into token (embedded/indexed)\n",
    "            if (('FORM' in column) or ('LEMMA' in column)):\n",
    "                values_list = [tok2idx[lex2tok[idx2lex[column][tuple_[1]]]]                \n",
    "                                   for tuple_ in tuple_list]\n",
    "            else:\n",
    "                values_list = [tuple_[1] for tuple_ in tuple_list]\n",
    "            \n",
    "            prop_dict_[prop][column]  = np.array(values_list).reshape(shape_)\n",
    "    \n",
    "    return prop_dict_        \n"
   ]
  },
  {
   "cell_type": "code",
   "execution_count": 19,
   "metadata": {},
   "outputs": [
    {
     "name": "stdout",
     "output_type": "stream",
     "text": [
      "attributes\t 44 \n",
      " records\t 123846 \n",
      " vocab\t 13289\n"
     ]
    }
   ],
   "source": [
    "traindb  = filter_type('train', db)\n",
    "print('attributes\\t',\n",
    "       len(traindb),\n",
    "      '\\n',             \n",
    "      'records\\t',\n",
    "       len(traindb['ARG'].keys()),\n",
    "       '\\n',             \n",
    "      'vocab\\t',\n",
    "        max([form for _, form in traindb['FORM'].items()]))"
   ]
  },
  {
   "cell_type": "code",
   "execution_count": 20,
   "metadata": {},
   "outputs": [
    {
     "name": "stdout",
     "output_type": "stream",
     "text": [
      "attributes\t 44 \n",
      " records\t 123837 \n",
      " vocab\t 13289\n"
     ]
    }
   ],
   "source": [
    "prop_dict, proplen_dict = make_propositions_dict(traindb)\n",
    "print('attributes\\t',\n",
    "       len(prop_dict[1]) + 1,\n",
    "      '\\n',             \n",
    "      'records\\t',\n",
    "       sum([len(d['ARG']) for p, d in prop_dict.items()]),\n",
    "        '\\n',             \n",
    "      'vocab\\t',\n",
    "        max([form for _, prop in prop_dict.items() for _, form in prop['FORM'].items()]))"
   ]
  },
  {
   "cell_type": "code",
   "execution_count": 21,
   "metadata": {},
   "outputs": [
    {
     "name": "stdout",
     "output_type": "stream",
     "text": [
      "attributes\t 44 \n",
      " records\t 123837 \n",
      " vocab\t 12037\n"
     ]
    }
   ],
   "source": [
    "prop_dict1 = numpfy_propositions_dict(prop_dict, proplen_dict)\n",
    "print('attributes\\t',\n",
    "       len(prop_dict1[1]) + 1,\n",
    "      '\\n',             \n",
    "      'records\\t',\n",
    "       sum([len_ for _, len_ in proplen_dict.items()]),\n",
    "        '\\n',             \n",
    "      'vocab\\t',\n",
    "        max([max(form) for _, prop in prop_dict1.items() for form in prop['FORM']]))"
   ]
  },
  {
   "cell_type": "code",
   "execution_count": 31,
   "metadata": {},
   "outputs": [],
   "source": [
    "def get_inputs(db1, propid):\n",
    "    '''Generate inputs\n",
    "    '''\n",
    "    propdb = db1[propid] # nested dict of columns and idx value\n",
    "    proplen = len(propdb['ID'])\n",
    "    if 'CHUNK_SPACE' not in propdb:\n",
    "        propdb['CHUNK_SPACE'] = generate_chunk_space(proplen)\n",
    "\n",
    "    word    = propdb['FORM']\n",
    "    ctx_pm  = propdb['FORM_CTX_P-1']\n",
    "    ctx_p0  = propdb['FORM_CTX_P+0']\n",
    "    ctx_pp  = propdb['FORM_CTX_P+1']\n",
    "    \n",
    "    marker  = propdb['MARKER']\n",
    "    pos     = propdb['GPOS']\n",
    "    chunk_type  = propdb['T']\n",
    "    chunk_start, chunk_finish = propdb['CHUNK_SPACE']\n",
    "    \n",
    "    return word, ctx_pm, ctx_p0, ctx_pp, marker, pos, chunk_type, chunk_start, chunk_finish\n",
    "            \n",
    "def generate_chunk_space(n):\n",
    "    '''Generates all possible spaces for chunks\n",
    "    '''\n",
    "    start_list = []\n",
    "    end_list = []\n",
    "    for i in range(n):\n",
    "        for j in range(i,n,1):\n",
    "            start_list.append(i)\n",
    "            end_list.append(j+1)\n",
    "    shape_ = (len(start_list), 1)\n",
    "    start_ = np.array(start_list).reshape(shape_)\n",
    "    finish_ = np.array(end_list).reshape(shape_)\n",
    "    return start_, finish_\n",
    "            \n",
    "\n",
    "def get_outputs(db1, propid):\n",
    "    ''' Generate outputs\n",
    "    '''\n",
    "    propdb_ = db1[propid] # nested dict of columns and idx value\n",
    "    plen_ = len(propdb_['ID'])\n",
    "    if 'OUTPUTS' not in propdb_: \n",
    "        propdb_['OUTPUTS'] = propdb_['T'].reshape((plen_,))\n",
    "\n",
    "    return propdb_['OUTPUTS']"
   ]
  },
  {
   "cell_type": "code",
   "execution_count": 33,
   "metadata": {},
   "outputs": [
    {
     "name": "stdout",
     "output_type": "stream",
     "text": [
      "1.03 µs ± 21 ns per loop (mean ± std. dev. of 7 runs, 1000000 loops each)\n"
     ]
    }
   ],
   "source": [
    "%%timeit\n",
    "propid = 1119\n",
    "# propid = 2\n",
    "word, ctx_pm, ctx_p0, ctx_pp, marker, pos, chunk_type, chunk_start, chunk_finish = get_inputs(prop_dict1, propid)\n",
    "y = get_outputs(prop_dict1, propid)\n",
    "# worst proposition 1120 size 92!"
   ]
  },
  {
   "cell_type": "markdown",
   "metadata": {},
   "source": [
    " ## MODEL"
   ]
  },
  {
   "cell_type": "code",
   "execution_count": 38,
   "metadata": {},
   "outputs": [
    {
     "name": "stdout",
     "output_type": "stream",
     "text": [
      "(33,)\n",
      "[ 0  1  1  1 35  2  2  2  2  2  2  2  2  2  2  2  2  2  2  2  2  2  2  2  2\n",
      "  2  2  2  2  2  2  2  0]\n"
     ]
    }
   ],
   "source": [
    "propid = 1\n",
    "word, ctx_pm, ctx_p0, ctx_pp, marker, pos, chunk_type, chunk_start, chunk_finish = get_inputs(prop_dict1,  propid)\n",
    "y = get_outputs(prop_dict1, propid)\n",
    "print(y.shape)\n",
    "print(y)\n",
    "# _start  = np.repeat(chunk_start, len(lex2idx['T']))\n",
    "# _finish = np.repeat(chunk_finish, len(lex2idx['T']))\n",
    "# print([(_start[y_].flatten(), _finish[y_].flatten()) for y_ in y])\n",
    "# print(list(zip(_start[y].flatten(), _finish[y].flatten())))\n"
   ]
  },
  {
   "cell_type": "code",
   "execution_count": 39,
   "metadata": {
    "collapsed": true
   },
   "outputs": [],
   "source": [
    "import struct_perc.colored_weighted_interval_scheduling as cwis\n",
    "import struct_perc.weighted_interval_scheduling as wis\n",
    "import struct_perc.utils as spu"
   ]
  },
  {
   "cell_type": "markdown",
   "metadata": {},
   "source": [
    " ## Tensorflow Graph"
   ]
  },
  {
   "cell_type": "code",
   "execution_count": 13,
   "metadata": {
    "collapsed": true
   },
   "outputs": [],
   "source": [
    "# vocab_size = len(lex2idx['FORM']) + 1\n",
    "# embed_size = 50\n",
    "\n",
    "# n_pos = len(lex2idx['GPOS'])\n",
    "# # n_type = len(lex2idx['T'])\n",
    "# n_classes  = len(lex2idx['T'])\n",
    "\n",
    "# tf.reset_default_graph()\n",
    "\n",
    "# # word index and gpos \n",
    "# tf_words = tf.placeholder(tf.int32, shape=(None,1))\n",
    "# tf_pos = tf.placeholder(tf.int32, shape=(None,1))\n",
    "# # t_x_type = tf.placeholder(tf.int32, shape=(None,1))\n",
    "\n",
    "# # índices de inicio de intervalo\n",
    "# tf_s = tf.placeholder(tf.int32, shape=(None,1))\n",
    "# # índices de fim de intervalo\n",
    "# tf_f = tf.placeholder(tf.int32, shape=(None,1))\n",
    "\n",
    "# # replicamos os indicies de inicio e fim para cada classe de chunk possivel\n",
    "# tf_sc = tf.reshape(\n",
    "#       tf.tile(tf_s,  [1, n_classes]), [-1,1])\n",
    "# tf_fc = tf.reshape(\n",
    "#       tf.tile(tf_f,  [1, n_classes]), [-1,1])\n",
    "\n",
    "# # n_features = (embed_size + n_pos + n_type)\n",
    "# n_features = (embed_size + n_pos)\n",
    "# # hidden_features = 300\n",
    "# W_shape = (n_features, n_classes)\n",
    "# EMBS = tf.constant(embeddings)\n",
    "# # tf_token = tf.Variable(initial_value=None, expected_shape=(embed_size,), dtype=tf.float32, trainable=False)\n",
    "\n",
    "# # geramos os paramteros do modelo\n",
    "# with tf.variable_scope(\"model\"):\n",
    "#     W = tf.Variable(\n",
    "#         tf.random_normal(W_shape, 0, 1/np.sqrt(n_features * n_classes), name='W')\n",
    "#     )\n",
    "#     b = tf.Variable(\n",
    "#         tf.random_normal((n_classes,), 0, 1/np.sqrt(n_classes), name='b')\n",
    "#     )\n",
    "    \n",
    "\n",
    "# # tf_token = tf.nn.embedding_lookup(tf_embeddings, id) \n",
    "# # Recuperamos os embeddings de cada palavra\n",
    "# tf_word_features = tf.gather_nd(EMBS, tf_words)\n",
    "\n",
    "# tf_pos_flat = tf.reshape(tf_pos, [-1])\n",
    "# tf_pos_features = tf.one_hot(tf_pos_flat, depth=n_pos)\n",
    "\n",
    "# # t_x_type_flat = tf.reshape(t_x_type,[-1])\n",
    "# # t_type_features = tf.one_hot(t_x_type_flat, depth=n_type)\n",
    "\n",
    "# # t_tok_features = tf.concat((t_word_features,t_pos_features,t_type_features),axis=1)\n",
    "# tf_tok_features = tf.concat((tf_word_features,tf_pos_features),axis=1)\n",
    "\n",
    "# # a partir das features do intervalo computamos o score\n",
    "# tf_scores = tf.matmul(tf_tok_features, W) + b\n",
    "\n",
    "# tf_pred = tf.argmax(tf_scores, axis=1)\n"
   ]
  },
  {
   "cell_type": "code",
   "execution_count": 46,
   "metadata": {},
   "outputs": [],
   "source": [
    "vocab_size = len(tok2idx)\n",
    "embed_size = 50\n",
    "n_pos = len(lex2idx['GPOS'])\n",
    "# n_type = len(id_to_type)\n",
    "n_classes = len(lex2idx['T'])\n",
    "\n",
    "# índices das palavras\n",
    "t_x_words = tf.placeholder(tf.int64, shape=(None,1), name='word')\n",
    "\n",
    "\n",
    "t_x_ctx_pm = tf.placeholder(tf.int64, shape=(None,1), name='ctx_pm')\n",
    "t_x_ctx_p0 = tf.placeholder(tf.int64, shape=(None,1), name='ctx_p0')\n",
    "t_x_ctx_pp = tf.placeholder(tf.int64, shape=(None,1), name='ctx_pp')\n",
    "\n",
    "t_x_pos = tf.placeholder(tf.int64, shape=(None,1), name='gpos')\n",
    "t_x_marker = tf.cast( tf.placeholder(tf.int64, shape=(None,1), name='marker'), tf.float32 )\n",
    "\n",
    "# t_x_type = tf.placeholder(tf.int32, shape=(None,1))\n",
    "\n",
    "W_shape = (embed_size * 4 + 1 + n_pos, n_classes)\n",
    "b_shape = (1,n_classes)\n",
    "# geramos os paramteros do modelo\n",
    "with tf.variable_scope(\"model\"):\n",
    "    # parâmetros de embedding\n",
    "    t_W_tok = tf.Variable(tf.random_normal((vocab_size, embed_size), 0, 0.01, dtype=tf.float32), name='embeddings')\n",
    "    # parâmetros que computam o score a partir das features do intervalo\n",
    "#     t_W_interval = tf.Variable(np.zeros((embed_size + n_pos, n_classes)).astype(np.float32))\n",
    "    t_W_interval = tf.Variable(tf.zeros(W_shape, dtype=tf.float32), name='W')\n",
    "\n",
    "#     t_b_interval = tf.Variable(np.zeros((1,n_classes)).astype(np.float32))\n",
    "# np.zeros((1,n_classes)).astype(np.float32)\n",
    "    t_b_interval = tf.Variable(tf.zeros(b_shape, dtype=tf.float32), name='b')\n",
    "#     np.zeros((1,n_classes)).astype(np.float32)\n",
    "#     t_b_interval = tf.Variable()\n",
    "\n",
    "# Recuperamos os embeddings de cada palavra\n",
    "t_word_features = tf.gather_nd(t_W_tok, t_x_words, name='word_features')\n",
    "\n",
    "t_ctx_pm_features = tf.gather_nd(t_W_tok, t_x_ctx_pm, name='ctx_pm')\n",
    "t_ctx_p0_features = tf.gather_nd(t_W_tok, t_x_ctx_p0, name='ctx_p0')\n",
    "t_ctx_pp_features = tf.gather_nd(t_W_tok, t_x_ctx_pp, name='ctx_pp')\n",
    "\n",
    "t_x_pos_flat = tf.reshape(t_x_pos,[-1], name='gpos_flat')\n",
    "t_pos_features = tf.one_hot(t_x_pos_flat, depth=n_pos, name='gpos_features')\n",
    "\n",
    "# t_x_type_flat = tf.reshape(t_x_type,[-1])\n",
    "# t_type_features = tf.one_hot(t_x_type_flat, depth=n_type)\n",
    "\n",
    "# t_tok_features = tf.concat((t_word_features,t_pos_features,t_type_features),axis=1)\n",
    "# t_tok_features = tf.concat((t_word_features,t_pos_features),axis=1, name='tok_features')\n",
    "t_tok_features = tf.concat((t_word_features, \n",
    "                            t_ctx_pm_features, t_ctx_p0_features, t_ctx_pp_features, \n",
    "                            t_pos_features, t_x_marker),axis=1, name='tok_features')\n",
    "\n",
    "# a partir das features do intervalo computamos o score\n",
    "t_scores = tf.matmul(t_tok_features, t_W_interval, name='xW') + t_b_interval\n",
    "\n",
    "t_pred = tf.argmax(t_scores, axis=1, name='t_pred')"
   ]
  },
  {
   "cell_type": "markdown",
   "metadata": {},
   "source": [
    " ## Tensorflow test session"
   ]
  },
  {
   "cell_type": "code",
   "execution_count": 48,
   "metadata": {},
   "outputs": [
    {
     "name": "stdout",
     "output_type": "stream",
     "text": [
      "(33, 226)\n"
     ]
    }
   ],
   "source": [
    "propid  = 1\n",
    "words, ctx_pm, ctx_p0, ctx_pp, marker, gpos, chunk_type, chunk_start, chunk_finish = get_inputs(prop_dict1, propid)\n",
    "y = get_outputs(prop_dict1, propid)\n",
    "\n",
    "with tf.Session() as sess:\n",
    "    sess.run(tf.global_variables_initializer())\n",
    "    a = sess.run(t_tok_features, feed_dict={\n",
    "        t_x_words:words,\n",
    "        t_x_ctx_pm: ctx_pm,\n",
    "        t_x_ctx_p0: ctx_p0,\n",
    "        t_x_ctx_pp: ctx_pp,        \n",
    "        t_x_marker: marker,                \n",
    "        t_x_pos:gpos\n",
    "    })\n",
    "print(a.shape)"
   ]
  },
  {
   "cell_type": "code",
   "execution_count": 53,
   "metadata": {},
   "outputs": [],
   "source": [
    "def pred(sess, x_words, x_ctx_pm, x_ctx_p0, x_ctx_pp, x_marker, x_pos):\n",
    "    result = sess.run(t_pred,feed_dict={\n",
    "        t_x_words: x_words,\n",
    "        t_x_ctx_pm: x_ctx_pm,\n",
    "        t_x_ctx_p0: x_ctx_p0,\n",
    "        t_x_ctx_pp: x_ctx_pp,        \n",
    "        t_x_marker: x_marker,                \n",
    "        t_x_pos:x_pos\n",
    "    })\n",
    "    return result"
   ]
  },
  {
   "cell_type": "code",
   "execution_count": 54,
   "metadata": {
    "collapsed": true
   },
   "outputs": [],
   "source": [
    "# índices dos intervalos computados pelo Weighted Interval Scheduling\n",
    "t_p = tf.placeholder(tf.int32, shape=(None,), name='predictions')\n",
    "# índices dos intervalos corretos\n",
    "t_y = tf.placeholder(tf.int32, shape=(None,), name='y')\n",
    "t_len = tf.placeholder(tf.int32, shape=(), name='proplen')\n",
    "t_indices = tf.to_int32(tf.range(t_len), name='indices')\n",
    "\n",
    "# score da estrutura predita\n",
    "t_scores_p = tf.gather_nd(t_scores, tf.stack((t_indices, t_p),-1), name='predicted_score')\n",
    "# score da estrutura correta\n",
    "t_scores_y = tf.gather_nd(t_scores, tf.stack((t_indices,t_y),-1), name='target_score')\n",
    "\n",
    "# função de custo do perceptron estruturado\n",
    "t_cost = tf.reduce_sum(t_scores_p) - tf.reduce_sum(t_scores_y)\n",
    "\n",
    "# gradiente descendente no custo do perceptron estruturado\n",
    "optimizer = tf.train.GradientDescentOptimizer(0.01)\n",
    "train = optimizer.minimize(t_cost)"
   ]
  },
  {
   "cell_type": "code",
   "execution_count": 56,
   "metadata": {},
   "outputs": [
    {
     "name": "stdout",
     "output_type": "stream",
     "text": [
      "(33,)\n",
      "33\n"
     ]
    }
   ],
   "source": [
    "# x_words, x_pos, x_types = get_input_features(df_chunk,train_sentences[10],word_to_id, pos_to_id, type_to_id)\n",
    "# y_ck_ids = get_output_features(df_chunk, train_sentences[10], target_to_id)\n",
    "\n",
    "prop_id = 1\n",
    "words, ctx_pm, ctx_p0, ctx_pp, marker, gpos, chunk_type, chunk_start, chunk_finish = get_inputs(prop_dict1, propid)\n",
    "y = get_outputs(prop_dict1, propid)\n",
    "\n",
    "sess = tf.Session()\n",
    "sess.run(tf.global_variables_initializer())\n",
    "predictions = pred(sess, words, ctx_pm, ctx_p0, ctx_pp, marker, gpos)\n",
    "print(y.shape)\n",
    "print(len(predictions))"
   ]
  },
  {
   "cell_type": "markdown",
   "metadata": {},
   "source": [
    " ## Can it memorize ?"
   ]
  },
  {
   "cell_type": "code",
   "execution_count": 59,
   "metadata": {},
   "outputs": [
    {
     "name": "stdout",
     "output_type": "stream",
     "text": [
      "0.0606060606061   0.0\n",
      "0.939393939394   0.17409\n",
      "1.0   0.0\n"
     ]
    }
   ],
   "source": [
    "for i in range(10000):\n",
    "    \n",
    "    predictions = pred(sess, words, ctx_pm, ctx_p0, ctx_pp, marker, gpos)\n",
    "    \n",
    "    \n",
    "    _, cost = sess.run([train, t_cost], feed_dict={\n",
    "        t_x_words: words,\n",
    "        t_x_ctx_pm: ctx_pm,\n",
    "        t_x_ctx_p0: ctx_p0,\n",
    "        t_x_ctx_pp: ctx_pp,        \n",
    "        t_x_marker: marker,        \n",
    "        t_x_pos: gpos,\n",
    "        t_p: predictions,\n",
    "        t_len: proplen_dict[propid],\n",
    "        t_y:y})\n",
    "\n",
    "\n",
    "    if i % 100 == 0:\n",
    "        err = np.sum(y.flatten() != predictions.flatten())\n",
    "        acc = 1 - err/len(predictions.flatten())\n",
    "        print(acc, ' ', cost)\n",
    "        if acc == 1:\n",
    "            break"
   ]
  },
  {
   "cell_type": "markdown",
   "metadata": {},
   "source": [
    " ## The model reproduces the sentence"
   ]
  },
  {
   "cell_type": "code",
   "execution_count": 61,
   "metadata": {},
   "outputs": [
    {
     "name": "stdout",
     "output_type": "stream",
     "text": [
      "[ 0  1  1  1 35  2  2  2  2  2  2  2  2  2  2  2  2  2  2  2  2  2  2  2  2\n",
      "  2  2  2  2  2  2  2  0]\n",
      "\n",
      "[ 0  1  1  1 35  2  2  2  2  2  2  2  2  2  2  2  2  2  2  2  2  2  2  2  2\n",
      "  2  2  2  2  2  2  2  0]\n"
     ]
    }
   ],
   "source": [
    "p = sess.run(t_pred, \n",
    "             feed_dict={\n",
    "                t_x_words: words,\n",
    "                t_x_ctx_pm: ctx_pm,\n",
    "                t_x_ctx_p0: ctx_p0,\n",
    "                t_x_ctx_pp: ctx_pp,        \n",
    "                t_x_marker: marker,        \n",
    "                t_x_pos: gpos\n",
    "             })\n",
    "print(p)\n",
    "print()\n",
    "print(y)"
   ]
  },
  {
   "cell_type": "markdown",
   "metadata": {},
   "source": [
    "## Training"
   ]
  },
  {
   "cell_type": "code",
   "execution_count": null,
   "metadata": {},
   "outputs": [
    {
     "name": "stderr",
     "output_type": "stream",
     "text": [
      "100%|██████████| 5099/5099 [00:15<00:00, 331.30it/s]\n",
      "  1%|          | 35/5099 [00:00<00:14, 345.12it/s]"
     ]
    },
    {
     "name": "stdout",
     "output_type": "stream",
     "text": [
      "epoch  0  acc:  0.431502701131\n"
     ]
    },
    {
     "name": "stderr",
     "output_type": "stream",
     "text": [
      "100%|██████████| 5099/5099 [00:14<00:00, 353.68it/s]\n",
      "  1%|          | 33/5099 [00:00<00:15, 327.45it/s]"
     ]
    },
    {
     "name": "stdout",
     "output_type": "stream",
     "text": [
      "epoch  1  acc:  0.481075930457\n"
     ]
    },
    {
     "name": "stderr",
     "output_type": "stream",
     "text": [
      "100%|██████████| 5099/5099 [00:14<00:00, 359.28it/s]\n",
      "  1%|          | 33/5099 [00:00<00:15, 322.91it/s]"
     ]
    },
    {
     "name": "stdout",
     "output_type": "stream",
     "text": [
      "epoch  2  acc:  0.510679360773\n"
     ]
    },
    {
     "name": "stderr",
     "output_type": "stream",
     "text": [
      "100%|██████████| 5099/5099 [00:14<00:00, 353.95it/s]\n",
      "  1%|          | 28/5099 [00:00<00:18, 277.95it/s]"
     ]
    },
    {
     "name": "stdout",
     "output_type": "stream",
     "text": [
      "epoch  3  acc:  0.540581570936\n"
     ]
    },
    {
     "name": "stderr",
     "output_type": "stream",
     "text": [
      "100%|██████████| 5099/5099 [00:14<00:00, 350.99it/s]\n",
      "  1%|          | 36/5099 [00:00<00:14, 353.54it/s]"
     ]
    },
    {
     "name": "stdout",
     "output_type": "stream",
     "text": [
      "epoch  4  acc:  0.560494844029\n"
     ]
    },
    {
     "name": "stderr",
     "output_type": "stream",
     "text": [
      "100%|██████████| 5099/5099 [00:14<00:00, 346.20it/s]\n",
      "  1%|          | 34/5099 [00:00<00:15, 335.46it/s]"
     ]
    },
    {
     "name": "stdout",
     "output_type": "stream",
     "text": [
      "epoch  5  acc:  0.579495627317\n"
     ]
    },
    {
     "name": "stderr",
     "output_type": "stream",
     "text": [
      "100%|██████████| 5099/5099 [00:14<00:00, 355.57it/s]\n",
      "  1%|          | 35/5099 [00:00<00:14, 343.04it/s]"
     ]
    },
    {
     "name": "stdout",
     "output_type": "stream",
     "text": [
      "epoch  6  acc:  0.592004005265\n"
     ]
    },
    {
     "name": "stderr",
     "output_type": "stream",
     "text": [
      "100%|██████████| 5099/5099 [00:14<00:00, 348.46it/s]\n",
      "  1%|          | 32/5099 [00:00<00:15, 318.05it/s]"
     ]
    },
    {
     "name": "stdout",
     "output_type": "stream",
     "text": [
      "epoch  7  acc:  0.605392572494\n"
     ]
    },
    {
     "name": "stderr",
     "output_type": "stream",
     "text": [
      "100%|██████████| 5099/5099 [00:14<00:00, 356.93it/s]\n",
      "  1%|          | 34/5099 [00:00<00:15, 333.71it/s]"
     ]
    },
    {
     "name": "stdout",
     "output_type": "stream",
     "text": [
      "epoch  8  acc:  0.614339817664\n"
     ]
    },
    {
     "name": "stderr",
     "output_type": "stream",
     "text": [
      "100%|██████████| 5099/5099 [00:14<00:00, 356.24it/s]\n",
      "  1%|          | 29/5099 [00:00<00:17, 285.41it/s]"
     ]
    },
    {
     "name": "stdout",
     "output_type": "stream",
     "text": [
      "epoch  9  acc:  0.617464893368\n"
     ]
    },
    {
     "name": "stderr",
     "output_type": "stream",
     "text": [
      "100%|██████████| 5099/5099 [00:14<00:00, 354.75it/s]\n",
      "  1%|          | 31/5099 [00:00<00:16, 302.88it/s]"
     ]
    },
    {
     "name": "stdout",
     "output_type": "stream",
     "text": [
      "epoch  10  acc:  0.625120117574\n"
     ]
    },
    {
     "name": "stderr",
     "output_type": "stream",
     "text": [
      "100%|██████████| 5099/5099 [00:14<00:00, 353.47it/s]\n",
      "  1%|          | 29/5099 [00:00<00:17, 287.39it/s]"
     ]
    },
    {
     "name": "stdout",
     "output_type": "stream",
     "text": [
      "epoch  11  acc:  0.640745496096\n"
     ]
    },
    {
     "name": "stderr",
     "output_type": "stream",
     "text": [
      "100%|██████████| 5099/5099 [00:14<00:00, 347.79it/s]\n",
      "  1%|          | 34/5099 [00:00<00:14, 338.24it/s]"
     ]
    },
    {
     "name": "stdout",
     "output_type": "stream",
     "text": [
      "epoch  12  acc:  0.641674136163\n"
     ]
    },
    {
     "name": "stderr",
     "output_type": "stream",
     "text": [
      "100%|██████████| 5099/5099 [00:14<00:00, 351.27it/s]\n",
      "  1%|          | 33/5099 [00:00<00:15, 323.19it/s]"
     ]
    },
    {
     "name": "stdout",
     "output_type": "stream",
     "text": [
      "epoch  13  acc:  0.639784555504\n"
     ]
    },
    {
     "name": "stderr",
     "output_type": "stream",
     "text": [
      "100%|██████████| 5099/5099 [00:14<00:00, 355.64it/s]\n",
      "  1%|          | 31/5099 [00:00<00:16, 303.36it/s]"
     ]
    },
    {
     "name": "stdout",
     "output_type": "stream",
     "text": [
      "epoch  14  acc:  0.646365787285\n"
     ]
    },
    {
     "name": "stderr",
     "output_type": "stream",
     "text": [
      "100%|██████████| 5099/5099 [00:14<00:00, 359.32it/s]\n",
      "  1%|          | 35/5099 [00:00<00:14, 349.14it/s]"
     ]
    },
    {
     "name": "stdout",
     "output_type": "stream",
     "text": [
      "epoch  15  acc:  0.65076673369\n"
     ]
    },
    {
     "name": "stderr",
     "output_type": "stream",
     "text": [
      "100%|██████████| 5099/5099 [00:14<00:00, 358.39it/s]\n",
      "  1%|          | 30/5099 [00:00<00:17, 292.61it/s]"
     ]
    },
    {
     "name": "stdout",
     "output_type": "stream",
     "text": [
      "epoch  16  acc:  0.658438108158\n"
     ]
    },
    {
     "name": "stderr",
     "output_type": "stream",
     "text": [
      "100%|██████████| 5099/5099 [00:14<00:00, 359.33it/s]\n",
      "  1%|          | 31/5099 [00:00<00:16, 302.79it/s]"
     ]
    },
    {
     "name": "stdout",
     "output_type": "stream",
     "text": [
      "epoch  17  acc:  0.659649377811\n"
     ]
    },
    {
     "name": "stderr",
     "output_type": "stream",
     "text": [
      "100%|██████████| 5099/5099 [00:15<00:00, 331.04it/s]\n",
      "  1%|          | 33/5099 [00:00<00:15, 328.21it/s]"
     ]
    },
    {
     "name": "stdout",
     "output_type": "stream",
     "text": [
      "epoch  18  acc:  0.665810702779\n"
     ]
    },
    {
     "name": "stderr",
     "output_type": "stream",
     "text": [
      "100%|██████████| 5099/5099 [00:14<00:00, 361.88it/s]\n",
      "  1%|          | 30/5099 [00:00<00:17, 296.60it/s]"
     ]
    },
    {
     "name": "stdout",
     "output_type": "stream",
     "text": [
      "epoch  19  acc:  0.676502176248\n"
     ]
    },
    {
     "name": "stderr",
     "output_type": "stream",
     "text": [
      "100%|██████████| 5099/5099 [00:14<00:00, 357.90it/s]\n",
      "  1%|          | 36/5099 [00:00<00:14, 354.54it/s]"
     ]
    },
    {
     "name": "stdout",
     "output_type": "stream",
     "text": [
      "epoch  20  acc:  0.676623303213\n"
     ]
    },
    {
     "name": "stderr",
     "output_type": "stream",
     "text": [
      "100%|██████████| 5099/5099 [00:14<00:00, 358.16it/s]\n",
      "  1%|          | 36/5099 [00:00<00:14, 353.77it/s]"
     ]
    },
    {
     "name": "stdout",
     "output_type": "stream",
     "text": [
      "epoch  21  acc:  0.674556069672\n"
     ]
    },
    {
     "name": "stderr",
     "output_type": "stream",
     "text": [
      "100%|██████████| 5099/5099 [00:14<00:00, 358.13it/s]\n",
      "  1%|          | 27/5099 [00:00<00:19, 264.66it/s]"
     ]
    },
    {
     "name": "stdout",
     "output_type": "stream",
     "text": [
      "epoch  22  acc:  0.679158894353\n"
     ]
    },
    {
     "name": "stderr",
     "output_type": "stream",
     "text": [
      "100%|██████████| 5099/5099 [00:14<00:00, 358.89it/s]\n",
      "  1%|          | 34/5099 [00:00<00:15, 337.21it/s]"
     ]
    },
    {
     "name": "stdout",
     "output_type": "stream",
     "text": [
      "epoch  23  acc:  0.683939371916\n"
     ]
    },
    {
     "name": "stderr",
     "output_type": "stream",
     "text": [
      "100%|██████████| 5099/5099 [00:14<00:00, 343.42it/s]\n",
      "  1%|          | 37/5099 [00:00<00:14, 361.53it/s]"
     ]
    },
    {
     "name": "stdout",
     "output_type": "stream",
     "text": [
      "epoch  24  acc:  0.684359278729\n"
     ]
    },
    {
     "name": "stderr",
     "output_type": "stream",
     "text": [
      "100%|██████████| 5099/5099 [00:15<00:00, 325.83it/s]\n",
      "  1%|          | 28/5099 [00:00<00:18, 276.34it/s]"
     ]
    },
    {
     "name": "stdout",
     "output_type": "stream",
     "text": [
      "epoch  25  acc:  0.680200586255\n"
     ]
    },
    {
     "name": "stderr",
     "output_type": "stream",
     "text": [
      "100%|██████████| 5099/5099 [00:16<00:00, 318.51it/s]\n",
      "  1%|          | 35/5099 [00:00<00:14, 345.22it/s]"
     ]
    },
    {
     "name": "stdout",
     "output_type": "stream",
     "text": [
      "epoch  26  acc:  0.691546145336\n"
     ]
    },
    {
     "name": "stderr",
     "output_type": "stream",
     "text": [
      "100%|██████████| 5099/5099 [00:15<00:00, 339.87it/s]\n",
      "  1%|          | 26/5099 [00:00<00:19, 257.60it/s]"
     ]
    },
    {
     "name": "stdout",
     "output_type": "stream",
     "text": [
      "epoch  27  acc:  0.689543512843\n"
     ]
    },
    {
     "name": "stderr",
     "output_type": "stream",
     "text": [
      " 97%|█████████▋| 4959/5099 [00:14<00:00, 349.33it/s]"
     ]
    }
   ],
   "source": [
    "sess= tf.Session()\n",
    "sess.run(tf.global_variables_initializer())\n",
    "\n",
    "epochs = 30\n",
    "for i in range(epochs):\n",
    "    total_err = 0\n",
    "    total_size = 0\n",
    "    nprops = len(proplen_dict)\n",
    "    for propid in tqdm.tqdm(range(1, nprops + 1)):\n",
    "        words, ctx_pm, ctx_p0, ctx_pp, marker, gpos, chunk_type, chunk_start, chunk_finish = get_inputs(prop_dict1,  propid)\n",
    "        y = get_outputs(prop_dict1, propid)\n",
    "\n",
    "        predictions = pred(sess, words, ctx_pm, ctx_p0, ctx_pp, marker, gpos)\n",
    "\n",
    "        _, cost = sess.run([train, t_cost], feed_dict={\n",
    "            t_x_words:words,\n",
    "            t_x_ctx_pm: ctx_pm,\n",
    "            t_x_ctx_p0: ctx_p0,\n",
    "            t_x_ctx_pp: ctx_pp,        \n",
    "            t_x_marker: marker,\n",
    "            t_x_pos: gpos,\n",
    "            t_p:predictions,\n",
    "            t_len: proplen_dict[propid],\n",
    "            t_y:y})\n",
    "        total_err += np.sum(predictions.flatten()!=y.flatten())\n",
    "        total_size += len(predictions.flatten())\n",
    "\n",
    "    print('epoch ', i, ' acc: ', 1 - total_err/total_size)"
   ]
  },
  {
   "cell_type": "code",
   "execution_count": null,
   "metadata": {
    "collapsed": true
   },
   "outputs": [],
   "source": []
  }
 ],
 "metadata": {
  "kernelspec": {
   "display_name": "Python (tensorflow)",
   "language": "python",
   "name": "tensorflow"
  },
  "language_info": {
   "codemirror_mode": {
    "name": "ipython",
    "version": 3
   },
   "file_extension": ".py",
   "mimetype": "text/x-python",
   "name": "python",
   "nbconvert_exporter": "python",
   "pygments_lexer": "ipython3",
   "version": "3.6.3"
  }
 },
 "nbformat": 4,
 "nbformat_minor": 2
}
